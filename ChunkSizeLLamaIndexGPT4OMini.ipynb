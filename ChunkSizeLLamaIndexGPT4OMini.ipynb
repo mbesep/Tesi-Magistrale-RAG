{
 "cells": [
  {
   "cell_type": "code",
   "execution_count": null,
   "id": "15156afd-3725-4cbd-b799-3566d0ace0f8",
   "metadata": {
    "tags": []
   },
   "outputs": [],
   "source": [
    "pip install llama-index-core llama-index-readers-file llama-index-llms-ollama llama-index-embeddings-huggingface"
   ]
  },
  {
   "cell_type": "code",
   "execution_count": null,
   "id": "6a4e3442-fdfa-444f-b37e-416b541417b3",
   "metadata": {
    "tags": []
   },
   "outputs": [],
   "source": [
    "pip install llama_index"
   ]
  },
  {
   "cell_type": "code",
   "execution_count": null,
   "id": "a58cf2a2-4ad8-4597-919e-57e1476fea9c",
   "metadata": {
    "tags": []
   },
   "outputs": [],
   "source": [
    "%pip install llama-index-embeddings-ollama"
   ]
  },
  {
   "cell_type": "code",
   "execution_count": null,
   "id": "df58b8b5-609c-41cb-8759-372e50fc8e5e",
   "metadata": {
    "tags": []
   },
   "outputs": [],
   "source": [
    "pip install spacy"
   ]
  },
  {
   "cell_type": "code",
   "execution_count": null,
   "id": "92685af5-6b37-45a8-b93d-b4ea057b5c53",
   "metadata": {
    "tags": []
   },
   "outputs": [],
   "source": [
    "!pip install llama-index-llms-langchain"
   ]
  },
  {
   "cell_type": "code",
   "execution_count": null,
   "id": "b7cde393-75bd-48ac-8a38-971ec956bbe8",
   "metadata": {
    "tags": []
   },
   "outputs": [],
   "source": [
    "!pip install llama-index-embeddings-langchain"
   ]
  },
  {
   "cell_type": "code",
   "execution_count": 9,
   "id": "6ac89ee5-a697-4ed5-a10a-298c2f8e0218",
   "metadata": {
    "tags": []
   },
   "outputs": [],
   "source": [
    "import os\n",
    "#imposto la chiavi per i servizi che utilizzerò\n",
    "os.environ[\"GROQ_API_KEY\"] = \"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\"\n",
    "os.environ['LANGCHAIN_API_KEY'] = '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'\n",
    "os.environ[\"AZURE_OPENAI_API_KEY\"] = \"21a4eae201494ec581d92fbeb45891b3\" #Mbesi Open 9d7cdcf0ed72472dbf75f7e02a25d506 - # Mbesi est 21a4eae201494ec581d92fbeb45891b3"
   ]
  },
  {
   "cell_type": "code",
   "execution_count": 10,
   "id": "84dea8bb-3f19-4529-bdc4-0062b5297b27",
   "metadata": {
    "tags": []
   },
   "outputs": [],
   "source": [
    "azure_configs = {\n",
    "    \"base_url\": \"https://mbesiest.openai.azure.com/\", # Mbesi open https://mbesiopen.openai.azure.com/ - Mbesi est https://mbesiest.openai.azure.com/\n",
    "    \"model_deployment\": \"gpt-4o-mini\",\n",
    "    \"model_name\": \"gpt-4o-mini\",\n",
    "    \"embedding_deployment\": \"text-embedding-ada-002\",\n",
    "    \"embedding_name\": \"text-embedding-ada-002\",  # most likely  text-embedding-ada-002\n",
    "}"
   ]
  },
  {
   "cell_type": "code",
   "execution_count": 11,
   "id": "6069d03c-9840-492d-9d89-b5c63194a28a",
   "metadata": {
    "tags": []
   },
   "outputs": [],
   "source": [
    "from langchain_openai.chat_models import AzureChatOpenAI\n",
    "from langchain_openai.embeddings import AzureOpenAIEmbeddings\n",
    "from ragas import evaluate\n",
    "\n",
    "azure_model_GPT3 = AzureChatOpenAI(\n",
    "    openai_api_version=\"2024-06-01\",\n",
    "    azure_endpoint=azure_configs[\"base_url\"],\n",
    "    azure_deployment=\"gpt-35-turbo\",\n",
    "    model=\"gpt-35-turbo\",\n",
    "    validate_base_url=False,\n",
    ")\n",
    "azure_model_GPT4OMINI = AzureChatOpenAI(\n",
    "    openai_api_version=\"2024-06-01\",\n",
    "    azure_endpoint=azure_configs[\"base_url\"],\n",
    "    azure_deployment=azure_configs[\"model_deployment\"],\n",
    "    model=azure_configs[\"model_name\"],\n",
    "    validate_base_url=False,\n",
    ")\n",
    "\n",
    "# init the embeddings for answer_relevancy, answer_correctness and answer_similarity\n",
    "azure_embeddings = AzureOpenAIEmbeddings(\n",
    "    openai_api_version=\"2024-02-01\",\n",
    "    azure_endpoint=azure_configs[\"base_url\"],\n",
    "    azure_deployment=azure_configs[\"embedding_deployment\"],\n",
    "    model=azure_configs[\"embedding_name\"],\n",
    ")"
   ]
  },
  {
   "cell_type": "code",
   "execution_count": null,
   "id": "1c358ab0-0dbe-4f42-964b-3b680c925d7a",
   "metadata": {
    "tags": []
   },
   "outputs": [],
   "source": [
    "!pip install llama-index-llms-azure-openai"
   ]
  },
  {
   "cell_type": "code",
   "execution_count": 44,
   "id": "5ccf0a7f-165e-42ed-bdea-d9357bb60362",
   "metadata": {
    "tags": []
   },
   "outputs": [],
   "source": [
    "from llama_index.llms.azure_openai import AzureOpenAI\n",
    "\n",
    "aoai_api_key = \"21a4eae201494ec581d92fbeb45891b3\"\n",
    "aoai_endpoint = \"https://mbesiest.openai.azure.com/\"\n",
    "aoai_api_version = \"2024-06-01\"\n",
    "\n",
    "llmGPT4O = AzureOpenAI(\n",
    "    engine=\"gpt-4o-mini\",\n",
    "    model=\"gpt-4o-mini\",\n",
    "    api_key=aoai_api_key,\n",
    "    azure_endpoint=aoai_endpoint,\n",
    "    api_version=aoai_api_version,\n",
    ")"
   ]
  },
  {
   "cell_type": "code",
   "execution_count": 12,
   "id": "2b68fd44-4530-4cc8-b231-599093a54350",
   "metadata": {
    "tags": []
   },
   "outputs": [],
   "source": [
    "from llama_index.core import SimpleDirectoryReader"
   ]
  },
  {
   "cell_type": "code",
   "execution_count": 13,
   "id": "71d4cdbe-7e2f-4da9-a8f0-e48d1181a777",
   "metadata": {
    "tags": []
   },
   "outputs": [],
   "source": [
    "import nest_asyncio\n",
    "import openai\n",
    "import time\n",
    "\n",
    "nest_asyncio.apply()\n",
    "\n",
    "from llama_index.core import (\n",
    "    SimpleDirectoryReader,\n",
    "    VectorStoreIndex,\n",
    "    ServiceContext,\n",
    ")\n",
    "from llama_index.core.evaluation import ( DatasetGenerator, FaithfulnessEvaluator,  RelevancyEvaluator)\n",
    "from llama_index.llms.openai import OpenAI\n",
    "\n"
   ]
  },
  {
   "cell_type": "code",
   "execution_count": 14,
   "id": "8f2b88e7-88a7-4182-8dcc-b498a0694870",
   "metadata": {
    "tags": []
   },
   "outputs": [],
   "source": [
    "from llama_index.readers.file import (\n",
    "    PandasCSVReader,\n",
    "    CSVReader\n",
    ")\n",
    "# CSV Reader Llamaindex\n",
    "parser = CSVReader()\n",
    "file_extractor = {\".csv\": parser}  # Add other CSV formats as needed\n",
    "documents = SimpleDirectoryReader(\n",
    "    \"./documenti\", file_extractor=file_extractor\n",
    ").load_data()"
   ]
  },
  {
   "cell_type": "code",
   "execution_count": null,
   "id": "0a5ceaf5-b439-4fed-862e-3a10942eb0a9",
   "metadata": {
    "tags": []
   },
   "outputs": [],
   "source": [
    "documents"
   ]
  },
  {
   "cell_type": "code",
   "execution_count": 40,
   "id": "9e63256a-69fd-4fd7-a2de-7b6af3f23e88",
   "metadata": {
    "tags": []
   },
   "outputs": [],
   "source": [
    "from llama_index.llms.ollama import Ollama\n",
    "\n",
    "llama = Ollama(model=\"llama3.1\", request_timeout=120.0)"
   ]
  },
  {
   "cell_type": "code",
   "execution_count": 13,
   "id": "b872fbe1-a709-4ac5-bc57-3dc09638b459",
   "metadata": {
    "tags": []
   },
   "outputs": [],
   "source": [
    "from llama_index.embeddings.ollama import OllamaEmbedding\n",
    "\n",
    "emb_ollama = OllamaEmbedding(model_name=\"nomic-embed-text\")"
   ]
  },
  {
   "cell_type": "markdown",
   "id": "22f8716e-9ffa-4a56-9561-11260c54cb25",
   "metadata": {},
   "source": [
    "### VECCHIO METODO DELLA LIBRERIA"
   ]
  },
  {
   "cell_type": "code",
   "execution_count": null,
   "id": "0fc6773a-05e7-45c3-9d52-21ef7065d7f5",
   "metadata": {
    "tags": []
   },
   "outputs": [],
   "source": [
    "from llama_index.core.evaluation import FaithfulnessEvaluator, RelevancyEvaluator\n",
    "\n",
    "# Per valutare le dimensioni di ciascun chunk, genereremo prima un insieme di 40 domande dalle prime 20 pagine..\n",
    "eval_documents = documents[:20]\n",
    "data_generator = DatasetGenerator.from_documents(documents, llm=azure_model_GPT4OMINI)\n",
    "eval_questions = data_generator.generate_questions_from_nodes(num = 20)\n",
    "\n",
    "\n",
    "# Define Faithfulness and Relevancy Evaluators which are based on GPT-4\n",
    "faithfulness_gpt4 = FaithfulnessEvaluator(llm=llmGPT4O)\n",
    "relevancy_gpt4 = RelevancyEvaluator(llm=llmGPT4O)\n"
   ]
  },
  {
   "cell_type": "code",
   "execution_count": 28,
   "id": "5e982436-8879-46b1-818b-1a12e7cce4cf",
   "metadata": {
    "tags": []
   },
   "outputs": [
    {
     "data": {
      "text/plain": [
       "['Sure! Here are 10 questions based on the provided context:',\n",
       " '**True or False:** A brief episode of affanno after a walk always indicates a serious health issue.',\n",
       " '**Multiple Choice:** What should you do if you experience persisting affanno after physical activity?',\n",
       " '- A) Ignore it',\n",
       " '- B) Consult a doctor',\n",
       " '- C) Increase exercise intensity',\n",
       " '- D) Change your diet',\n",
       " '**Short Answer:** What factors should be considered when evaluating a brief episode of affanno after a walk?',\n",
       " \"**Fill in the Blank:** If you experience affanno that is accompanied by ________ or ________, it's important to seek medical attention immediately.\",\n",
       " '**Essay:** Discuss the importance of monitoring symptoms like affanno after physical activity and the potential implications for cardiovascular health.',\n",
       " '**True or False:** It is normal to experience a slight affanno after a walk, especially if one is not accustomed to regular exercise.',\n",
       " '**Multiple Choice:** Which of the following symptoms should prompt immediate consultation with a doctor?',\n",
       " '- A) Slight fatigue',\n",
       " '- B) Pain in the chest',\n",
       " '- C) Minor breathlessness',\n",
       " '- D) Increased heart rate',\n",
       " '**Short Answer:** Why is it advisable to consult a doctor if affanno persists or worsens?',\n",
       " '**Fill in the Blank:** Feeling ________ or experiencing ________ after increased physical activity can be a sign of underlying health issues.',\n",
       " '**Essay:** Evaluate how individual factors, such as age and fitness level, influence the interpretation of affanno experienced after a walk.',\n",
       " 'Sure! Here are 10 questions based on the provided context:']"
      ]
     },
     "execution_count": 28,
     "metadata": {},
     "output_type": "execute_result"
    }
   ],
   "source": [
    "eval_questions"
   ]
  },
  {
   "cell_type": "markdown",
   "id": "239ee312-c782-4eee-8c65-34bfd4b5f3fa",
   "metadata": {
    "tags": []
   },
   "source": [
    " ### NUOVO METODO DELLA LIBRERIA"
   ]
  },
  {
   "cell_type": "code",
   "execution_count": null,
   "id": "494d27f8-b71b-4ad4-86b3-a1f8d2ca2bc9",
   "metadata": {
    "tags": []
   },
   "outputs": [],
   "source": [
    "from llama_index.core.llama_dataset.generator import RagDatasetGenerator , LabelledRagDataset\n",
    "from llama_index.core import Settings\n",
    "from llama_index.core.evaluation import FaithfulnessEvaluator, RelevancyEvaluator\n",
    "\n",
    "# Supponendo che `documents` e `gpt4` siano già definiti\n",
    "\n",
    "# Utilizzare le prime 20 pagine per la valutazione\n",
    "eval_documents = documents[:20]\n",
    "\n",
    "# Generare un set di 40 domande dalle prime 20 pagine utilizzando il nuovo RagDatasetGenerator\n",
    "#data_generator = RagDatasetGenerator.from_documents(documents, llm=llama)\n",
    "#eval_questions = data_generator.generate_questions_from_nodes(num=40)\n",
    "\n",
    "dataset_generator = RagDatasetGenerator.from_documents(\n",
    "    eval_documents,\n",
    "    llm=llmGPT4O,\n",
    "    num_questions_per_chunk=2,  # set the number of questions per nodes\n",
    "    show_progress=True,\n",
    ")\n",
    "\n",
    "rag_dataset = dataset_generator.generate_dataset_from_nodes()\n",
    "\n",
    "# Definire gli Evaluatori di Accuratezza e Rilevanza basati su GPT-4\n",
    "faithfulness_gpt4 = FaithfulnessEvaluator(llm=llmGPT4O)\n",
    "relevancy_gpt4 = RelevancyEvaluator(llm=llmGPT4O)\n"
   ]
  },
  {
   "cell_type": "code",
   "execution_count": 76,
   "id": "268e4897-3c38-469a-b9a1-7dfc26f86ae2",
   "metadata": {
    "tags": []
   },
   "outputs": [],
   "source": [
    "import pickle\n",
    "# Salva resultsDict su un file per poter riaccedere successivamente\n",
    "with open('rag_dataset.pkl', 'wb') as f: #Cambianome per salvare più modelli \n",
    "    pickle.dump(rag_dataset, f)"
   ]
  },
  {
   "cell_type": "code",
   "execution_count": null,
   "id": "a8285f45-148a-49cb-9142-22204d7dba56",
   "metadata": {},
   "outputs": [],
   "source": [
    "# Se lo voglio caricare\n",
    "with open('rag_dataset.pkl', 'rb') as f:\n",
    "    rag_dataset = pickle.load(f)"
   ]
  },
  {
   "cell_type": "code",
   "execution_count": null,
   "id": "667ce6d9-e30d-40c7-aea4-ece9df9f3627",
   "metadata": {
    "tags": []
   },
   "outputs": [],
   "source": [
    "rag_dataset"
   ]
  },
  {
   "cell_type": "code",
   "execution_count": 59,
   "id": "e4af9739-4c21-434f-817f-8eb7c5cd1fe1",
   "metadata": {
    "tags": []
   },
   "outputs": [
    {
     "data": {
      "text/html": [
       "<div>\n",
       "<style scoped>\n",
       "    .dataframe tbody tr th:only-of-type {\n",
       "        vertical-align: middle;\n",
       "    }\n",
       "\n",
       "    .dataframe tbody tr th {\n",
       "        vertical-align: top;\n",
       "    }\n",
       "\n",
       "    .dataframe thead th {\n",
       "        text-align: right;\n",
       "    }\n",
       "</style>\n",
       "<table border=\"1\" class=\"dataframe\">\n",
       "  <thead>\n",
       "    <tr style=\"text-align: right;\">\n",
       "      <th></th>\n",
       "      <th>query</th>\n",
       "      <th>reference_contexts</th>\n",
       "      <th>reference_answer</th>\n",
       "      <th>reference_answer_by</th>\n",
       "      <th>query_by</th>\n",
       "    </tr>\n",
       "  </thead>\n",
       "  <tbody>\n",
       "    <tr>\n",
       "      <th>0</th>\n",
       "      <td>Quali fattori dovresti considerare se hai sper...</td>\n",
       "      <td>[﻿DOMANDE;RISPOSTE\\nHo avuto un breve affanno ...</td>\n",
       "      <td>Se hai sperimentato un breve episodio di affan...</td>\n",
       "      <td>ai (gpt-4o-mini)</td>\n",
       "      <td>ai (gpt-4o-mini)</td>\n",
       "    </tr>\n",
       "    <tr>\n",
       "      <th>1</th>\n",
       "      <td>In quali circostanze è consigliabile consultar...</td>\n",
       "      <td>[﻿DOMANDE;RISPOSTE\\nHo avuto un breve affanno ...</td>\n",
       "      <td>È consigliabile consultare un medico dopo aver...</td>\n",
       "      <td>ai (gpt-4o-mini)</td>\n",
       "      <td>ai (gpt-4o-mini)</td>\n",
       "    </tr>\n",
       "    <tr>\n",
       "      <th>2</th>\n",
       "      <td>Quali sono i principali fattori che possono co...</td>\n",
       "      <td>[Devo preoccuparmi se ho avuto un leggero affa...</td>\n",
       "      <td>I principali fattori che possono contribuire a...</td>\n",
       "      <td>ai (gpt-4o-mini)</td>\n",
       "      <td>ai (gpt-4o-mini)</td>\n",
       "    </tr>\n",
       "    <tr>\n",
       "      <th>3</th>\n",
       "      <td>È normale sentirsi affaticati dopo una cammina...</td>\n",
       "      <td>[Devo preoccuparmi se ho avuto un leggero affa...</td>\n",
       "      <td>Sì, è normale sentirsi affaticati dopo una cam...</td>\n",
       "      <td>ai (gpt-4o-mini)</td>\n",
       "      <td>ai (gpt-4o-mini)</td>\n",
       "    </tr>\n",
       "    <tr>\n",
       "      <th>4</th>\n",
       "      <td>Quali sono i principali fattori che possono co...</td>\n",
       "      <td>[Quali sono i fattori che contribuiscono all'i...</td>\n",
       "      <td>I principali fattori che possono contribuire a...</td>\n",
       "      <td>ai (gpt-4o-mini)</td>\n",
       "      <td>ai (gpt-4o-mini)</td>\n",
       "    </tr>\n",
       "    <tr>\n",
       "      <th>...</th>\n",
       "      <td>...</td>\n",
       "      <td>...</td>\n",
       "      <td>...</td>\n",
       "      <td>...</td>\n",
       "      <td>...</td>\n",
       "    </tr>\n",
       "    <tr>\n",
       "      <th>335</th>\n",
       "      <td>In che modo l'ascolto di musica rilassante può...</td>\n",
       "      <td>[;Le tecniche di respirazione profonda e medit...</td>\n",
       "      <td>L'ascolto di musica rilassante può influenzare...</td>\n",
       "      <td>ai (gpt-4o-mini)</td>\n",
       "      <td>ai (gpt-4o-mini)</td>\n",
       "    </tr>\n",
       "    <tr>\n",
       "      <th>336</th>\n",
       "      <td>Quali sono alcuni dei benefici dell'ascolto di...</td>\n",
       "      <td>[;La musica classica,  il jazz,  e certe forme...</td>\n",
       "      <td>L'ascolto di musica rilassante offre diversi b...</td>\n",
       "      <td>ai (gpt-4o-mini)</td>\n",
       "      <td>ai (gpt-4o-mini)</td>\n",
       "    </tr>\n",
       "    <tr>\n",
       "      <th>337</th>\n",
       "      <td>In quali situazioni è normale osservare un aum...</td>\n",
       "      <td>[;La musica classica,  il jazz,  e certe forme...</td>\n",
       "      <td>È normale osservare un aumento della frequenza...</td>\n",
       "      <td>ai (gpt-4o-mini)</td>\n",
       "      <td>ai (gpt-4o-mini)</td>\n",
       "    </tr>\n",
       "    <tr>\n",
       "      <th>338</th>\n",
       "      <td>In quali circostanze un battito cardiaco accel...</td>\n",
       "      <td>[Una frequenza cardiaca elevata indica sempre ...</td>\n",
       "      <td>Un battito cardiaco accelerato è considerato n...</td>\n",
       "      <td>ai (gpt-4o-mini)</td>\n",
       "      <td>ai (gpt-4o-mini)</td>\n",
       "    </tr>\n",
       "    <tr>\n",
       "      <th>339</th>\n",
       "      <td>Quando dovrebbe una frequenza cardiaca alta es...</td>\n",
       "      <td>[Una frequenza cardiaca elevata indica sempre ...</td>\n",
       "      <td>Una frequenza cardiaca alta dovrebbe essere mo...</td>\n",
       "      <td>ai (gpt-4o-mini)</td>\n",
       "      <td>ai (gpt-4o-mini)</td>\n",
       "    </tr>\n",
       "  </tbody>\n",
       "</table>\n",
       "<p>340 rows × 5 columns</p>\n",
       "</div>"
      ],
      "text/plain": [
       "                                                 query   \n",
       "0    Quali fattori dovresti considerare se hai sper...  \\\n",
       "1    In quali circostanze è consigliabile consultar...   \n",
       "2    Quali sono i principali fattori che possono co...   \n",
       "3    È normale sentirsi affaticati dopo una cammina...   \n",
       "4    Quali sono i principali fattori che possono co...   \n",
       "..                                                 ...   \n",
       "335  In che modo l'ascolto di musica rilassante può...   \n",
       "336  Quali sono alcuni dei benefici dell'ascolto di...   \n",
       "337  In quali situazioni è normale osservare un aum...   \n",
       "338  In quali circostanze un battito cardiaco accel...   \n",
       "339  Quando dovrebbe una frequenza cardiaca alta es...   \n",
       "\n",
       "                                    reference_contexts   \n",
       "0    [﻿DOMANDE;RISPOSTE\\nHo avuto un breve affanno ...  \\\n",
       "1    [﻿DOMANDE;RISPOSTE\\nHo avuto un breve affanno ...   \n",
       "2    [Devo preoccuparmi se ho avuto un leggero affa...   \n",
       "3    [Devo preoccuparmi se ho avuto un leggero affa...   \n",
       "4    [Quali sono i fattori che contribuiscono all'i...   \n",
       "..                                                 ...   \n",
       "335  [;Le tecniche di respirazione profonda e medit...   \n",
       "336  [;La musica classica,  il jazz,  e certe forme...   \n",
       "337  [;La musica classica,  il jazz,  e certe forme...   \n",
       "338  [Una frequenza cardiaca elevata indica sempre ...   \n",
       "339  [Una frequenza cardiaca elevata indica sempre ...   \n",
       "\n",
       "                                      reference_answer reference_answer_by   \n",
       "0    Se hai sperimentato un breve episodio di affan...    ai (gpt-4o-mini)  \\\n",
       "1    È consigliabile consultare un medico dopo aver...    ai (gpt-4o-mini)   \n",
       "2    I principali fattori che possono contribuire a...    ai (gpt-4o-mini)   \n",
       "3    Sì, è normale sentirsi affaticati dopo una cam...    ai (gpt-4o-mini)   \n",
       "4    I principali fattori che possono contribuire a...    ai (gpt-4o-mini)   \n",
       "..                                                 ...                 ...   \n",
       "335  L'ascolto di musica rilassante può influenzare...    ai (gpt-4o-mini)   \n",
       "336  L'ascolto di musica rilassante offre diversi b...    ai (gpt-4o-mini)   \n",
       "337  È normale osservare un aumento della frequenza...    ai (gpt-4o-mini)   \n",
       "338  Un battito cardiaco accelerato è considerato n...    ai (gpt-4o-mini)   \n",
       "339  Una frequenza cardiaca alta dovrebbe essere mo...    ai (gpt-4o-mini)   \n",
       "\n",
       "             query_by  \n",
       "0    ai (gpt-4o-mini)  \n",
       "1    ai (gpt-4o-mini)  \n",
       "2    ai (gpt-4o-mini)  \n",
       "3    ai (gpt-4o-mini)  \n",
       "4    ai (gpt-4o-mini)  \n",
       "..                ...  \n",
       "335  ai (gpt-4o-mini)  \n",
       "336  ai (gpt-4o-mini)  \n",
       "337  ai (gpt-4o-mini)  \n",
       "338  ai (gpt-4o-mini)  \n",
       "339  ai (gpt-4o-mini)  \n",
       "\n",
       "[340 rows x 5 columns]"
      ]
     },
     "execution_count": 59,
     "metadata": {},
     "output_type": "execute_result"
    }
   ],
   "source": [
    "rag_dataset.to_pandas()"
   ]
  },
  {
   "cell_type": "code",
   "execution_count": 80,
   "id": "8afa0577-906c-4272-af17-8c8f6c804685",
   "metadata": {
    "tags": []
   },
   "outputs": [],
   "source": [
    "Ragdf= rag_dataset.to_pandas()\n",
    "Ragdf.to_csv('QUERYGENERATEGPT4CHUNK.csv', index=False )"
   ]
  },
  {
   "cell_type": "code",
   "execution_count": null,
   "id": "ebd8b623-246f-4ce0-a149-9cd39ea812ad",
   "metadata": {
    "tags": []
   },
   "outputs": [],
   "source": [
    "# Supponendo che il dataset sia memorizzato nella variabile rag_dataset\n",
    "domande = [example.query for example in rag_dataset.examples]\n",
    "\n",
    "# Stampa le domande estratte\n",
    "for domanda in domande:\n",
    "    print(domanda)\n"
   ]
  },
  {
   "cell_type": "code",
   "execution_count": null,
   "id": "60c5a3b8-aec0-4772-8f2b-1f56ee62abd7",
   "metadata": {
    "tags": []
   },
   "outputs": [],
   "source": [
    "# Estrai solo le prime 10 domande dal dataset\n",
    "prime_10_domande = [example.query for example in rag_dataset.examples[:10]]\n",
    "\n",
    "# Stampa le prime 10 domande\n",
    "for domanda in prime_10_domande:\n",
    "    print(domanda)\n"
   ]
  },
  {
   "cell_type": "markdown",
   "id": "7a277d19-329e-46a7-ac26-991484e09fe8",
   "metadata": {},
   "source": [
    "CHUNK OVERLAP = A 10 PERCHE'\n",
    "- Bilanciamento tra continuità e ridondanza: Un overlap troppo piccolo potrebbe causare perdita di contesto tra i chunk. Un overlap troppo grande aumenterebbe eccessivamente la ridondanza e il costo computazionale.\n",
    "\n",
    "\n",
    "- Mantenimento del contesto: Dividendo per 10, si ottiene un overlap che di solito include abbastanza testo per mantenere il contesto tra i chunk adiacenti.\n",
    "\n",
    "\n",
    "- Efficienza computazionale: Questo rapporto offre un buon compromesso tra la qualità dei risultati e l'efficienza computazionale.\n",
    "\n",
    "\n",
    "- Adattabilità a diverse lunghezze di chunk: Questa regola si adatta bene a varie dimensioni di chunk, da quelli più piccoli a quelli più grandi."
   ]
  },
  {
   "cell_type": "markdown",
   "id": "86440c8c-2f9b-4909-afce-106d41b72fe6",
   "metadata": {},
   "source": [
    "### VALUTAZIONE PER OGNI CHUNK CON NUOVA LIBRERIA"
   ]
  },
  {
   "cell_type": "code",
   "execution_count": null,
   "id": "2b129699-a488-470a-b967-e22f8cdd5bfb",
   "metadata": {
    "tags": []
   },
   "outputs": [],
   "source": [
    "import time\n",
    "import pandas as pd\n",
    "from IPython.display import display\n",
    "\n",
    "# Define the function to calculate average response time, average faithfulness, and average relevancy metrics\n",
    "def evaluate_response_time_and_accuracy(chunk_size):\n",
    "    total_response_time = 0\n",
    "    total_faithfulness = 0\n",
    "    total_relevancy = 0\n",
    "\n",
    "    \n",
    "    vector_index = VectorStoreIndex.from_documents(\n",
    "        eval_documents, llm=azure_model_GPT4OMINI, embed_model=azure_embeddings, chunk_size=chunk_size, chunk_overlap=chunk_size // 10\n",
    "    )\n",
    "\n",
    "    query_engine = vector_index.as_query_engine()\n",
    "    num_questions = len(prime_10_domande)\n",
    "\n",
    "    for question in prime_10_domande:\n",
    "        start_time = time.time()\n",
    "        response_vector = query_engine.query(question)\n",
    "        elapsed_time = time.time() - start_time\n",
    "\n",
    "        faithfulness_result = faithfulness_gpt4.evaluate_response(\n",
    "            response=response_vector\n",
    "        ).passing\n",
    "\n",
    "        relevancy_result = relevancy_gpt4.evaluate_response(\n",
    "            query=question, response=response_vector\n",
    "        ).passing\n",
    "\n",
    "        total_response_time += elapsed_time\n",
    "        total_faithfulness += faithfulness_result\n",
    "        total_relevancy += relevancy_result\n",
    "\n",
    "    average_response_time = total_response_time / num_questions\n",
    "    average_faithfulness = total_faithfulness / num_questions\n",
    "    average_relevancy = total_relevancy / num_questions\n",
    "\n",
    "    return average_response_time, average_faithfulness, average_relevancy\n",
    "\n",
    "# Prepare a list to store the results for each chunk size\n",
    "results = []\n",
    "\n",
    "# Iterate over different chunk sizes to evaluate the metrics\n",
    "for chunk_size in [128, 256, 512, 1024, 2048]:\n",
    "    avg_time, avg_faithfulness, avg_relevancy = evaluate_response_time_and_accuracy(chunk_size)\n",
    "    print(f\"Chunk size {chunk_size} - Average Response time: {avg_time:.2f}s, Average Faithfulness: {avg_faithfulness:.2f}, Average Relevancy: {avg_relevancy:.2f}\")\n",
    "    \n",
    "    # Append the results to the list\n",
    "    results.append({\n",
    "        \"Chunk Size\": chunk_size,\n",
    "        \"Average Response Time (s)\": avg_time,\n",
    "        \"Average Faithfulness\": avg_faithfulness,\n",
    "        \"Average Relevancy\": avg_relevancy\n",
    "    })\n",
    "\n",
    "# Convert the results list to a DataFrame\n",
    "df = pd.DataFrame(results)\n",
    "\n",
    "# Display the DataFrame\n",
    "display(df)\n"
   ]
  },
  {
   "cell_type": "code",
   "execution_count": null,
   "id": "54725fdd-e989-4624-9608-76ffafac96d0",
   "metadata": {
    "tags": []
   },
   "outputs": [],
   "source": [
    "#creo il csv \n",
    "df.to_csv('RisultatiChunkGPT4O.csv', index=False )\n",
    "df"
   ]
  },
  {
   "cell_type": "markdown",
   "id": "e78ee4d9-dc49-4cea-a01b-04f474d6c449",
   "metadata": {
    "tags": []
   },
   "source": [
    "### VALUTAZIONE PER OGNI CHUNK CON VECCHIA LIBRERIA"
   ]
  },
  {
   "cell_type": "code",
   "execution_count": 51,
   "id": "4234a88e-cd23-46d0-99f3-a53f202e5e8c",
   "metadata": {
    "tags": []
   },
   "outputs": [
    {
     "name": "stdout",
     "output_type": "stream",
     "text": [
      "Chunk size 128 - Average Response time: 1.50s, Average Faithfulness: 0.95, Average Relevancy: 0.85\n",
      "Chunk size 256 - Average Response time: 1.12s, Average Faithfulness: 0.95, Average Relevancy: 0.75\n",
      "Chunk size 512 - Average Response time: 1.61s, Average Faithfulness: 1.00, Average Relevancy: 0.85\n",
      "Chunk size 1024 - Average Response time: 1.40s, Average Faithfulness: 0.95, Average Relevancy: 0.85\n",
      "Chunk size 2048 - Average Response time: 1.26s, Average Faithfulness: 0.90, Average Relevancy: 0.75\n"
     ]
    },
    {
     "data": {
      "text/html": [
       "<div>\n",
       "<style scoped>\n",
       "    .dataframe tbody tr th:only-of-type {\n",
       "        vertical-align: middle;\n",
       "    }\n",
       "\n",
       "    .dataframe tbody tr th {\n",
       "        vertical-align: top;\n",
       "    }\n",
       "\n",
       "    .dataframe thead th {\n",
       "        text-align: right;\n",
       "    }\n",
       "</style>\n",
       "<table border=\"1\" class=\"dataframe\">\n",
       "  <thead>\n",
       "    <tr style=\"text-align: right;\">\n",
       "      <th></th>\n",
       "      <th>Chunk Size</th>\n",
       "      <th>Average Response Time (s)</th>\n",
       "      <th>Average Faithfulness</th>\n",
       "      <th>Average Relevancy</th>\n",
       "    </tr>\n",
       "  </thead>\n",
       "  <tbody>\n",
       "    <tr>\n",
       "      <th>0</th>\n",
       "      <td>128</td>\n",
       "      <td>1.502399</td>\n",
       "      <td>0.95</td>\n",
       "      <td>0.85</td>\n",
       "    </tr>\n",
       "    <tr>\n",
       "      <th>1</th>\n",
       "      <td>256</td>\n",
       "      <td>1.121754</td>\n",
       "      <td>0.95</td>\n",
       "      <td>0.75</td>\n",
       "    </tr>\n",
       "    <tr>\n",
       "      <th>2</th>\n",
       "      <td>512</td>\n",
       "      <td>1.608827</td>\n",
       "      <td>1.00</td>\n",
       "      <td>0.85</td>\n",
       "    </tr>\n",
       "    <tr>\n",
       "      <th>3</th>\n",
       "      <td>1024</td>\n",
       "      <td>1.397066</td>\n",
       "      <td>0.95</td>\n",
       "      <td>0.85</td>\n",
       "    </tr>\n",
       "    <tr>\n",
       "      <th>4</th>\n",
       "      <td>2048</td>\n",
       "      <td>1.261117</td>\n",
       "      <td>0.90</td>\n",
       "      <td>0.75</td>\n",
       "    </tr>\n",
       "  </tbody>\n",
       "</table>\n",
       "</div>"
      ],
      "text/plain": [
       "   Chunk Size  Average Response Time (s)  Average Faithfulness   \n",
       "0         128                   1.502399                  0.95  \\\n",
       "1         256                   1.121754                  0.95   \n",
       "2         512                   1.608827                  1.00   \n",
       "3        1024                   1.397066                  0.95   \n",
       "4        2048                   1.261117                  0.90   \n",
       "\n",
       "   Average Relevancy  \n",
       "0               0.85  \n",
       "1               0.75  \n",
       "2               0.85  \n",
       "3               0.85  \n",
       "4               0.75  "
      ]
     },
     "metadata": {},
     "output_type": "display_data"
    }
   ],
   "source": [
    "import time\n",
    "import pandas as pd\n",
    "from IPython.display import display\n",
    "\n",
    "# Define the function to calculate average response time, average faithfulness, and average relevancy metrics\n",
    "def evaluate_response_time_and_accuracy(chunk_size):\n",
    "    total_response_time = 0\n",
    "    total_faithfulness = 0\n",
    "    total_relevancy = 0\n",
    "\n",
    "    \n",
    "    vector_index = VectorStoreIndex.from_documents(\n",
    "        eval_documents, llm=azure_model_GPT4OMINI, embed_model=azure_embeddings, chunk_size=chunk_size, chunk_overlap=chunk_size // 10\n",
    "    )\n",
    "\n",
    "    query_engine = vector_index.as_query_engine()\n",
    "    num_questions = len(eval_questions)\n",
    "\n",
    "    for question in eval_questions:\n",
    "        start_time = time.time()\n",
    "        response_vector = query_engine.query(question)\n",
    "        elapsed_time = time.time() - start_time\n",
    "\n",
    "        faithfulness_result = faithfulness_gpt4.evaluate_response(\n",
    "            response=response_vector\n",
    "        ).passing\n",
    "\n",
    "        relevancy_result = relevancy_gpt4.evaluate_response(\n",
    "            query=question, response=response_vector\n",
    "        ).passing\n",
    "\n",
    "        total_response_time += elapsed_time\n",
    "        total_faithfulness += faithfulness_result\n",
    "        total_relevancy += relevancy_result\n",
    "\n",
    "    average_response_time = total_response_time / num_questions\n",
    "    average_faithfulness = total_faithfulness / num_questions\n",
    "    average_relevancy = total_relevancy / num_questions\n",
    "\n",
    "    return average_response_time, average_faithfulness, average_relevancy\n",
    "\n",
    "# Prepare a list to store the results for each chunk size\n",
    "results = []\n",
    "\n",
    "# Iterate over different chunk sizes to evaluate the metrics\n",
    "for chunk_size in [128, 256, 512, 1024, 2048]:\n",
    "    avg_time, avg_faithfulness, avg_relevancy = evaluate_response_time_and_accuracy(chunk_size)\n",
    "    print(f\"Chunk size {chunk_size} - Average Response time: {avg_time:.2f}s, Average Faithfulness: {avg_faithfulness:.2f}, Average Relevancy: {avg_relevancy:.2f}\")\n",
    "    \n",
    "    # Append the results to the list\n",
    "    results.append({\n",
    "        \"Chunk Size\": chunk_size,\n",
    "        \"Average Response Time (s)\": avg_time,\n",
    "        \"Average Faithfulness\": avg_faithfulness,\n",
    "        \"Average Relevancy\": avg_relevancy\n",
    "    })\n",
    "\n",
    "# Convert the results list to a DataFrame\n",
    "df = pd.DataFrame(results)\n",
    "\n",
    "# Display the DataFrame\n",
    "display(df)\n"
   ]
  },
  {
   "cell_type": "markdown",
   "id": "181d72e5-ef7f-4227-aee2-92b597814828",
   "metadata": {
    "jp-MarkdownHeadingCollapsed": true,
    "tags": []
   },
   "source": [
    "### GRAFICO A LINEE"
   ]
  },
  {
   "cell_type": "code",
   "execution_count": 54,
   "id": "8458631e-5a65-48b8-a6f9-8298a7111252",
   "metadata": {
    "tags": []
   },
   "outputs": [
    {
     "data": {
      "image/png": "[encoded data removed]",
      "text/plain": [
       "<Figure size 1200x600 with 1 Axes>"
      ]
     },
     "metadata": {},
     "output_type": "display_data"
    }
   ],
   "source": [
    "import matplotlib.pyplot as plt\n",
    "import pandas as pd\n",
    "\n",
    "# Dati\n",
    "data = {\n",
    "    'Chunk Size': [128, 256, 512, 1024, 2048],\n",
    "    'Average Response Time (s)': [1.502399, 1.121754, 1.608827, 1.397066, 1.261117],\n",
    "    'Average Faithfulness': [0.95, 0.95, 1.00, 0.95, 0.90],\n",
    "    'Average Relevancy': [0.85, 0.75, 0.85, 0.85, 0.75]\n",
    "}\n",
    "\n",
    "df = pd.DataFrame(data)\n",
    "\n",
    "# Creazione del grafico\n",
    "plt.figure(figsize=(12, 6))\n",
    "\n",
    "# Linee\n",
    "plt.plot(df['Chunk Size'], df['Average Response Time (s)'], marker='o', linewidth=2, label='Response Time')\n",
    "plt.plot(df['Chunk Size'], df['Average Faithfulness'], marker='s', linewidth=2, label='Faithfulness')\n",
    "plt.plot(df['Chunk Size'], df['Average Relevancy'], marker='^', linewidth=2, label='Relevancy')\n",
    "\n",
    "# Personalizzazione del grafico\n",
    "plt.title('Metrics by Chunk Size', fontsize=16)\n",
    "plt.xlabel('Chunk Size', fontsize=12)\n",
    "plt.ylabel('Value', fontsize=12)\n",
    "plt.grid(True, linestyle='--', alpha=0.7)\n",
    "plt.legend(fontsize=10)\n",
    "\n",
    "# Personalizzazione degli assi\n",
    "plt.xscale('log', base=2)  # Scala logaritmica per l'asse x\n",
    "plt.xticks(df['Chunk Size'], df['Chunk Size'], rotation=0)\n",
    "\n",
    "# Aggiunta di etichette ai punti\n",
    "for i, row in df.iterrows():\n",
    "    plt.annotate(f\"{row['Average Response Time (s)']:.2f}\", \n",
    "                 (row['Chunk Size'], row['Average Response Time (s)']),\n",
    "                 textcoords=\"offset points\", xytext=(0,10), ha='center')\n",
    "    plt.annotate(f\"{row['Average Faithfulness']:.2f}\", \n",
    "                 (row['Chunk Size'], row['Average Faithfulness']),\n",
    "                 textcoords=\"offset points\", xytext=(0,10), ha='center')\n",
    "    plt.annotate(f\"{row['Average Relevancy']:.2f}\", \n",
    "                 (row['Chunk Size'], row['Average Relevancy']),\n",
    "                 textcoords=\"offset points\", xytext=(0,-15), ha='center')\n",
    "\n",
    "plt.tight_layout()\n",
    "plt.show()"
   ]
  },
  {
   "cell_type": "markdown",
   "id": "729d91ef-e00e-475c-b329-c59bfcae3781",
   "metadata": {
    "jp-MarkdownHeadingCollapsed": true,
    "tags": []
   },
   "source": [
    "### GRAFICO A BARRE"
   ]
  },
  {
   "cell_type": "code",
   "execution_count": 55,
   "id": "4fbe129e-558c-419f-be85-81107f25a051",
   "metadata": {
    "tags": []
   },
   "outputs": [
    {
     "data": {
      "image/png": "[encoded data removed]",
      "text/plain": [
       "<Figure size 1200x600 with 1 Axes>"
      ]
     },
     "metadata": {},
     "output_type": "display_data"
    }
   ],
   "source": [
    "import matplotlib.pyplot as plt\n",
    "import numpy as np\n",
    "\n",
    "# Dati\n",
    "chunk_sizes = [128, 256, 512, 1024, 2048]\n",
    "response_times = [1.502399, 1.121754, 1.608827, 1.397066, 1.261117]\n",
    "faithfulness = [0.95, 0.95, 1.00, 0.95, 0.90]\n",
    "relevancy = [0.85, 0.75, 0.85, 0.85, 0.75]\n",
    "\n",
    "# Impostazione del grafico\n",
    "fig, ax = plt.subplots(figsize=(12, 6))\n",
    "\n",
    "# Larghezza delle barre\n",
    "bar_width = 0.25\n",
    "\n",
    "# Posizioni delle barre\n",
    "r1 = np.arange(len(chunk_sizes))\n",
    "r2 = [x + bar_width for x in r1]\n",
    "r3 = [x + bar_width for x in r2]\n",
    "\n",
    "# Creazione delle barre\n",
    "plt.bar(r1, response_times, color='skyblue', width=bar_width, label='Response Time (s)')\n",
    "plt.bar(r2, faithfulness, color='lightgreen', width=bar_width, label='Faithfulness')\n",
    "plt.bar(r3, relevancy, color='salmon', width=bar_width, label='Relevancy')\n",
    "\n",
    "# Personalizzazione del grafico\n",
    "plt.xlabel('Chunk Size', fontweight='bold', fontsize=12)\n",
    "plt.ylabel('Values', fontweight='bold', fontsize=12)\n",
    "plt.title('Metrics by Chunk Size', fontweight='bold', fontsize=16)\n",
    "plt.xticks([r + bar_width for r in range(len(chunk_sizes))], chunk_sizes)\n",
    "\n",
    "# Aggiunta di etichette sopra le barre\n",
    "def add_labels(rects):\n",
    "    for rect in rects:\n",
    "        height = rect.get_height()\n",
    "        ax.text(rect.get_x() + rect.get_width()/2., height,\n",
    "                f'{height:.2f}',\n",
    "                ha='center', va='bottom')\n",
    "\n",
    "add_labels(ax.patches[::3])  # Response Time\n",
    "add_labels(ax.patches[1::3])  # Faithfulness\n",
    "add_labels(ax.patches[2::3])  # Relevancy\n",
    "\n",
    "# Legenda\n",
    "plt.legend()\n",
    "\n",
    "# Griglia\n",
    "plt.grid(axis='y', linestyle='--', alpha=0.7)\n",
    "\n",
    "plt.tight_layout()\n",
    "plt.show()"
   ]
  },
  {
   "cell_type": "markdown",
   "id": "c108eaa2-4a58-45ca-9a9f-f95d4c98276b",
   "metadata": {},
   "source": [
    "## Analisi dei Dati\n",
    "\n",
    "### Dimensioni dei Chunk\n",
    "- **Dimensioni più piccole (128, 256)**: Offrono tempi di risposta variabili, con 256 che fornisce il tempo più rapido (1.121754s). La fedeltà è costante a 0.95, ma la pertinenza è inferiore (0.85 e 0.75 rispettivamente) rispetto ad alcune dimensioni maggiori.\n",
    "\n",
    "- **Dimensioni medie (512)**: Mostrano il tempo di risposta più lungo (1.608827s), ma compensano con la massima fedeltà (1.00) e un'alta pertinenza (0.85). \n",
    "\n",
    "- **Dimensioni più grandi (1024, 2048)**: Presentano tempi di risposta intermedi. La dimensione 1024 mantiene alta fedeltà (0.95) e pertinenza (0.85), mentre 2048 mostra un leggero calo in entrambe (0.90 per fedeltà, 0.75 per pertinenza).\n",
    "\n",
    "### Raccomandazione\n",
    "**Dimensione del Chunk di 512**: Questa dimensione sembra offrire il miglior equilibrio complessivo. Nonostante il tempo di risposta più lungo, fornisce la massima fedeltà e un'alta pertinenza, che potrebbero essere cruciali per la qualità delle risposte.\n",
    "\n",
    "**Dimensione del Chunk di 1024**: Potrebbe essere una valida alternativa se si cerca un compromesso tra tempo di risposta e qualità. Mantiene alti livelli di fedeltà e pertinenza con un tempo di risposta più moderato rispetto a 512."
   ]
  }
 ],
 "metadata": {
  "kernelspec": {
   "display_name": "Python 3 (ipykernel)",
   "language": "python",
   "name": "python3"
  },
  "language_info": {
   "codemirror_mode": {
    "name": "ipython",
    "version": 3
   },
   "file_extension": ".py",
   "mimetype": "text/x-python",
   "name": "python",
   "nbconvert_exporter": "python",
   "pygments_lexer": "ipython3",
   "version": "3.10.10"
  }
 },
 "nbformat": 4,
 "nbformat_minor": 5
}
