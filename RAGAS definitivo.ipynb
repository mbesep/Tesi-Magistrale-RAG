{
 "cells": [
  {
   "cell_type": "code",
   "execution_count": null,
   "metadata": {
    "tags": []
   },
   "outputs": [],
   "source": [
    "!pip install -r requirements.txt"
   ]
  },
  {
   "cell_type": "code",
   "execution_count": 2,
   "metadata": {
    "id": "8qsBvipA_nRW",
    "tags": []
   },
   "outputs": [],
   "source": [
    "!pip freeze > requirements.txt"
   ]
  },
  {
   "cell_type": "code",
   "execution_count": 153,
   "metadata": {
    "tags": []
   },
   "outputs": [
    {
     "name": "stdout",
     "output_type": "stream",
     "text": [
      "Il file requirements.txt è stato creato senza stringhe 'file:///home/...'.\n"
     ]
    }
   ],
   "source": [
    "import subprocess\n",
    "import re\n",
    "\n",
    "# Esegui il comando 'pip freeze' e ottieni l'output\n",
    "result = subprocess.run(['pip', 'freeze'], stdout=subprocess.PIPE)\n",
    "packages = result.stdout.decode().splitlines()\n",
    "\n",
    "# Filtrare le linee che contengono \"file://\"\n",
    "filtered_packages = [package for package in packages if not re.search(r'file://', package)]\n",
    "\n",
    "# Scrivere i pacchetti filtrati nel file 'requirements.txt'\n",
    "with open('requirements.txt', 'w') as file:\n",
    "    for package in filtered_packages:\n",
    "        file.write(package + '\\n')\n",
    "\n",
    "print(\"Il file requirements.txt è stato creato senza stringhe 'file:///home/...'.\")\n"
   ]
  },
  {
   "cell_type": "code",
   "execution_count": null,
   "metadata": {
    "id": "CadTskQjB6pr",
    "tags": []
   },
   "outputs": [],
   "source": [
    "!pip install langchain chromadb langchain_community pypdf"
   ]
  },
  {
   "cell_type": "code",
   "execution_count": null,
   "metadata": {
    "id": "ToGu1ieU_nRY",
    "tags": []
   },
   "outputs": [],
   "source": [
    "!pip install ragas"
   ]
  },
  {
   "cell_type": "code",
   "execution_count": null,
   "metadata": {
    "id": "pNMAyO6r_nRZ",
    "tags": []
   },
   "outputs": [],
   "source": [
    "pip install groq"
   ]
  },
  {
   "cell_type": "code",
   "execution_count": null,
   "metadata": {
    "id": "D1V9uh89_nRZ",
    "tags": []
   },
   "outputs": [],
   "source": [
    "pip install langchain-groq==0.1.6"
   ]
  },
  {
   "cell_type": "code",
   "execution_count": null,
   "metadata": {
    "id": "LZO3t3XlA2KZ",
    "tags": []
   },
   "outputs": [],
   "source": [
    "pip install openai"
   ]
  },
  {
   "cell_type": "code",
   "execution_count": 7,
   "metadata": {
    "executionInfo": {
     "elapsed": 461,
     "status": "ok",
     "timestamp": 1724077181550,
     "user": {
      "displayName": "Giuseppe Salcuni",
      "userId": "05750098578665397452"
     },
     "user_tz": -120
    },
    "id": "oTIELYa5B6pv",
    "tags": []
   },
   "outputs": [],
   "source": [
    "from langchain_community.document_loaders import PyPDFDirectoryLoader\n",
    "from langchain.text_splitter import CharacterTextSplitter,RecursiveCharacterTextSplitter\n",
    "from langchain_community.embeddings import OllamaEmbeddings\n",
    "from langchain.vectorstores import Chroma\n",
    "from langchain_community.llms import Ollama\n",
    "from langchain.chains import RetrievalQA, LLMChain\n",
    "from langchain_groq import ChatGroq"
   ]
  },
  {
   "cell_type": "code",
   "execution_count": 8,
   "metadata": {
    "executionInfo": {
     "elapsed": 494,
     "status": "ok",
     "timestamp": 1724077421430,
     "user": {
      "displayName": "Giuseppe Salcuni",
      "userId": "05750098578665397452"
     },
     "user_tz": -120
    },
    "id": "pM9ahLgI_nRa",
    "tags": []
   },
   "outputs": [],
   "source": [
    "import os\n",
    "#imposto la chiavi per i servizi che utilizzerò\n",
    "os.environ[\"GROQ_API_KEY\"] = \"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\"\n",
    "os.environ['LANGCHAIN_API_KEY'] = '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'\n",
    "os.environ[\"AZURE_OPENAI_API_KEY\"] = \"21a4eae201494ec581d92fbeb45891b3\" #Mbesi Open 9d7cdcf0ed72472dbf75f7e02a25d506 - # Mbesi est 21a4eae201494ec581d92fbeb45891b3"
   ]
  },
  {
   "cell_type": "markdown",
   "metadata": {
    "id": "mV47mYTzBlOR",
    "jp-MarkdownHeadingCollapsed": true,
    "tags": []
   },
   "source": [
    "# IMPOSTO AZURE OPENAI"
   ]
  },
  {
   "cell_type": "code",
   "execution_count": 9,
   "metadata": {
    "executionInfo": {
     "elapsed": 493,
     "status": "ok",
     "timestamp": 1724081598546,
     "user": {
      "displayName": "Giuseppe Salcuni",
      "userId": "05750098578665397452"
     },
     "user_tz": -120
    },
    "id": "zG6AZzy9Bp25",
    "tags": []
   },
   "outputs": [],
   "source": [
    "azure_configs = {\n",
    "    \"base_url\": \"https://mbesiest.openai.azure.com/\", # Mbesi open https://mbesiopen.openai.azure.com/ - Mbesi est https://mbesiest.openai.azure.com/\n",
    "    \"model_deployment\": \"gpt-4o-mini\",\n",
    "    \"model_name\": \"gpt-4o-mini\",\n",
    "    \"embedding_deployment\": \"text-embedding-ada-002\",\n",
    "    \"embedding_name\": \"text-embedding-ada-002\",  # most likely  text-embedding-ada-002\n",
    "}"
   ]
  },
  {
   "cell_type": "code",
   "execution_count": 10,
   "metadata": {
    "executionInfo": {
     "elapsed": 1228,
     "status": "ok",
     "timestamp": 1724081912005,
     "user": {
      "displayName": "Giuseppe Salcuni",
      "userId": "05750098578665397452"
     },
     "user_tz": -120
    },
    "id": "SubA0ZdzCDrZ",
    "tags": []
   },
   "outputs": [],
   "source": [
    "from langchain_openai.chat_models import AzureChatOpenAI\n",
    "from langchain_openai.embeddings import AzureOpenAIEmbeddings\n",
    "from ragas import evaluate\n",
    "\n",
    "azure_model_GPT3 = AzureChatOpenAI(\n",
    "    openai_api_version=\"2024-06-01\",\n",
    "    azure_endpoint=azure_configs[\"base_url\"],\n",
    "    azure_deployment=\"gpt-35-turbo\",\n",
    "    model=\"gpt-35-turbo\",\n",
    "    validate_base_url=False,\n",
    ")\n",
    "azure_model_GPT4OMINI = AzureChatOpenAI(\n",
    "    openai_api_version=\"2024-06-01\",\n",
    "    azure_endpoint=azure_configs[\"base_url\"],\n",
    "    azure_deployment=azure_configs[\"model_deployment\"],\n",
    "    model=azure_configs[\"model_name\"],\n",
    "    validate_base_url=False,\n",
    ")\n",
    "\n",
    "# init the embeddings for answer_relevancy, answer_correctness and answer_similarity\n",
    "azure_embeddings = AzureOpenAIEmbeddings(\n",
    "    openai_api_version=\"2024-02-01\",\n",
    "    azure_endpoint=azure_configs[\"base_url\"],\n",
    "    azure_deployment=azure_configs[\"embedding_deployment\"],\n",
    "    model=azure_configs[\"embedding_name\"],\n",
    ")"
   ]
  },
  {
   "cell_type": "markdown",
   "metadata": {
    "id": "7-mry09m_nRb",
    "tags": []
   },
   "source": [
    "# INPUT E CHUNK DEL FILE"
   ]
  },
  {
   "cell_type": "code",
   "execution_count": null,
   "metadata": {
    "colab": {
     "base_uri": "https://localhost:8080/"
    },
    "executionInfo": {
     "elapsed": 34817,
     "status": "ok",
     "timestamp": 1724086371787,
     "user": {
      "displayName": "Giuseppe Salcuni",
      "userId": "05750098578665397452"
     },
     "user_tz": -120
    },
    "id": "dvN-sk1bYrj8",
    "outputId": "59a6450e-cecc-4183-e1f9-1fc71d028a7c"
   },
   "outputs": [],
   "source": [
    "from google.colab import drive\n",
    "drive.mount('/content/drive')"
   ]
  },
  {
   "cell_type": "code",
   "execution_count": null,
   "metadata": {
    "id": "052d1waGvhHf",
    "tags": []
   },
   "outputs": [],
   "source": [
    "from langchain_community.document_loaders.csv_loader import CSVLoader\n",
    "\n",
    "loader = CSVLoader(file_path='documenti/DomandeRisposte.csv', csv_args={\n",
    "    'delimiter': ';',\n",
    "    'quotechar': '\"',\n",
    "    'fieldnames': ['Domande', 'Risposte']\n",
    "})\n",
    "\n",
    "docs = loader.load()"
   ]
  },
  {
   "cell_type": "markdown",
   "metadata": {
    "id": "VMNEnQwC_nRd"
   },
   "source": [
    "NUOVO DATASET COMPLETO"
   ]
  },
  {
   "cell_type": "code",
   "execution_count": 11,
   "metadata": {
    "id": "mby16LN2B6px",
    "tags": []
   },
   "outputs": [],
   "source": [
    "from langchain_community.document_loaders.csv_loader import CSVLoader\n",
    "\n",
    "loader = CSVLoader(file_path='documenti/DomandeRisposteNew.csv', csv_args={\n",
    "    'delimiter': ';',\n",
    "    'quotechar': '\"',\n",
    "    'fieldnames': ['DOMANDE', 'RISPOSTE']\n",
    "})\n",
    "\n",
    "docs = loader.load()"
   ]
  },
  {
   "cell_type": "code",
   "execution_count": null,
   "metadata": {
    "executionInfo": {
     "elapsed": 2269,
     "status": "ok",
     "timestamp": 1724077135379,
     "user": {
      "displayName": "Giuseppe Salcuni",
      "userId": "05750098578665397452"
     },
     "user_tz": -120
    },
    "id": "8bvFzg30APeC"
   },
   "outputs": [],
   "source": [
    "from langchain_community.document_loaders.csv_loader import CSVLoader\n",
    "\n",
    "loader = CSVLoader(file_path='/content/drive/MyDrive/Magistrale Privata/Progetto Tesi/pdf/DomandeRisposteNew.csv', csv_args={\n",
    "    'delimiter': ';',\n",
    "    'quotechar': '\"',\n",
    "    'fieldnames': ['DOMANDE', 'RISPOSTE']\n",
    "})\n",
    "\n",
    "docs = loader.load()"
   ]
  },
  {
   "cell_type": "code",
   "execution_count": null,
   "metadata": {
    "id": "GY8CceUvZRso",
    "tags": []
   },
   "outputs": [],
   "source": [
    "docs"
   ]
  },
  {
   "cell_type": "code",
   "execution_count": 85,
   "metadata": {
    "executionInfo": {
     "elapsed": 631,
     "status": "ok",
     "timestamp": 1724077196135,
     "user": {
      "displayName": "Giuseppe Salcuni",
      "userId": "05750098578665397452"
     },
     "user_tz": -120
    },
    "id": "eNN3HCNUB6py",
    "tags": []
   },
   "outputs": [],
   "source": [
    "from langchain_community.document_loaders import TextLoader\n",
    "from langchain.text_splitter import CharacterTextSplitter\n",
    "\n",
    "\n",
    "text_splitter = RecursiveCharacterTextSplitter(chunk_size=512, chunk_overlap=51) #300 - 50/ 250 - 50/ 256 - 25/ 300 - 30\n",
    "\n",
    "chunks = text_splitter.split_documents(docs)\n",
    "\n",
    "\n"
   ]
  },
  {
   "cell_type": "code",
   "execution_count": 86,
   "metadata": {
    "colab": {
     "base_uri": "https://localhost:8080/"
    },
    "executionInfo": {
     "elapsed": 466,
     "status": "ok",
     "timestamp": 1724077199877,
     "user": {
      "displayName": "Giuseppe Salcuni",
      "userId": "05750098578665397452"
     },
     "user_tz": -120
    },
    "id": "H3emZZZFvPcI",
    "outputId": "a1d01f56-e617-4550-ab4a-b4dcc6609f3b",
    "tags": []
   },
   "outputs": [
    {
     "data": {
      "text/plain": [
       "1563"
      ]
     },
     "execution_count": 86,
     "metadata": {},
     "output_type": "execute_result"
    }
   ],
   "source": [
    "len(chunks)"
   ]
  },
  {
   "cell_type": "code",
   "execution_count": 15,
   "metadata": {
    "executionInfo": {
     "elapsed": 4,
     "status": "ok",
     "timestamp": 1724077689551,
     "user": {
      "displayName": "Giuseppe Salcuni",
      "userId": "05750098578665397452"
     },
     "user_tz": -120
    },
    "id": "7TKEoczMB6p0",
    "tags": []
   },
   "outputs": [],
   "source": [
    "# RAGAS expects a file_name dict as key\n",
    "for document in chunks:\n",
    "    document.metadata['file_name'] = document.metadata['source']"
   ]
  },
  {
   "cell_type": "markdown",
   "metadata": {
    "id": "nM_brQSAB6p1",
    "tags": []
   },
   "source": [
    "# CON LLM OPEN"
   ]
  },
  {
   "cell_type": "markdown",
   "metadata": {
    "id": "C3kOH4vL_nRg",
    "tags": []
   },
   "source": [
    "## IMPORTO LIBRERIE - CREO VECTORSTORE, PROMPT E RETRIEVER"
   ]
  },
  {
   "cell_type": "code",
   "execution_count": 16,
   "metadata": {
    "colab": {
     "base_uri": "https://localhost:8080/"
    },
    "executionInfo": {
     "elapsed": 3610,
     "status": "ok",
     "timestamp": 1724077237808,
     "user": {
      "displayName": "Giuseppe Salcuni",
      "userId": "05750098578665397452"
     },
     "user_tz": -120
    },
    "id": "44ioWSpAB6p8",
    "outputId": "91a1e074-c52e-44f7-af9a-7f5e7e81ec94",
    "tags": []
   },
   "outputs": [
    {
     "name": "stdout",
     "output_type": "stream",
     "text": [
      "GPU is available\n"
     ]
    }
   ],
   "source": [
    "import torch\n",
    "print(\"GPU is\", \"available\" if torch.cuda.is_available() else \"NOT AVAILABLE\")\n"
   ]
  },
  {
   "cell_type": "code",
   "execution_count": null,
   "metadata": {
    "id": "o2iqZISbsAWw"
   },
   "outputs": [],
   "source": [
    "\"\"\"\n",
    "SE MI TROVO SU COLAB INSTALLO IL TERMINALE PER OLLAMA\n",
    "#!pip install colab-xterm\n",
    "%load_ext colabxterm\n",
    "%xterm\n",
    "\"\"\""
   ]
  },
  {
   "cell_type": "code",
   "execution_count": null,
   "metadata": {
    "id": "8VzBmQ0YB6p3"
   },
   "outputs": [],
   "source": [
    "# scrivo le seguenti linee in entrambi i casi:\n",
    "#1- curl -faSL https://ollama.com/install.sh | sh\n",
    "#2- ollama serve & ollama pull gemma2\n",
    "#3- ollama pull nomic-embed-text\n",
    "#4- ollama pull llama3"
   ]
  },
  {
   "cell_type": "code",
   "execution_count": 17,
   "metadata": {
    "id": "blZXyEyxB6p5",
    "tags": []
   },
   "outputs": [],
   "source": [
    "# importo le librerie che utilizzerò\n",
    "import pandas as pd\n",
    "\n",
    "from langchain.document_loaders import DirectoryLoader # se carico direttamente una cartella di documenti\n",
    "#from langchain_openai import ChatOpenAI, OpenAIEmbeddings # se utilizzo openai\n",
    "from langchain_community.embeddings import OllamaEmbeddings\n",
    "\n",
    "\n",
    "from ragas.testset.generator import TestsetGenerator\n",
    "from ragas.testset.evolutions import simple, reasoning, multi_context"
   ]
  },
  {
   "cell_type": "code",
   "execution_count": 18,
   "metadata": {
    "id": "dbmEYstwB6p6",
    "tags": []
   },
   "outputs": [],
   "source": [
    "embeddings = OllamaEmbeddings(model=\"nomic-embed-text\")\n",
    "#embeddings = OllamaEmbeddings(model=\"mxbai-embed-large\")"
   ]
  },
  {
   "cell_type": "code",
   "execution_count": 104,
   "metadata": {
    "tags": []
   },
   "outputs": [
    {
     "name": "stderr",
     "output_type": "stream",
     "text": [
      "100%|██████████| 100/100 [04:57<00:00,  2.97s/it]"
     ]
    },
    {
     "name": "stdout",
     "output_type": "stream",
     "text": [
      "Tempo di esecuzione: 297.15 secondi\n"
     ]
    },
    {
     "name": "stderr",
     "output_type": "stream",
     "text": [
      "\n"
     ]
    }
   ],
   "source": [
    "from tqdm import tqdm\n",
    "import time\n",
    "\n",
    "# Simuliamo il tempo di esecuzione per la dimostrazione\n",
    "start_time = time.time()\n",
    "\n",
    "# Crea un oggetto tqdm per monitorare l'avanzamento\n",
    "with tqdm(total=100) as pbar:\n",
    "    # Simulazione dell'elaborazione (ad esempio per un loop sui chunks)\n",
    "    vectorstore = Chroma.from_documents(chunks, embeddings, persist_directory=\"./chroma_db/med256_db\")\n",
    "    \n",
    "    # Aggiornamento della barra di caricamento\n",
    "    pbar.update(100)\n",
    "\n",
    "# Calcolo del tempo di esecuzione\n",
    "end_time = time.time()\n",
    "execution_time = end_time - start_time\n",
    "print(f\"Tempo di esecuzione: {execution_time:.2f} secondi\")\n"
   ]
  },
  {
   "cell_type": "code",
   "execution_count": 15,
   "metadata": {
    "id": "DavnRDIAB6p9",
    "tags": []
   },
   "outputs": [],
   "source": [
    "vectorstore = Chroma.from_documents(chunks, embeddings, persist_directory=\"./chroma_db/med256_db\")\n",
    "#, persist_directory=\"./chroma_db/txt_db\""
   ]
  },
  {
   "cell_type": "code",
   "execution_count": 19,
   "metadata": {
    "id": "BlTD06ru_nRh",
    "outputId": "80743968-7b54-46c1-8cde-bf1373e308f6",
    "tags": []
   },
   "outputs": [
    {
     "name": "stderr",
     "output_type": "stream",
     "text": [
      "/tmp/ipykernel_32296/155641289.py:2: LangChainDeprecationWarning: The class `Chroma` was deprecated in LangChain 0.2.9 and will be removed in 1.0. An updated version of the class exists in the langchain-chroma package and should be used instead. To use it run `pip install -U langchain-chroma` and import as `from langchain_chroma import Chroma`.\n",
      "  vectorstore = Chroma(persist_directory=\"./chroma_db/med_db\", embedding_function = embeddings) #med256 per il vectorstore diviso in 256 chunk\n"
     ]
    }
   ],
   "source": [
    "# In caso ho l'ho già creato, carico database vettoriale\n",
    "vectorstore = Chroma(persist_directory=\"./chroma_db/med_db\", embedding_function = embeddings) #med256 per il vectorstore diviso in 256 chunk\n"
   ]
  },
  {
   "cell_type": "code",
   "execution_count": 20,
   "metadata": {
    "id": "iSqHxfNJ_nRh",
    "outputId": "1bc04cef-633d-44ba-aafc-dedae0b9387d",
    "tags": []
   },
   "outputs": [
    {
     "name": "stdout",
     "output_type": "stream",
     "text": [
      "DOMANDE: L'ipertensione può essere completamente curata?\n",
      "RISPOSTE: Purtroppo, l'ipertensione non può essere completamente curata, ma può essere gestita efficacemente attraverso cambiamenti nello stile di vita, farmaci e monitoraggio regolare.\n"
     ]
    }
   ],
   "source": [
    "#dimostro che il caricamento è avvenuto correttamente\n",
    "docum = vectorstore.similarity_search(\"come curo l'ipertensione?\")\n",
    "print(docum[0].page_content)"
   ]
  },
  {
   "cell_type": "code",
   "execution_count": 21,
   "metadata": {
    "colab": {
     "base_uri": "https://localhost:8080/"
    },
    "id": "RbSOQ32vB6p-",
    "outputId": "fccc7e23-56bd-46af-a4b5-029c32a14155",
    "tags": []
   },
   "outputs": [
    {
     "data": {
      "text/plain": [
       "<langchain_community.vectorstores.chroma.Chroma at 0x7fb86c529ae0>"
      ]
     },
     "execution_count": 21,
     "metadata": {},
     "output_type": "execute_result"
    }
   ],
   "source": [
    "vectorstore"
   ]
  },
  {
   "cell_type": "code",
   "execution_count": 22,
   "metadata": {
    "id": "BlJ6fP2XB6p-",
    "tags": []
   },
   "outputs": [],
   "source": [
    "retriever = vectorstore.as_retriever(\n",
    "    search_kwargs={'k': 3}# ritorna i k risultati simili quando eseguo una ricerca sul documento\n",
    ")"
   ]
  },
  {
   "cell_type": "code",
   "execution_count": null,
   "metadata": {
    "id": "K4k6rYZP_nRi",
    "tags": []
   },
   "outputs": [],
   "source": [
    "\"\"\"\n",
    "SOLO SE UTILIZZO GROQ\n",
    "# llm from groq\n",
    "llmGroq = ChatGroq(\n",
    "    model=\"llama-3.1-70b-versatile\",\n",
    "    temperature=0\n",
    ")\n",
    "\"\"\""
   ]
  },
  {
   "cell_type": "code",
   "execution_count": 23,
   "metadata": {
    "id": "xXVokccgB6qA",
    "tags": []
   },
   "outputs": [],
   "source": [
    "from langchain_community.llms import Ollama\n",
    "llm = Ollama(model=\"llama3.1\")"
   ]
  },
  {
   "cell_type": "code",
   "execution_count": 206,
   "metadata": {
    "id": "fSiNEP5YB6qB",
    "tags": []
   },
   "outputs": [],
   "source": [
    "from langchain_core.prompts import PromptTemplate\n",
    "\n",
    "template = \"\"\"Sei un assistente medico IA che esegue le istruzioni in modo accurato. Cerca di dare sempre risposte inerenti e dettagliate usando una terminologia medica appropriata ma comprensibile.\n",
    "Mantieni sempre la riservatezza e il rispetto per la privacy del paziente. Rispondi sempre in italiano alla domanda basata sul contesto. Se è presente nel contesto mi rispondi fornendomi la migliore risposta che riesci a generare.Rispondi \"Non sicuro della risposta\" se non sei sicuro della risposta.\n",
    "Se sei sicuro della risposta non c'è bisogno di dirlo.\n",
    "{context}\n",
    "\n",
    "Domanda: {question}\n",
    "\"\"\"\n",
    "\n",
    "prompt = PromptTemplate(\n",
    "    template=template,\n",
    "    input_variables=[\"context\",\"question\"]\n",
    "  )"
   ]
  },
  {
   "cell_type": "code",
   "execution_count": 24,
   "metadata": {
    "tags": []
   },
   "outputs": [],
   "source": [
    "#PROMPT MIGLIORATO CON GIANLUCA\n",
    "from langchain_core.prompts import PromptTemplate\n",
    "\n",
    "template = \"\"\"Sei un assistente medico IA. Fornisci risposte accurate e dettagliate in italiano, usando un linguaggio chiaro ma appropriato. Rispetta sempre la privacy del paziente.\n",
    "Basati sul contesto fornito per rispondere. Se non sei sicuro della risposta, dichiara \"Non sicuro della risposta\".\n",
    "{context}\n",
    "\n",
    "Domanda: {question}\n",
    "\"\"\"\n",
    "\n",
    "prompt = PromptTemplate(\n",
    "    template=template,\n",
    "    input_variables=[\"context\",\"question\"]\n",
    "  )"
   ]
  },
  {
   "cell_type": "code",
   "execution_count": 143,
   "metadata": {
    "tags": []
   },
   "outputs": [],
   "source": [
    "#PROMPT NUOVO FATTO DA ME\n",
    "from langchain_core.prompts import PromptTemplate\n",
    "\n",
    "template = \"\"\"Sei un assistente medico IA italiano esperto, specializzato nel fornire informazioni mediche accurate e pertinenti. Rispondi esclusivamente in italiano, utilizzando un linguaggio chiaro, preciso e adatto al contesto medico.\n",
    "\n",
    "Istruzioni:\n",
    "1. Analizza attentamente il contesto fornito e estrai tutte le informazioni rilevanti alla domanda.\n",
    "2. Fornisci una risposta diretta, completa e ben strutturata basata sulle informazioni presenti nel contesto.\n",
    "3. Integra le informazioni provenienti da diverse parti del contesto per creare una risposta coerente e completa.\n",
    "5. Non iniziare la risposta con disclaimer o riferimenti alla fonte delle informazioni. Inizia direttamente con le informazioni pertinenti.\n",
    "6. Se appropriato, organizza la risposta in punti elenco per una maggiore chiarezza.\n",
    "7. Mantieni un tono professionale ma accessibile, adatto a un paziente che cerca informazioni mediche.\n",
    "8. Se la domanda richiede un'opinione o una raccomandazione, fornisci informazioni generali basate sul contesto, specificando alla fine della risposta che per consigli personalizzati è necessario consultare un medico.\n",
    "9. Rispetta sempre la privacy del paziente, evitando di menzionare o dedurre informazioni personali non fornite nel contesto.\n",
    "10. Se la domanda è presente nel contesto evita di ripeterlo ma rispondi direttamente alla domanda.\n",
    "\n",
    "Contesto:\n",
    "{context}\n",
    "\n",
    "Domanda: {question}\n",
    "\n",
    "Risposta:\n",
    "\"\"\"\n",
    "\n",
    "prompt = PromptTemplate(\n",
    "    template=template,\n",
    "    input_variables=[\"context\", \"question\"]\n",
    ")"
   ]
  },
  {
   "cell_type": "code",
   "execution_count": 156,
   "metadata": {
    "tags": []
   },
   "outputs": [],
   "source": [
    "from langchain_core.prompts import PromptTemplate\n",
    "\n",
    "template = \"\"\"Sei un assistente medico IA specializzato in ipertensione. Fornisci risposte dettagliate e basate su evidenze scientifiche, mantenendo un linguaggio chiaro e accessibile. Rispetta sempre la privacy del paziente e, se non sei sicuro della risposta, dichiara \"Non sicuro della risposta\".\n",
    "\n",
    "Basati sul contesto fornito per rispondere in modo preciso. Includi le raccomandazioni attuali e spiega i concetti medici in modo comprensibile.\n",
    "\n",
    "Contexto: {context}\n",
    "\n",
    "Domanda: {question}\n",
    "\"\"\"\n",
    "\n",
    "prompt = PromptTemplate(\n",
    "    template=template,\n",
    "    input_variables=[\"context\", \"question\"]\n",
    ")\n"
   ]
  },
  {
   "cell_type": "markdown",
   "metadata": {
    "id": "GXceEFQ-_nRi",
    "jp-MarkdownHeadingCollapsed": true,
    "tags": []
   },
   "source": [
    "## IMPOSTO TUTTE LE TIPOLOGIE DI RETRIVER"
   ]
  },
  {
   "cell_type": "markdown",
   "metadata": {
    "id": "8zqRrpXl_nRi",
    "jp-MarkdownHeadingCollapsed": true,
    "tags": []
   },
   "source": [
    "### BASE RETRIEVER"
   ]
  },
  {
   "cell_type": "markdown",
   "metadata": {
    "id": "sE4dd1Yt_nRi",
    "tags": []
   },
   "source": [
    "Retriever base è utilizzato per eseguire una ricerca di somiglianza, trovando i documenti più simili alla query basandosi sui loro vettori"
   ]
  },
  {
   "cell_type": "code",
   "execution_count": 157,
   "metadata": {
    "id": "viRXDKPVB6qC",
    "tags": []
   },
   "outputs": [],
   "source": [
    "from langchain.schema.runnable import RunnablePassthrough\n",
    "from langchain.schema.output_parser import StrOutputParser\n",
    "\n",
    "rag_chain = (\n",
    "    {\"context\": retriever,  \"question\": RunnablePassthrough()}\n",
    "    | prompt\n",
    "    | llm\n",
    "    | StrOutputParser()\n",
    ")"
   ]
  },
  {
   "cell_type": "code",
   "execution_count": 160,
   "metadata": {
    "tags": []
   },
   "outputs": [
    {
     "name": "stdout",
     "output_type": "stream",
     "text": [
      "Non esiste una cura definitiva per l'ipertensione. L'ipertensione può essere gestita efficacemente con farmaci, cambiamenti nello stile di vita e monitoraggio regolare. Pertanto, la terapia dell'ipertensione è un processo a lungo termine che richiede una certa dose di pazienza, dedizione e disciplina. Le persone con pressione sanguigna alta devono fare il loro meglio per controllare i fattori di rischio, ad esempio l'alimentazione, il peso corporeo e lo stile di vita fisico.\n"
     ]
    }
   ],
   "source": [
    "print(rag_chain.invoke(\"Come si cura l'ipertensione?\"))"
   ]
  },
  {
   "cell_type": "code",
   "execution_count": 159,
   "metadata": {
    "tags": []
   },
   "outputs": [
    {
     "data": {
      "text/plain": [
       "[Document(metadata={'file_name': 'documenti/DomandeRisposteNew.csv', 'row': 575, 'source': 'documenti/DomandeRisposteNew.csv'}, page_content=\"DOMANDE: Esiste una cura definitiva per l'ipertensione?\\nRISPOSTE: L'ipertensione è una condizione cronica che può essere gestita efficacemente con farmaci, cambiamenti nello stile di vita e monitoraggio regolare, ma non esiste una cura definitiva.\"),\n",
       " Document(metadata={'file_name': 'documenti/DomandeRisposteNew.csv', 'row': 940, 'source': 'documenti/DomandeRisposteNew.csv'}, page_content='DOMANDE: Che suggerimento puoi darmi riguardo alla mia ipertensione odierna?\\nRISPOSTE: Mi dispiace sentire che stai affrontando problemi di ipertensione. Ti consiglio di monitorare regolarmente la tua pressione sanguigna a casa e di tenere un diario per registrare i tuoi valori giornalieri.'),\n",
       " Document(metadata={'file_name': 'documenti/DomandeRisposteNew.csv', 'row': 573, 'source': 'documenti/DomandeRisposteNew.csv'}, page_content=\"DOMANDE: L'ipertensione può essere completamente curata?\\nRISPOSTE: Purtroppo, l'ipertensione non può essere completamente curata, ma può essere gestita efficacemente attraverso cambiamenti nello stile di vita, farmaci e monitoraggio regolare.\")]"
      ]
     },
     "execution_count": 159,
     "metadata": {},
     "output_type": "execute_result"
    }
   ],
   "source": [
    "retriever.invoke(\"Come si cura l'ipertensione?\" )"
   ]
  },
  {
   "cell_type": "markdown",
   "metadata": {
    "id": "1P2QztYc_nRj",
    "jp-MarkdownHeadingCollapsed": true,
    "tags": []
   },
   "source": [
    "### MULTI QUERY RETRIEVER"
   ]
  },
  {
   "cell_type": "markdown",
   "metadata": {
    "id": "MiL6nWIr_nRj"
   },
   "source": [
    "Il MultiQueryRetriever automatizza l'ottimizzazione dei prompt utilizzando un LLM per generare più query da diverse prospettive relative a una specifica richiesta dell'utente. Per ciascuna query, il sistema recupera un insieme di documenti rilevanti e poi unisce in modo unico i risultati ottenuti da tutte le query, al fine di ottenere un insieme più ampio di documenti potenzialmente utili. Generando diverse prospettive sulla stessa domanda, il MultiQueryRetriever può superare alcune limitazioni del reperimento basato sulla distanza, fornendo così un insieme di risultati più ricco."
   ]
  },
  {
   "cell_type": "code",
   "execution_count": 161,
   "metadata": {
    "id": "IaxcKcJZ_nRj",
    "tags": []
   },
   "outputs": [],
   "source": [
    "from langchain.retrievers import MultiQueryRetriever\n",
    "final_retriever = MultiQueryRetriever.from_llm(retriever=retriever, llm=llm)"
   ]
  },
  {
   "cell_type": "code",
   "execution_count": 162,
   "metadata": {
    "id": "Yeig_RUA_nRn",
    "tags": []
   },
   "outputs": [],
   "source": [
    "from langchain.schema.runnable import RunnablePassthrough\n",
    "from langchain.schema.output_parser import StrOutputParser\n",
    "\n",
    "multirag_chain = (\n",
    "    {\"context\": final_retriever,  \"question\": RunnablePassthrough()}\n",
    "    | prompt\n",
    "    | llm\n",
    "    | StrOutputParser()\n",
    ")"
   ]
  },
  {
   "cell_type": "code",
   "execution_count": 164,
   "metadata": {
    "id": "QPtJrtcd_nRo",
    "tags": []
   },
   "outputs": [
    {
     "name": "stdout",
     "output_type": "stream",
     "text": [
      "Gli specialisti suggeriscono la dietetica mediterranea come il trattamento principale per la prevenzione e il trattamento dell'ipertensione. La dieta mediterranea è ricca di verdure, frutta, cereali integrali e legumi a basso contenuto di grassi saturi e proteine animali. Il grasso dev'essere sostituito dai polisaccharidi come gli acidi oléico e la filatilina che sono contenuti nella quinoa, nei noci, nell'uva, nella vite ed altri legumi, ma non nelle grissotti, nelle uova, nel burro di manzo o altri grassi animali. La dieta mediterranea ha anche il vantaggio di ridurre i livelli di colesterolo e di calciare l'ipertensione. Inoltre, la dieta mediterranea può contribuire a mantenere un peso corporeo normale, che è una delle cause principali dell'ipertensione. \n",
      "\n",
      "Alcune persone sono incapaci a combattere l'ipertensione con dietetica sola e perciò devono ricevere il trattamento medicinale. Il trattamento farmacologico consiste nella prescrizione di uno o più medicinali che riducono la pressione arteriosa. Gli antidepressivi sono anche efficaci nel trattare l'ipertensione. Questi medicinali possono aiutare a rilassare i muscoli delle vene e dei capillari in modo da rendere più facile per il cuore pompare sangue attraverso i vasi sanguigni. \n",
      "\n",
      "Le persone di mezza età o più devono fare un controllo della pressione arteriosa regolarmente. Quindi, le loro emfasi dovranno essere sullo sviluppo e sugli effetti dei farmaci che stanno prendendo. La presenza dello stress dovrebbe essere riconosciuta e affrontata con pazienza e tenerezza dalla persona anziana.\n",
      "\n",
      "In generale, un regime di vita sano può prevenire o ridurre la probabilità di avere l'ipertensione. Tuttavia, se si ha ipertensione e non si riesce a controllarla con un regime dietetico, lo stress fisico e psicologico devono essere gestiti adeguatamente per evitare che l'ipertensione diventi di difficile controllazione. Inoltre, i farmaci dovrebbero essere prescritti da un medico qualificato e conosciuti bene la persona anziana con le rispettive interazioni medicinali possibili. \n",
      "\n",
      "Il controllo della pressione arteriosa è fondamentale per prevenire le complesse complicanze dell'ipertensione, come il malanno cerebrale, l'insufficienza cardiaca e la cronicità di rene. Inoltre, la pressione arteriosa è una delle principali cause della morte causata dai problemi cardiovascolari. \n",
      "\n",
      "In conclusione, l'ipertensione può essere prevenita o trattata con dieta mediterranea, farmaci per abbassare la pressione e farmaci antidepressivi. L'ipertensione è una causa di problemi cardiace, dei vasi sanguigni e del cervello, quindi il controllo della pressione arteriosa è fondamentale.\n"
     ]
    }
   ],
   "source": [
    "print(multirag_chain.invoke(\"Come si cura l'ipertensione?\"))"
   ]
  },
  {
   "cell_type": "markdown",
   "metadata": {
    "id": "pjEVX1gf_nRo",
    "jp-MarkdownHeadingCollapsed": true,
    "tags": []
   },
   "source": [
    "### ENSEMBLE RETRIEVER"
   ]
  },
  {
   "cell_type": "markdown",
   "metadata": {
    "id": "JVozA1u8_nRo"
   },
   "source": [
    "L'EnsembleRetriever combina i risultati di più retriever, e poi riordina i risultati con l'algoritmo Reciprocal Rank Fusion.\n",
    "\n",
    "Questo approccio fonde i vantaggi di diversi retriever, come quelli basati su keyword che eccellono nel recupero basato su parole chiave e quelli basati su vettori che eccellono nel recupero semantico, migliorando le prestazioni complessive attraverso questo metodo di \"ricerca ibrida\"."
   ]
  },
  {
   "cell_type": "code",
   "execution_count": 43,
   "metadata": {
    "id": "9mGYH2Cu_nRo",
    "tags": []
   },
   "outputs": [
    {
     "name": "stdout",
     "output_type": "stream",
     "text": [
      "Collecting rank_bm25\n",
      "  Downloading rank_bm25-0.2.2-py3-none-any.whl (8.6 kB)\n",
      "Requirement already satisfied: numpy in /opt/conda/lib/python3.10/site-packages (from rank_bm25) (1.23.5)\n",
      "Installing collected packages: rank_bm25\n",
      "Successfully installed rank_bm25-0.2.2\n"
     ]
    }
   ],
   "source": [
    "!pip install rank_bm25"
   ]
  },
  {
   "cell_type": "code",
   "execution_count": 165,
   "metadata": {
    "id": "pzb_WEOz_nRo",
    "tags": []
   },
   "outputs": [],
   "source": [
    "from langchain.retrievers import BM25Retriever, EnsembleRetriever"
   ]
  },
  {
   "cell_type": "markdown",
   "metadata": {
    "id": "dLGugT8v_nRo"
   },
   "source": [
    "BM25 è una funzione di ordinamento utilizzata nei sistemi di recupero delle informazioni per stimare la rilevanza dei documenti rispetto a una determinata query di ricerca."
   ]
  },
  {
   "cell_type": "code",
   "execution_count": 166,
   "metadata": {
    "id": "iC0zm1JX_nRo",
    "tags": []
   },
   "outputs": [],
   "source": [
    "# initialize the bm25 retriever\n",
    "bm25_retriever = BM25Retriever.from_documents(chunks)\n",
    "bm25_retriever.k = 2"
   ]
  },
  {
   "cell_type": "code",
   "execution_count": 167,
   "metadata": {
    "id": "CJmh14X9_nRo",
    "tags": []
   },
   "outputs": [],
   "source": [
    "# initialize the ensemble retriever\n",
    "ensemble_retriever = EnsembleRetriever(retrievers=[bm25_retriever, retriever], weights=[0.5, 0.5])"
   ]
  },
  {
   "cell_type": "code",
   "execution_count": 168,
   "metadata": {
    "id": "RkfzF1bn_nRp",
    "tags": []
   },
   "outputs": [],
   "source": [
    "from langchain.schema.runnable import RunnablePassthrough\n",
    "from langchain.schema.output_parser import StrOutputParser\n",
    "\n",
    "ensemble_chain = (\n",
    "    {\"context\": ensemble_retriever,  \"question\": RunnablePassthrough()}\n",
    "    | prompt\n",
    "    | llm\n",
    "    | StrOutputParser()\n",
    ")"
   ]
  },
  {
   "cell_type": "code",
   "execution_count": 169,
   "metadata": {
    "id": "ptPQdbCW_nRp",
    "tags": []
   },
   "outputs": [
    {
     "name": "stdout",
     "output_type": "stream",
     "text": [
      "Non esiste una cura definitiva per l'ipertensione. Tuttavia, essa può essere efficacemente gestita con il supporto delle cure mediche, dei cambiamenti nel tuo stile di vita e del monitoraggio regolare della pressione sanguigna a casa. Le cure mediche includono un insieme di farmaci che possono aiutare a ridurre la pressione sanguigna e prevenire complicazioni future. I cambiamenti nel tuo stile di vita potrebbero includere una dieta equilibrata, regolare esercizio fisico, riduzione del consumo di sali e di etanolo, e perdita di peso se necessario. Il monitoraggio della pressione sanguigna a casa aiuta a monitorare la pressione sanguigna, rilevando eventuali variazioni che possono essere un indicatore delle condizioni mediche coinvolte nel processo di ipertensione. Se non sei sicuro della risposta, chiedi il supporto del tuo medico per una valutazione accurata e la gestione appropriata dell'ipertensione.\n"
     ]
    }
   ],
   "source": [
    "print(ensemble_chain.invoke(\"Come si cura l'ipertensione?\"))"
   ]
  },
  {
   "cell_type": "markdown",
   "metadata": {
    "id": "8woM3b6M_nRp",
    "jp-MarkdownHeadingCollapsed": true,
    "tags": []
   },
   "source": [
    "## ISTANZIO IL GENERATORE DEL DATA TEST E LO ESEGUO"
   ]
  },
  {
   "cell_type": "code",
   "execution_count": 173,
   "metadata": {
    "colab": {
     "base_uri": "https://localhost:8080/"
    },
    "id": "oueZEXIdB6qC",
    "outputId": "17197149-a7bd-4125-f7b8-05250961ff41",
    "tags": []
   },
   "outputs": [
    {
     "name": "stdout",
     "output_type": "stream",
     "text": [
      "Generator LLM: Ciao! Come stai oggi?\n",
      "Critic LLM: Ciao! Come stai oggi?\n",
      "\n",
      "Mi chiamo AI, Assistant Intelligence. Sono un assistente digitale progettato per fornirti assistenza e rispondere alle tue domande. Posso aiutarti a trovare informazioni, organizzare le attività, ricordare gli appuntamenti o eseguire altre funzioni basate sulle tue necessità. E' un piacere assisterti!\n",
      "Dimensione Embedding: 768\n"
     ]
    }
   ],
   "source": [
    "generator_llm = Ollama(model=\"mistral-nemo\")\n",
    "critic_llm = Ollama(model=\"qwen2\")\n",
    "\n",
    "ollama_emb = OllamaEmbeddings(\n",
    "    model=\"nomic-embed-text\",\n",
    "    #model=\"mxbai-embed-large\"\n",
    ")\n",
    "\n",
    "print('Generator LLM: '+ generator_llm.invoke('Salutami in italiano'))\n",
    "print('Critic LLM: '+ critic_llm.invoke('Salutami in italiano e dimmi chi sei'))\n",
    "\n",
    "r2 = ollama_emb.embed_query(\n",
    "    \"dimmi la seconda lettera dell'alfabeto greco\"\n",
    ")\n",
    "\n",
    "print(f'Dimensione Embedding: {len(r2)}')"
   ]
  },
  {
   "cell_type": "code",
   "execution_count": null,
   "metadata": {
    "id": "9H7UG3OJB6qC",
    "tags": []
   },
   "outputs": [],
   "source": [
    "#ESEMPIO FUNZIONANTE\n",
    "import nest_asyncio\n",
    "from ragas.testset.generator import TestsetGenerator\n",
    "from ragas.testset.evolutions import simple, reasoning, multi_context\n",
    "\n",
    "# Applica il fix per i loop di eventi annidati\n",
    "nest_asyncio.apply()\n",
    "\n",
    "generator = TestsetGenerator.from_langchain(\n",
    "    generator_llm=generator_llm,\n",
    "    critic_llm=critic_llm,\n",
    "    embeddings=ollama_emb\n",
    ")\n",
    "\n",
    "testset = generator.generate_with_langchain_docs(chunks, test_size=10,  distributions={simple: 0.5, reasoning: 0.25, multi_context: 0.25}, raise_exceptions=False)"
   ]
  },
  {
   "cell_type": "markdown",
   "metadata": {
    "id": "GYA3nKZ2C5XT",
    "jp-MarkdownHeadingCollapsed": true,
    "tags": []
   },
   "source": [
    "## USO AZURE OPENAI"
   ]
  },
  {
   "cell_type": "code",
   "execution_count": 403,
   "metadata": {
    "colab": {
     "base_uri": "https://localhost:8080/"
    },
    "executionInfo": {
     "elapsed": 16150,
     "status": "ok",
     "timestamp": 1724081966352,
     "user": {
      "displayName": "Giuseppe Salcuni",
      "userId": "05750098578665397452"
     },
     "user_tz": -120
    },
    "id": "H3EoN782Ek7J",
    "outputId": "1f79db47-d501-4bb1-9a5b-b2498152ac50",
    "tags": []
   },
   "outputs": [
    {
     "name": "stdout",
     "output_type": "stream",
     "text": [
      "content=\"Ciao! Sono un'intelligenza artificiale sviluppata da OpenAI, basata sul modello GPT-3. Posso rispondere a domande, fornire informazioni e aiutarti con vari argomenti. Come posso assisterti oggi?\" response_metadata={'token_usage': {'completion_tokens': 51, 'prompt_tokens': 28, 'total_tokens': 79}, 'model_name': 'gpt-4o-mini', 'system_fingerprint': 'fp_80a1bad4c7', 'prompt_filter_results': [{'prompt_index': 0, 'content_filter_results': {'hate': {'filtered': False, 'severity': 'safe'}, 'self_harm': {'filtered': False, 'severity': 'safe'}, 'sexual': {'filtered': False, 'severity': 'safe'}, 'violence': {'filtered': False, 'severity': 'safe'}}}], 'finish_reason': 'stop', 'logprobs': None, 'content_filter_results': {'hate': {'filtered': False, 'severity': 'safe'}, 'self_harm': {'filtered': False, 'severity': 'safe'}, 'sexual': {'filtered': False, 'severity': 'safe'}, 'violence': {'filtered': False, 'severity': 'safe'}}} id='run-a7a8aa16-1690-4911-9244-e6023bb4ce1a-0' usage_metadata={'input_tokens': 28, 'output_tokens': 51, 'total_tokens': 79}\n",
      "Dimensione Embedding: 1536\n"
     ]
    }
   ],
   "source": [
    "#print(azure_model_GPT3.invoke('Salutami in italiano e dimmi chi sei e che modello utilizzi per rispondere alle domande'))\n",
    "print(azure_model_GPT4OMINI.invoke('Salutami in italiano e dimmi chi sei e che modello utilizzi per rispondere alle domande'))\n",
    "r2 = azure_embeddings.embed_query(\n",
    "    \"dimmi la seconda lettera dell'alfabeto greco\"\n",
    ")\n",
    "\n",
    "print(f'Dimensione Embedding: {len(r2)}')"
   ]
  },
  {
   "cell_type": "code",
   "execution_count": 375,
   "metadata": {
    "colab": {
     "base_uri": "https://localhost:8080/",
     "height": 66,
     "referenced_widgets": [
      "11b7ca5400e84648a6e364d2f8cc193c",
      "85fb31282c494959bb8184607dca6021",
      "e05b9e80147749fcbda2a8b974116880",
      "fb09d567dba94414b09751f20bc78fd3",
      "00dcae1beca8478e8c596ca973954bf3",
      "50bab7802bc147e98528e7d469f8f649",
      "ebe65f02f66b4c19b7847c01af5e6d0a",
      "08b8dc02bd6342518d6c3ed06aad4196",
      "f6789df63fff4945abf92e14ffe6cb99",
      "2b586dc188434998a6d47e984d1a7d8d",
      "ab31e4467f5f4e70b536b8de0675ebb8",
      "50d66d72b8b04452bd8733ec87cdcc01",
      "9cea605ab2524f2983d0b526bf595c6c",
      "be529eb916a04978949d42a5f70e0e28",
      "9c295d4550d04e28a6c502a53c268476",
      "f519b956aa1b45a3b552977a7da173eb",
      "1d4f00f9d07e4be6a9e0fa84432640c5",
      "0f6e7d459ca647109c754c044a13b8ff",
      "84762018def04806aa56a3b002062719",
      "3ba044f88fd64a39bf6867db26aa8c98",
      "4f2478ce413b464b9733fbc8368ae692",
      "5c94413d058249259d98dde145623926"
     ]
    },
    "id": "GOyUfU3FC946",
    "outputId": "9fd03c85-5906-42c2-b1de-a9fc88514207",
    "tags": []
   },
   "outputs": [
    {
     "data": {
      "application/vnd.jupyter.widget-view+json": {
       "model_id": "",
       "version_major": 2,
       "version_minor": 0
      },
      "text/plain": [
       "embedding nodes:   0%|          | 0/3126 [00:00<?, ?it/s]"
      ]
     },
     "metadata": {},
     "output_type": "display_data"
    },
    {
     "name": "stderr",
     "output_type": "stream",
     "text": [
      "Filename and doc_id are the same for all nodes.\n"
     ]
    },
    {
     "data": {
      "application/vnd.jupyter.widget-view+json": {
       "model_id": "9ca64339132949c2bc3bcd390717f79d",
       "version_major": 2,
       "version_minor": 0
      },
      "text/plain": [
       "Generating:   0%|          | 0/20 [00:00<?, ?it/s]"
      ]
     },
     "metadata": {},
     "output_type": "display_data"
    }
   ],
   "source": [
    "import nest_asyncio\n",
    "from ragas.testset.generator import TestsetGenerator\n",
    "from ragas.testset.evolutions import simple, reasoning, multi_context\n",
    "\n",
    "# Applica il fix per i loop di eventi annidati\n",
    "nest_asyncio.apply()\n",
    "\n",
    "generator = TestsetGenerator.from_langchain(\n",
    "    generator_llm=azure_model_GPT4OMINI, critic_llm=azure_model_GPT4OMINI, embeddings=azure_embeddings\n",
    ")\n",
    "\n",
    "testset = generator.generate_with_langchain_docs(\n",
    "    chunks,\n",
    "    test_size=20,\n",
    "    raise_exceptions=False,\n",
    "    with_debugging_logs=False,\n",
    "    distributions={simple: 0.5, reasoning: 0.25, multi_context: 0.25}\n",
    ")"
   ]
  },
  {
   "cell_type": "markdown",
   "metadata": {
    "jp-MarkdownHeadingCollapsed": true,
    "tags": []
   },
   "source": [
    "## PROVO CON ADAPTER PER LA LINGUA"
   ]
  },
  {
   "cell_type": "code",
   "execution_count": 395,
   "metadata": {
    "tags": []
   },
   "outputs": [],
   "source": [
    "from ragas.testset.generator import TestsetGenerator\n",
    "from ragas.testset.evolutions import simple, reasoning, multi_context,conditional\n",
    "\n",
    "# adatto la lingua\n",
    "language = \"italian\"\n",
    "\n",
    "generator.adapt(language, evolutions=[simple, reasoning,conditional,multi_context])\n",
    "generator.save(evolutions=[simple, reasoning, multi_context,conditional])\n"
   ]
  },
  {
   "cell_type": "code",
   "execution_count": null,
   "metadata": {
    "tags": []
   },
   "outputs": [],
   "source": [
    "# Imposto la distribuzione\n",
    "\n",
    "import nest_asyncio\n",
    "\n",
    "distributions = {\n",
    "    simple:0.4,\n",
    "    reasoning:0.2,\n",
    "    multi_context:0.2,\n",
    "    conditional:0.2\n",
    "    }\n",
    "# Applica il fix per i loop di eventi annidati\n",
    "nest_asyncio.apply()\n",
    "\n",
    "generator = TestsetGenerator.from_langchain(\n",
    "    generator_llm=azure_model_GPT4OMINI, critic_llm=azure_model_GPT4OMINI, embeddings=azure_embeddings\n",
    ")\n",
    "\n",
    "\n",
    "testset = generator.generate_with_langchain_docs(chunks, 20,distributions, raise_exceptions=False)\n",
    "testset.to_pandas()"
   ]
  },
  {
   "cell_type": "markdown",
   "metadata": {
    "jp-MarkdownHeadingCollapsed": true,
    "tags": []
   },
   "source": [
    "## Creo il testset e il csv"
   ]
  },
  {
   "cell_type": "code",
   "execution_count": 397,
   "metadata": {
    "executionInfo": {
     "elapsed": 468,
     "status": "ok",
     "timestamp": 1724082319060,
     "user": {
      "displayName": "Giuseppe Salcuni",
      "userId": "05750098578665397452"
     },
     "user_tz": -120
    },
    "id": "amLCoboluJsj",
    "tags": []
   },
   "outputs": [],
   "source": [
    "testset.to_pandas()\n",
    "test_df= testset.to_pandas()"
   ]
  },
  {
   "cell_type": "code",
   "execution_count": 398,
   "metadata": {
    "id": "c2dLi3rsy_yO",
    "tags": []
   },
   "outputs": [
    {
     "data": {
      "text/html": [
       "<div>\n",
       "<style scoped>\n",
       "    .dataframe tbody tr th:only-of-type {\n",
       "        vertical-align: middle;\n",
       "    }\n",
       "\n",
       "    .dataframe tbody tr th {\n",
       "        vertical-align: top;\n",
       "    }\n",
       "\n",
       "    .dataframe thead th {\n",
       "        text-align: right;\n",
       "    }\n",
       "</style>\n",
       "<table border=\"1\" class=\"dataframe\">\n",
       "  <thead>\n",
       "    <tr style=\"text-align: right;\">\n",
       "      <th></th>\n",
       "      <th>question</th>\n",
       "      <th>contexts</th>\n",
       "      <th>ground_truth</th>\n",
       "      <th>evolution_type</th>\n",
       "      <th>metadata</th>\n",
       "      <th>episode_done</th>\n",
       "    </tr>\n",
       "  </thead>\n",
       "  <tbody>\n",
       "    <tr>\n",
       "      <th>0</th>\n",
       "      <td>How can ethnic origin influence the likelihood...</td>\n",
       "      <td>[DOMANDE: In che modo l'origine etnica può inf...</td>\n",
       "      <td>Ethnic origin can influence the genetic predis...</td>\n",
       "      <td>simple</td>\n",
       "      <td>[{'source': 'documenti/DomandeRisposteNew.csv'...</td>\n",
       "      <td>True</td>\n",
       "    </tr>\n",
       "    <tr>\n",
       "      <th>1</th>\n",
       "      <td>How does consuming alcohol in moderation affec...</td>\n",
       "      <td>[DOMANDE: C'è una connessione tra il consumo d...</td>\n",
       "      <td>Consumare alcol con moderazione è importante p...</td>\n",
       "      <td>simple</td>\n",
       "      <td>[{'source': 'documenti/DomandeRisposteNew.csv'...</td>\n",
       "      <td>True</td>\n",
       "    </tr>\n",
       "    <tr>\n",
       "      <th>2</th>\n",
       "      <td>Quali sono i fattori che possono esacerbare l'...</td>\n",
       "      <td>[DOMANDE: Quali sono le ragioni per cui la pre...</td>\n",
       "      <td>I fattori che possono esacerbare l'aumento del...</td>\n",
       "      <td>simple</td>\n",
       "      <td>[{'source': 'documenti/DomandeRisposteNew.csv'...</td>\n",
       "      <td>True</td>\n",
       "    </tr>\n",
       "    <tr>\n",
       "      <th>3</th>\n",
       "      <td>What tests are included in the blood and urine...</td>\n",
       "      <td>[DOMANDE: Quali test sono richiesti per identi...</td>\n",
       "      <td>Gli esami del sangue e delle urine per identif...</td>\n",
       "      <td>simple</td>\n",
       "      <td>[{'source': 'documenti/DomandeRisposteNew.csv'...</td>\n",
       "      <td>True</td>\n",
       "    </tr>\n",
       "    <tr>\n",
       "      <th>4</th>\n",
       "      <td>Quali alimenti sono consigliati per controllar...</td>\n",
       "      <td>[DOMANDE: Quali alimenti sono consigliati per ...</td>\n",
       "      <td>Per controllare la pressione alta, è consiglia...</td>\n",
       "      <td>simple</td>\n",
       "      <td>[{'source': 'documenti/DomandeRisposteNew.csv'...</td>\n",
       "      <td>True</td>\n",
       "    </tr>\n",
       "    <tr>\n",
       "      <th>5</th>\n",
       "      <td>What is HeartRate Monitor used for?</td>\n",
       "      <td>[DOMANDE: Esiste un'applicazione o un registro...</td>\n",
       "      <td>HeartRate Monitor è utilizzato per tenere trac...</td>\n",
       "      <td>simple</td>\n",
       "      <td>[{'source': 'documenti/DomandeRisposteNew.csv'...</td>\n",
       "      <td>True</td>\n",
       "    </tr>\n",
       "    <tr>\n",
       "      <th>6</th>\n",
       "      <td>What is hypertensive retinopathy?</td>\n",
       "      <td>[DOMANDE: La pressione alta può causare proble...</td>\n",
       "      <td>La risposta alla domanda data non è presente n...</td>\n",
       "      <td>simple</td>\n",
       "      <td>[{'source': 'documenti/DomandeRisposteNew.csv'...</td>\n",
       "      <td>True</td>\n",
       "    </tr>\n",
       "    <tr>\n",
       "      <th>7</th>\n",
       "      <td>What is a \"misuratore di pressione omologato\"?</td>\n",
       "      <td>[DOMANDE: Quali informazioni puoi fornirmi rig...</td>\n",
       "      <td>La risposta alla domanda data non è presente n...</td>\n",
       "      <td>simple</td>\n",
       "      <td>[{'source': 'documenti/DomandeRisposteNew.csv'...</td>\n",
       "      <td>True</td>\n",
       "    </tr>\n",
       "    <tr>\n",
       "      <th>8</th>\n",
       "      <td>translate_to: \"italian\"\\ninput: \"What is the n...</td>\n",
       "      <td>[DOMANDE: Quali sono i valori considerati norm...</td>\n",
       "      <td>La pressione diastolica normale con una sistol...</td>\n",
       "      <td>reasoning</td>\n",
       "      <td>[{'source': 'documenti/DomandeRisposteNew.csv'...</td>\n",
       "      <td>True</td>\n",
       "    </tr>\n",
       "    <tr>\n",
       "      <th>9</th>\n",
       "      <td>translate_to: \"italian\"\\ninput: \"Why limit alc...</td>\n",
       "      <td>[DOMANDE: Il consumo di alcol influisce sulla ...</td>\n",
       "      <td>È importante limitare l'assunzione di alcol pe...</td>\n",
       "      <td>reasoning</td>\n",
       "      <td>[{'source': 'documenti/DomandeRisposteNew.csv'...</td>\n",
       "      <td>True</td>\n",
       "    </tr>\n",
       "    <tr>\n",
       "      <th>10</th>\n",
       "      <td>translate_to: \"italian\"\\ninput: \"How are renal...</td>\n",
       "      <td>[DOMANDE: Quali test sono richiesti per identi...</td>\n",
       "      <td>La funzione renale e i livelli di colesterolo ...</td>\n",
       "      <td>reasoning</td>\n",
       "      <td>[{'source': 'documenti/DomandeRisposteNew.csv'...</td>\n",
       "      <td>True</td>\n",
       "    </tr>\n",
       "    <tr>\n",
       "      <th>11</th>\n",
       "      <td>Quali modifiche dietetiche consigli per la pre...</td>\n",
       "      <td>[DOMANDE: Che tipo di assistenza puoi fornirmi...</td>\n",
       "      <td>Posso fornirti consigli su come modificare la ...</td>\n",
       "      <td>reasoning</td>\n",
       "      <td>[{'source': 'documenti/DomandeRisposteNew.csv'...</td>\n",
       "      <td>True</td>\n",
       "    </tr>\n",
       "    <tr>\n",
       "      <th>12</th>\n",
       "      <td>translate_to: \"italian\"\\ninput: \"What should b...</td>\n",
       "      <td>[DOMANDE: Puoi suggerirmi un modo per annotare...</td>\n",
       "      <td>In un diario dei sintomi, dovresti includere l...</td>\n",
       "      <td>multi_context</td>\n",
       "      <td>[{'source': 'documenti/DomandeRisposteNew.csv'...</td>\n",
       "      <td>True</td>\n",
       "    </tr>\n",
       "    <tr>\n",
       "      <th>13</th>\n",
       "      <td>Quali fattori genetici e di stile di vita infl...</td>\n",
       "      <td>[DOMANDE: L'ipertensione nei miei familiari au...</td>\n",
       "      <td>I fattori genetici includono la predisposizion...</td>\n",
       "      <td>multi_context</td>\n",
       "      <td>[{'source': 'documenti/DomandeRisposteNew.csv'...</td>\n",
       "      <td>True</td>\n",
       "    </tr>\n",
       "    <tr>\n",
       "      <th>14</th>\n",
       "      <td>translate_to: \"english\"\\ninput: \"Which physica...</td>\n",
       "      <td>[DOMANDE: La mia pressione sanguigna è variata...</td>\n",
       "      <td>Factors such as stress, physical activity, die...</td>\n",
       "      <td>multi_context</td>\n",
       "      <td>[{'source': 'documenti/DomandeRisposteNew.csv'...</td>\n",
       "      <td>True</td>\n",
       "    </tr>\n",
       "    <tr>\n",
       "      <th>15</th>\n",
       "      <td>Come razza e fattori socioecon. influiscono su...</td>\n",
       "      <td>[DOMANDE: In che modo la razza può incidere su...</td>\n",
       "      <td>La razza e i fattori socioeconomici influiscon...</td>\n",
       "      <td>multi_context</td>\n",
       "      <td>[{'source': 'documenti/DomandeRisposteNew.csv'...</td>\n",
       "      <td>True</td>\n",
       "    </tr>\n",
       "    <tr>\n",
       "      <th>16</th>\n",
       "      <td>question: \"\\\"Quali test sono cruciali per iden...</td>\n",
       "      <td>[DOMANDE: Quali test sono richiesti per identi...</td>\n",
       "      <td>La risposta alla domanda data non è presente n...</td>\n",
       "      <td>conditional</td>\n",
       "      <td>[{'source': 'documenti/DomandeRisposteNew.csv'...</td>\n",
       "      <td>True</td>\n",
       "    </tr>\n",
       "    <tr>\n",
       "      <th>17</th>\n",
       "      <td>question: \"\\\"Qual è l'importanza dei controlli...</td>\n",
       "      <td>[DOMANDE: Quali modifiche nelle abitudini quot...</td>\n",
       "      <td>I controlli medici regolari sono importanti ne...</td>\n",
       "      <td>conditional</td>\n",
       "      <td>[{'source': 'documenti/DomandeRisposteNew.csv'...</td>\n",
       "      <td>True</td>\n",
       "    </tr>\n",
       "    <tr>\n",
       "      <th>18</th>\n",
       "      <td>question: \"\\\"Per una persona anziana sedentari...</td>\n",
       "      <td>[DOMANDE: Quali sono le ragioni per cui la pre...</td>\n",
       "      <td>Per una persona anziana sedentaria, i fattori ...</td>\n",
       "      <td>conditional</td>\n",
       "      <td>[{'source': 'documenti/DomandeRisposteNew.csv'...</td>\n",
       "      <td>True</td>\n",
       "    </tr>\n",
       "    <tr>\n",
       "      <th>19</th>\n",
       "      <td>question: \"\\\"Which untreated condition raises ...</td>\n",
       "      <td>[DOMANDE: Mi puoi spiegare cosa si intende per...</td>\n",
       "      <td>La risposta alla domanda data non è presente n...</td>\n",
       "      <td>conditional</td>\n",
       "      <td>[{'source': 'documenti/DomandeRisposteNew.csv'...</td>\n",
       "      <td>True</td>\n",
       "    </tr>\n",
       "  </tbody>\n",
       "</table>\n",
       "</div>"
      ],
      "text/plain": [
       "                                             question   \n",
       "0   How can ethnic origin influence the likelihood...  \\\n",
       "1   How does consuming alcohol in moderation affec...   \n",
       "2   Quali sono i fattori che possono esacerbare l'...   \n",
       "3   What tests are included in the blood and urine...   \n",
       "4   Quali alimenti sono consigliati per controllar...   \n",
       "5                 What is HeartRate Monitor used for?   \n",
       "6                   What is hypertensive retinopathy?   \n",
       "7      What is a \"misuratore di pressione omologato\"?   \n",
       "8   translate_to: \"italian\"\\ninput: \"What is the n...   \n",
       "9   translate_to: \"italian\"\\ninput: \"Why limit alc...   \n",
       "10  translate_to: \"italian\"\\ninput: \"How are renal...   \n",
       "11  Quali modifiche dietetiche consigli per la pre...   \n",
       "12  translate_to: \"italian\"\\ninput: \"What should b...   \n",
       "13  Quali fattori genetici e di stile di vita infl...   \n",
       "14  translate_to: \"english\"\\ninput: \"Which physica...   \n",
       "15  Come razza e fattori socioecon. influiscono su...   \n",
       "16  question: \"\\\"Quali test sono cruciali per iden...   \n",
       "17  question: \"\\\"Qual è l'importanza dei controlli...   \n",
       "18  question: \"\\\"Per una persona anziana sedentari...   \n",
       "19  question: \"\\\"Which untreated condition raises ...   \n",
       "\n",
       "                                             contexts   \n",
       "0   [DOMANDE: In che modo l'origine etnica può inf...  \\\n",
       "1   [DOMANDE: C'è una connessione tra il consumo d...   \n",
       "2   [DOMANDE: Quali sono le ragioni per cui la pre...   \n",
       "3   [DOMANDE: Quali test sono richiesti per identi...   \n",
       "4   [DOMANDE: Quali alimenti sono consigliati per ...   \n",
       "5   [DOMANDE: Esiste un'applicazione o un registro...   \n",
       "6   [DOMANDE: La pressione alta può causare proble...   \n",
       "7   [DOMANDE: Quali informazioni puoi fornirmi rig...   \n",
       "8   [DOMANDE: Quali sono i valori considerati norm...   \n",
       "9   [DOMANDE: Il consumo di alcol influisce sulla ...   \n",
       "10  [DOMANDE: Quali test sono richiesti per identi...   \n",
       "11  [DOMANDE: Che tipo di assistenza puoi fornirmi...   \n",
       "12  [DOMANDE: Puoi suggerirmi un modo per annotare...   \n",
       "13  [DOMANDE: L'ipertensione nei miei familiari au...   \n",
       "14  [DOMANDE: La mia pressione sanguigna è variata...   \n",
       "15  [DOMANDE: In che modo la razza può incidere su...   \n",
       "16  [DOMANDE: Quali test sono richiesti per identi...   \n",
       "17  [DOMANDE: Quali modifiche nelle abitudini quot...   \n",
       "18  [DOMANDE: Quali sono le ragioni per cui la pre...   \n",
       "19  [DOMANDE: Mi puoi spiegare cosa si intende per...   \n",
       "\n",
       "                                         ground_truth evolution_type   \n",
       "0   Ethnic origin can influence the genetic predis...         simple  \\\n",
       "1   Consumare alcol con moderazione è importante p...         simple   \n",
       "2   I fattori che possono esacerbare l'aumento del...         simple   \n",
       "3   Gli esami del sangue e delle urine per identif...         simple   \n",
       "4   Per controllare la pressione alta, è consiglia...         simple   \n",
       "5   HeartRate Monitor è utilizzato per tenere trac...         simple   \n",
       "6   La risposta alla domanda data non è presente n...         simple   \n",
       "7   La risposta alla domanda data non è presente n...         simple   \n",
       "8   La pressione diastolica normale con una sistol...      reasoning   \n",
       "9   È importante limitare l'assunzione di alcol pe...      reasoning   \n",
       "10  La funzione renale e i livelli di colesterolo ...      reasoning   \n",
       "11  Posso fornirti consigli su come modificare la ...      reasoning   \n",
       "12  In un diario dei sintomi, dovresti includere l...  multi_context   \n",
       "13  I fattori genetici includono la predisposizion...  multi_context   \n",
       "14  Factors such as stress, physical activity, die...  multi_context   \n",
       "15  La razza e i fattori socioeconomici influiscon...  multi_context   \n",
       "16  La risposta alla domanda data non è presente n...    conditional   \n",
       "17  I controlli medici regolari sono importanti ne...    conditional   \n",
       "18  Per una persona anziana sedentaria, i fattori ...    conditional   \n",
       "19  La risposta alla domanda data non è presente n...    conditional   \n",
       "\n",
       "                                             metadata  episode_done  \n",
       "0   [{'source': 'documenti/DomandeRisposteNew.csv'...          True  \n",
       "1   [{'source': 'documenti/DomandeRisposteNew.csv'...          True  \n",
       "2   [{'source': 'documenti/DomandeRisposteNew.csv'...          True  \n",
       "3   [{'source': 'documenti/DomandeRisposteNew.csv'...          True  \n",
       "4   [{'source': 'documenti/DomandeRisposteNew.csv'...          True  \n",
       "5   [{'source': 'documenti/DomandeRisposteNew.csv'...          True  \n",
       "6   [{'source': 'documenti/DomandeRisposteNew.csv'...          True  \n",
       "7   [{'source': 'documenti/DomandeRisposteNew.csv'...          True  \n",
       "8   [{'source': 'documenti/DomandeRisposteNew.csv'...          True  \n",
       "9   [{'source': 'documenti/DomandeRisposteNew.csv'...          True  \n",
       "10  [{'source': 'documenti/DomandeRisposteNew.csv'...          True  \n",
       "11  [{'source': 'documenti/DomandeRisposteNew.csv'...          True  \n",
       "12  [{'source': 'documenti/DomandeRisposteNew.csv'...          True  \n",
       "13  [{'source': 'documenti/DomandeRisposteNew.csv'...          True  \n",
       "14  [{'source': 'documenti/DomandeRisposteNew.csv'...          True  \n",
       "15  [{'source': 'documenti/DomandeRisposteNew.csv'...          True  \n",
       "16  [{'source': 'documenti/DomandeRisposteNew.csv'...          True  \n",
       "17  [{'source': 'documenti/DomandeRisposteNew.csv'...          True  \n",
       "18  [{'source': 'documenti/DomandeRisposteNew.csv'...          True  \n",
       "19  [{'source': 'documenti/DomandeRisposteNew.csv'...          True  "
      ]
     },
     "execution_count": 398,
     "metadata": {},
     "output_type": "execute_result"
    }
   ],
   "source": [
    "#creo il csv del test set\n",
    "test_df.to_csv('test_dataGPT4OMINIADAPTER.csv', index=False )\n",
    "test_df"
   ]
  },
  {
   "cell_type": "markdown",
   "metadata": {
    "jp-MarkdownHeadingCollapsed": true,
    "tags": []
   },
   "source": [
    "## IMPORTO METRICHE RAGAS"
   ]
  },
  {
   "cell_type": "code",
   "execution_count": 55,
   "metadata": {
    "colab": {
     "background_save": true
    },
    "id": "hSCMwHpx0NnF",
    "tags": []
   },
   "outputs": [],
   "source": [
    "from ragas import evaluate\n",
    "from ragas.metrics.critique import harmfulness\n",
    "from ragas.metrics import (\n",
    "    faithfulness,\n",
    "    answer_relevancy,\n",
    "    answer_similarity,\n",
    "   #context_relevancy,\n",
    "    context_recall,\n",
    "    context_precision,\n",
    "    answer_correctness\n",
    ")\n"
   ]
  },
  {
   "cell_type": "markdown",
   "metadata": {
    "id": "Bc5wCld7_nRq",
    "tags": []
   },
   "source": [
    "## VALUTAZIONE CON METRICHE RAGAS -BASE RETRIEVER"
   ]
  },
  {
   "cell_type": "code",
   "execution_count": 399,
   "metadata": {
    "id": "M9UlXvaIz90p",
    "tags": []
   },
   "outputs": [],
   "source": [
    "questions = testset.to_pandas()[\"question\"].to_list()\n",
    "ground_truth = testset.to_pandas()[\"ground_truth\"].to_list()"
   ]
  },
  {
   "cell_type": "code",
   "execution_count": 170,
   "metadata": {
    "id": "K5VneVbT_nRq",
    "tags": []
   },
   "outputs": [],
   "source": [
    "import pandas as pd\n",
    "\n",
    "# Carica il CSV in un nuovo DataFrame\n",
    "loaded_df = pd.read_csv('test_dataChatGPT4O_BUONO.csv') #test_dataGPT4OMINI _BUONO / test_dataChatGPT4O_BUONO (sembra ottenere risultati migliori con gpt4O)\n",
    "\n",
    "# Estrai le colonne 'question' e 'ground_truth'\n",
    "questions = loaded_df[\"question\"].to_list()\n",
    "ground_truth = loaded_df[\"ground_truth\"].to_list()\n"
   ]
  },
  {
   "cell_type": "code",
   "execution_count": 171,
   "metadata": {
    "id": "-G451qhE_nRr",
    "tags": []
   },
   "outputs": [],
   "source": [
    "#PER CAMBIARE LLM DI VALUTAZIONE TUTTI I RETRIEVER FARANNO RIFERIMENTO\n",
    "llm = Ollama(model=\"echelonify/med-qwen2\") #echelonify/med-qwen2"
   ]
  },
  {
   "cell_type": "code",
   "execution_count": 145,
   "metadata": {
    "id": "yQV_WERd_nRr",
    "tags": []
   },
   "outputs": [
    {
     "name": "stderr",
     "output_type": "stream",
     "text": [
      "Processing queries: 100%|██████████| 18/18 [01:00<00:00,  3.35s/it]\n"
     ]
    }
   ],
   "source": [
    "from datasets import Dataset\n",
    "from tqdm import tqdm\n",
    "\n",
    "# Assicurati che questions e ground_truth siano definiti\n",
    "# questions = testset.to_pandas()[\"question\"].to_list()\n",
    "# ground_truth = testset.to_pandas()[\"ground_truth\"].to_list()\n",
    "\n",
    "data = {\"question\": [], \"answer\": [], \"contexts\": [], \"ground_truth\": ground_truth}\n",
    "\n",
    "# Utilizzo di tqdm per creare una barra di avanzamento\n",
    "for query in tqdm(questions, desc=\"Processing queries\"):\n",
    "    data[\"question\"].append(query)\n",
    "    data[\"answer\"].append(rag_chain.invoke(query))\n",
    "    data[\"contexts\"].append([doc.page_content for doc in retriever.get_relevant_documents(query)])\n",
    "\n",
    "dataset = Dataset.from_dict(data)\n"
   ]
  },
  {
   "cell_type": "code",
   "execution_count": 146,
   "metadata": {
    "id": "98_9Gf07_nRr",
    "tags": []
   },
   "outputs": [],
   "source": [
    "dataset.to_pandas()\n",
    "datacompleto= dataset.to_pandas()\n",
    "datacompleto.to_csv('DataCompletoQWENMED5.csv', index=False)\n",
    "#datacompleto"
   ]
  },
  {
   "cell_type": "code",
   "execution_count": 149,
   "metadata": {
    "tags": []
   },
   "outputs": [
    {
     "name": "stdout",
     "output_type": "stream",
     "text": [
      "Dataset({\n",
      "    features: ['question', 'answer', 'contexts', 'ground_truth'],\n",
      "    num_rows: 18\n",
      "})\n"
     ]
    }
   ],
   "source": [
    "#SE LO IMPORTO DAI DATAFRAME PRECEDENTI\n",
    "\n",
    "import pandas as pd\n",
    "from datasets import Dataset\n",
    "\n",
    "# Leggi il file CSV in un DataFrame di Pandas\n",
    "dataframe = pd.read_csv('DataCompletoQWENMED.csv')\n",
    "\n",
    "# Converti il DataFrame in un dataset Hugging Face\n",
    "datasetImportato = Dataset.from_pandas(dataframe)\n",
    "\n",
    "# Mostra il dataset\n",
    "print(datasetImportato)\n"
   ]
  },
  {
   "cell_type": "code",
   "execution_count": null,
   "metadata": {
    "tags": []
   },
   "outputs": [],
   "source": [
    "#PER TESTARE SINGOLA METRICA\n",
    "score = evaluate(dataset,metrics=[answer_relevancy, faithfulness], llm=azure_model_GPT4OMINI, embeddings=azure_embeddings)\n",
    "score.to_pandas()"
   ]
  },
  {
   "cell_type": "code",
   "execution_count": 151,
   "metadata": {
    "tags": []
   },
   "outputs": [
    {
     "data": {
      "text/plain": [
       "{'answer_relevancy': 0.7594, 'faithfulness': 0.4398}"
      ]
     },
     "execution_count": 151,
     "metadata": {},
     "output_type": "execute_result"
    }
   ],
   "source": [
    "score"
   ]
  },
  {
   "cell_type": "code",
   "execution_count": 152,
   "metadata": {
    "tags": []
   },
   "outputs": [],
   "source": [
    "DatasetScore= score.to_pandas()\n",
    "DatasetScore.to_csv('SCOREQWENMED.csv', index=False)"
   ]
  },
  {
   "cell_type": "code",
   "execution_count": 107,
   "metadata": {
    "tags": []
   },
   "outputs": [
    {
     "data": {
      "text/plain": [
       "{'answer_relevancy': 0.4109, 'faithfulness': 0.5269}"
      ]
     },
     "execution_count": 107,
     "metadata": {},
     "output_type": "execute_result"
    }
   ],
   "source": [
    "#score nuovo\n",
    "score"
   ]
  },
  {
   "cell_type": "code",
   "execution_count": 73,
   "metadata": {
    "tags": []
   },
   "outputs": [
    {
     "data": {
      "text/plain": [
       "{'answer_relevancy': 0.4178, 'faithfulness': 0.3359}"
      ]
     },
     "execution_count": 73,
     "metadata": {},
     "output_type": "execute_result"
    }
   ],
   "source": [
    "score"
   ]
  },
  {
   "cell_type": "code",
   "execution_count": 90,
   "metadata": {
    "tags": []
   },
   "outputs": [
    {
     "data": {
      "text/plain": [
       "{'answer_relevancy': 0.6631, 'faithfulness': 0.4591}"
      ]
     },
     "execution_count": 90,
     "metadata": {},
     "output_type": "execute_result"
    }
   ],
   "source": [
    "#score med qwen\n",
    "score"
   ]
  },
  {
   "cell_type": "code",
   "execution_count": 255,
   "metadata": {
    "id": "6qOjHMk29RK-",
    "tags": []
   },
   "outputs": [
    {
     "data": {
      "application/vnd.jupyter.widget-view+json": {
       "model_id": "bb6c44116e6f4d08a3de2d66e58ea1c7",
       "version_major": 2,
       "version_minor": 0
      },
      "text/plain": [
       "Evaluating:   0%|          | 0/60 [00:00<?, ?it/s]"
      ]
     },
     "metadata": {},
     "output_type": "display_data"
    },
    {
     "name": "stderr",
     "output_type": "stream",
     "text": [
      "Exception raised in Job[36]: TimeoutError()\n",
      "Exception raised in Job[38]: TimeoutError()\n",
      "Failed to parse output. Returning None.\n"
     ]
    },
    {
     "name": "stdout",
     "output_type": "stream",
     "text": [
      "CPU times: user 9.53 s, sys: 553 ms, total: 10.1 s\n",
      "Wall time: 6min 34s\n"
     ]
    }
   ],
   "source": [
    "%%time\n",
    "from langchain_core.language_models import BaseLanguageModel\n",
    "from langchain_core.embeddings import Embeddings\n",
    "from ragas import evaluate\n",
    "\n",
    "#langchain_llm =  # any langchain LLM instance\n",
    "#langchain_embeddings = # any langchain Embeddings instance\n",
    "\n",
    "resultBase = evaluate(\n",
    "        dataset = dataset,\n",
    "        metrics=[\n",
    "              faithfulness,\n",
    "              answer_relevancy,\n",
    "              answer_correctness,\n",
    "              context_recall,\n",
    "              context_precision,\n",
    "              harmfulness\n",
    "          ],\n",
    "        llm=generator_llm,\n",
    "        embeddings=ollama_emb,\n",
    "        raise_exceptions=False\n",
    "    )\n"
   ]
  },
  {
   "cell_type": "code",
   "execution_count": null,
   "metadata": {
    "tags": []
   },
   "outputs": [],
   "source": [
    "resultBase.to_pandas()"
   ]
  },
  {
   "cell_type": "markdown",
   "metadata": {
    "id": "lTfBLVas_nRs",
    "jp-MarkdownHeadingCollapsed": true,
    "tags": []
   },
   "source": [
    "## VALUTAZIONE MULTI QUERY RETRIVER"
   ]
  },
  {
   "cell_type": "code",
   "execution_count": 91,
   "metadata": {
    "id": "zPoMV_hy_nRs",
    "tags": []
   },
   "outputs": [
    {
     "name": "stderr",
     "output_type": "stream",
     "text": [
      "Processing queries: 100%|██████████| 18/18 [01:44<00:00,  5.82s/it]\n"
     ]
    }
   ],
   "source": [
    "from datasets import Dataset\n",
    "from tqdm import tqdm\n",
    "\n",
    "# Assicurati che questions e ground_truth siano definiti\n",
    "# questions = testset.to_pandas()[\"question\"].to_list()\n",
    "# ground_truth = testset.to_pandas()[\"ground_truth\"].to_list()\n",
    "\n",
    "data = {\"question\": [], \"answer\": [], \"contexts\": [], \"ground_truth\": ground_truth}\n",
    "\n",
    "# Utilizzo di tqdm per creare una barra di avanzamento\n",
    "for query in tqdm(questions, desc=\"Processing queries\"):\n",
    "    data[\"question\"].append(query)\n",
    "    data[\"answer\"].append(multirag_chain.invoke(query))\n",
    "    data[\"contexts\"].append([doc.page_content for doc in retriever.get_relevant_documents(query)])\n",
    "\n",
    "response_dataset_advanced_retrieval = Dataset.from_dict(data)"
   ]
  },
  {
   "cell_type": "code",
   "execution_count": null,
   "metadata": {
    "id": "CHGNI6ZY_nRs",
    "tags": []
   },
   "outputs": [],
   "source": [
    "response_dataset_advanced_retrieval.to_pandas()\n",
    "responseMultiRetriver= response_dataset_advanced_retrieval.to_pandas()\n",
    "responseMultiRetriver.to_csv('responseMultiRetriver.csv', index=False)\n",
    "responseMultiRetriver"
   ]
  },
  {
   "cell_type": "code",
   "execution_count": 93,
   "metadata": {
    "tags": []
   },
   "outputs": [
    {
     "data": {
      "application/vnd.jupyter.widget-view+json": {
       "model_id": "081a82ba05f44f988c578e9fddcd6b68",
       "version_major": 2,
       "version_minor": 0
      },
      "text/plain": [
       "Evaluating:   0%|          | 0/36 [00:00<?, ?it/s]"
      ]
     },
     "metadata": {},
     "output_type": "display_data"
    },
    {
     "data": {
      "text/html": [
       "<div>\n",
       "<style scoped>\n",
       "    .dataframe tbody tr th:only-of-type {\n",
       "        vertical-align: middle;\n",
       "    }\n",
       "\n",
       "    .dataframe tbody tr th {\n",
       "        vertical-align: top;\n",
       "    }\n",
       "\n",
       "    .dataframe thead th {\n",
       "        text-align: right;\n",
       "    }\n",
       "</style>\n",
       "<table border=\"1\" class=\"dataframe\">\n",
       "  <thead>\n",
       "    <tr style=\"text-align: right;\">\n",
       "      <th></th>\n",
       "      <th>question</th>\n",
       "      <th>answer</th>\n",
       "      <th>contexts</th>\n",
       "      <th>ground_truth</th>\n",
       "      <th>answer_relevancy</th>\n",
       "      <th>faithfulness</th>\n",
       "    </tr>\n",
       "  </thead>\n",
       "  <tbody>\n",
       "    <tr>\n",
       "      <th>0</th>\n",
       "      <td>Quali tipi di farmaci possono essere utilizzat...</td>\n",
       "      <td>Sulla base delle informazioni fornite, i tipi ...</td>\n",
       "      <td>[DOMANDE: Quali medicinali si possono usare pe...</td>\n",
       "      <td>Esistono diversi tipi di farmaci che possono e...</td>\n",
       "      <td>0.946508</td>\n",
       "      <td>0.000000</td>\n",
       "    </tr>\n",
       "    <tr>\n",
       "      <th>1</th>\n",
       "      <td>Come influisce la presenza di familiari con ip...</td>\n",
       "      <td>La presenza di familiari con ipertensione aume...</td>\n",
       "      <td>[DOMANDE: La presenza di familiari con iperten...</td>\n",
       "      <td>Sì, la presenza di familiari con ipertensione ...</td>\n",
       "      <td>0.972104</td>\n",
       "      <td>0.476190</td>\n",
       "    </tr>\n",
       "    <tr>\n",
       "      <th>2</th>\n",
       "      <td>Come può la visione offuscata essere un segnal...</td>\n",
       "      <td>La visione offuscata può essere un segnale imp...</td>\n",
       "      <td>[DOMANDE: Esistono segnali di avvertimento che...</td>\n",
       "      <td>La risposta alla domanda non è presente nel co...</td>\n",
       "      <td>0.894739</td>\n",
       "      <td>0.100000</td>\n",
       "    </tr>\n",
       "    <tr>\n",
       "      <th>3</th>\n",
       "      <td>Perché è importante fare regolare attività fis...</td>\n",
       "      <td>La pratica di attività fisica regolare è estre...</td>\n",
       "      <td>[DOMANDE: L'attività fisica effettuata con cos...</td>\n",
       "      <td>Fare regolare attività fisica è importante per...</td>\n",
       "      <td>0.976770</td>\n",
       "      <td>0.235294</td>\n",
       "    </tr>\n",
       "    <tr>\n",
       "      <th>4</th>\n",
       "      <td>Quali sintomi possono indicare la presenza di ...</td>\n",
       "      <td>**Sintomi della Pressione Alta**\\n\\nLa pressio...</td>\n",
       "      <td>[DOMANDE: Che sintomi posso aspettarmi se ho l...</td>\n",
       "      <td>I sintomi possono includere mal di testa persi...</td>\n",
       "      <td>0.959565</td>\n",
       "      <td>0.333333</td>\n",
       "    </tr>\n",
       "    <tr>\n",
       "      <th>5</th>\n",
       "      <td>Come posso importare dati storici per confront...</td>\n",
       "      <td>Per poter importare e confrontare i tuoi dati ...</td>\n",
       "      <td>[DOMANDE: Come posso integrare i dati della mi...</td>\n",
       "      <td>Molti software e app di salute permettono di i...</td>\n",
       "      <td>0.966248</td>\n",
       "      <td>0.416667</td>\n",
       "    </tr>\n",
       "    <tr>\n",
       "      <th>6</th>\n",
       "      <td>Cosa significa avere la pressione alta?</td>\n",
       "      <td>**La pressione alta (ipertensione) è una condi...</td>\n",
       "      <td>[DOMANDE: Che cosa significa soffrire di press...</td>\n",
       "      <td>L'ipertensione è una condizione in cui la forz...</td>\n",
       "      <td>0.994774</td>\n",
       "      <td>0.692308</td>\n",
       "    </tr>\n",
       "    <tr>\n",
       "      <th>7</th>\n",
       "      <td>Come posso rendere le informazioni sui sintomi...</td>\n",
       "      <td>Per rendere le informazioni sui sintomi più ac...</td>\n",
       "      <td>[DOMANDE: In che modo posso monitorare e annot...</td>\n",
       "      <td>Annota i sintomi poco dopo che si sono verific...</td>\n",
       "      <td>0.999999</td>\n",
       "      <td>0.545455</td>\n",
       "    </tr>\n",
       "    <tr>\n",
       "      <th>8</th>\n",
       "      <td>Perché è importante fare esercizio fisico mode...</td>\n",
       "      <td>**La regolarità dell'esercizio fisico e la ges...</td>\n",
       "      <td>[DOMANDE: La mia pressione sanguigna è stata i...</td>\n",
       "      <td>La risposta alla domanda non è presente nel co...</td>\n",
       "      <td>0.887136</td>\n",
       "      <td>1.000000</td>\n",
       "    </tr>\n",
       "    <tr>\n",
       "      <th>9</th>\n",
       "      <td>Come ridurre il rischio di insufficienza renal...</td>\n",
       "      <td>Non posso fornire indicazioni mediche. Se hai ...</td>\n",
       "      <td>[DOMANDE: Quali effetti può avere l'ipertensio...</td>\n",
       "      <td>Il diabete e l'ipertensione sono strettamente ...</td>\n",
       "      <td>0.000000</td>\n",
       "      <td>0.000000</td>\n",
       "    </tr>\n",
       "    <tr>\n",
       "      <th>10</th>\n",
       "      <td>Quali sono i passi da compiere per monitorare ...</td>\n",
       "      <td>Per monitorare e modificare il tuo stile di vi...</td>\n",
       "      <td>[DOMANDE: In che modo la pressione alta può al...</td>\n",
       "      <td>È importante monitorare regolarmente la pressi...</td>\n",
       "      <td>0.889268</td>\n",
       "      <td>1.000000</td>\n",
       "    </tr>\n",
       "    <tr>\n",
       "      <th>11</th>\n",
       "      <td>Quali strumenti importano e analizzano i dati ...</td>\n",
       "      <td>E' possibile utilizzare diversi strumenti per ...</td>\n",
       "      <td>[DOMANDE: Quali strumenti posso utilizzare per...</td>\n",
       "      <td>È possibile utilizzare fogli di calcolo come M...</td>\n",
       "      <td>0.887857</td>\n",
       "      <td>0.333333</td>\n",
       "    </tr>\n",
       "    <tr>\n",
       "      <th>12</th>\n",
       "      <td>Quali sintomi di ipertensione includono mal di...</td>\n",
       "      <td>Non trovo alcuna domanda specifica nel testo f...</td>\n",
       "      <td>[DOMANDE: Quali sono i sintomi che potrei risc...</td>\n",
       "      <td>I sintomi di ipertensione che includono mal di...</td>\n",
       "      <td>0.000000</td>\n",
       "      <td>0.181818</td>\n",
       "    </tr>\n",
       "    <tr>\n",
       "      <th>13</th>\n",
       "      <td>Quali tech mostrano dati storici e attuali del...</td>\n",
       "      <td>Gli strumenti più adatti per visualizzare e co...</td>\n",
       "      <td>[DOMANDE: Quali sono i migliori strumenti tecn...</td>\n",
       "      <td>Molti software e app di salute permettono di i...</td>\n",
       "      <td>0.923617</td>\n",
       "      <td>0.250000</td>\n",
       "    </tr>\n",
       "    <tr>\n",
       "      <th>14</th>\n",
       "      <td>Come la gestione del diabete previene complica...</td>\n",
       "      <td>Non posso fornire informazioni medicali. Se ha...</td>\n",
       "      <td>[DOMANDE: Che suggerimento puoi darmi riguardo...</td>\n",
       "      <td>Gestire bene il diabete può aiutare a mantener...</td>\n",
       "      <td>0.000000</td>\n",
       "      <td>0.666667</td>\n",
       "    </tr>\n",
       "    <tr>\n",
       "      <th>15</th>\n",
       "      <td>Come vertigini e mal di testa persistenti poss...</td>\n",
       "      <td>Non posso fornire una risposta che potrebbe es...</td>\n",
       "      <td>[DOMANDE: Quali segnali possono indicare la pr...</td>\n",
       "      <td>Vertigini e mal di testa persistenti possono e...</td>\n",
       "      <td>0.000000</td>\n",
       "      <td>0.000000</td>\n",
       "    </tr>\n",
       "    <tr>\n",
       "      <th>16</th>\n",
       "      <td>Quali pratiche e abitudini per gestire l'ipert...</td>\n",
       "      <td>Gestire l'ipertensione può essere un processo ...</td>\n",
       "      <td>[DOMANDE: Si può guarire dall'ipertensione o è...</td>\n",
       "      <td>Per gestire l'ipertensione, è consigliato ridu...</td>\n",
       "      <td>0.949021</td>\n",
       "      <td>0.416667</td>\n",
       "    </tr>\n",
       "    <tr>\n",
       "      <th>17</th>\n",
       "      <td>Quali sintomi comuni, come la visione offuscat...</td>\n",
       "      <td>La domanda richiede una risposta diretta e pre...</td>\n",
       "      <td>[DOMANDE: Quali sono i sintomi comuni dell'ipe...</td>\n",
       "      <td>Alcuni sintomi comuni di ipertensione possono ...</td>\n",
       "      <td>0.000000</td>\n",
       "      <td>0.250000</td>\n",
       "    </tr>\n",
       "  </tbody>\n",
       "</table>\n",
       "</div>"
      ],
      "text/plain": [
       "                                             question   \n",
       "0   Quali tipi di farmaci possono essere utilizzat...  \\\n",
       "1   Come influisce la presenza di familiari con ip...   \n",
       "2   Come può la visione offuscata essere un segnal...   \n",
       "3   Perché è importante fare regolare attività fis...   \n",
       "4   Quali sintomi possono indicare la presenza di ...   \n",
       "5   Come posso importare dati storici per confront...   \n",
       "6             Cosa significa avere la pressione alta?   \n",
       "7   Come posso rendere le informazioni sui sintomi...   \n",
       "8   Perché è importante fare esercizio fisico mode...   \n",
       "9   Come ridurre il rischio di insufficienza renal...   \n",
       "10  Quali sono i passi da compiere per monitorare ...   \n",
       "11  Quali strumenti importano e analizzano i dati ...   \n",
       "12  Quali sintomi di ipertensione includono mal di...   \n",
       "13  Quali tech mostrano dati storici e attuali del...   \n",
       "14  Come la gestione del diabete previene complica...   \n",
       "15  Come vertigini e mal di testa persistenti poss...   \n",
       "16  Quali pratiche e abitudini per gestire l'ipert...   \n",
       "17  Quali sintomi comuni, come la visione offuscat...   \n",
       "\n",
       "                                               answer   \n",
       "0   Sulla base delle informazioni fornite, i tipi ...  \\\n",
       "1   La presenza di familiari con ipertensione aume...   \n",
       "2   La visione offuscata può essere un segnale imp...   \n",
       "3   La pratica di attività fisica regolare è estre...   \n",
       "4   **Sintomi della Pressione Alta**\\n\\nLa pressio...   \n",
       "5   Per poter importare e confrontare i tuoi dati ...   \n",
       "6   **La pressione alta (ipertensione) è una condi...   \n",
       "7   Per rendere le informazioni sui sintomi più ac...   \n",
       "8   **La regolarità dell'esercizio fisico e la ges...   \n",
       "9   Non posso fornire indicazioni mediche. Se hai ...   \n",
       "10  Per monitorare e modificare il tuo stile di vi...   \n",
       "11  E' possibile utilizzare diversi strumenti per ...   \n",
       "12  Non trovo alcuna domanda specifica nel testo f...   \n",
       "13  Gli strumenti più adatti per visualizzare e co...   \n",
       "14  Non posso fornire informazioni medicali. Se ha...   \n",
       "15  Non posso fornire una risposta che potrebbe es...   \n",
       "16  Gestire l'ipertensione può essere un processo ...   \n",
       "17  La domanda richiede una risposta diretta e pre...   \n",
       "\n",
       "                                             contexts   \n",
       "0   [DOMANDE: Quali medicinali si possono usare pe...  \\\n",
       "1   [DOMANDE: La presenza di familiari con iperten...   \n",
       "2   [DOMANDE: Esistono segnali di avvertimento che...   \n",
       "3   [DOMANDE: L'attività fisica effettuata con cos...   \n",
       "4   [DOMANDE: Che sintomi posso aspettarmi se ho l...   \n",
       "5   [DOMANDE: Come posso integrare i dati della mi...   \n",
       "6   [DOMANDE: Che cosa significa soffrire di press...   \n",
       "7   [DOMANDE: In che modo posso monitorare e annot...   \n",
       "8   [DOMANDE: La mia pressione sanguigna è stata i...   \n",
       "9   [DOMANDE: Quali effetti può avere l'ipertensio...   \n",
       "10  [DOMANDE: In che modo la pressione alta può al...   \n",
       "11  [DOMANDE: Quali strumenti posso utilizzare per...   \n",
       "12  [DOMANDE: Quali sono i sintomi che potrei risc...   \n",
       "13  [DOMANDE: Quali sono i migliori strumenti tecn...   \n",
       "14  [DOMANDE: Che suggerimento puoi darmi riguardo...   \n",
       "15  [DOMANDE: Quali segnali possono indicare la pr...   \n",
       "16  [DOMANDE: Si può guarire dall'ipertensione o è...   \n",
       "17  [DOMANDE: Quali sono i sintomi comuni dell'ipe...   \n",
       "\n",
       "                                         ground_truth  answer_relevancy   \n",
       "0   Esistono diversi tipi di farmaci che possono e...          0.946508  \\\n",
       "1   Sì, la presenza di familiari con ipertensione ...          0.972104   \n",
       "2   La risposta alla domanda non è presente nel co...          0.894739   \n",
       "3   Fare regolare attività fisica è importante per...          0.976770   \n",
       "4   I sintomi possono includere mal di testa persi...          0.959565   \n",
       "5   Molti software e app di salute permettono di i...          0.966248   \n",
       "6   L'ipertensione è una condizione in cui la forz...          0.994774   \n",
       "7   Annota i sintomi poco dopo che si sono verific...          0.999999   \n",
       "8   La risposta alla domanda non è presente nel co...          0.887136   \n",
       "9   Il diabete e l'ipertensione sono strettamente ...          0.000000   \n",
       "10  È importante monitorare regolarmente la pressi...          0.889268   \n",
       "11  È possibile utilizzare fogli di calcolo come M...          0.887857   \n",
       "12  I sintomi di ipertensione che includono mal di...          0.000000   \n",
       "13  Molti software e app di salute permettono di i...          0.923617   \n",
       "14  Gestire bene il diabete può aiutare a mantener...          0.000000   \n",
       "15  Vertigini e mal di testa persistenti possono e...          0.000000   \n",
       "16  Per gestire l'ipertensione, è consigliato ridu...          0.949021   \n",
       "17  Alcuni sintomi comuni di ipertensione possono ...          0.000000   \n",
       "\n",
       "    faithfulness  \n",
       "0       0.000000  \n",
       "1       0.476190  \n",
       "2       0.100000  \n",
       "3       0.235294  \n",
       "4       0.333333  \n",
       "5       0.416667  \n",
       "6       0.692308  \n",
       "7       0.545455  \n",
       "8       1.000000  \n",
       "9       0.000000  \n",
       "10      1.000000  \n",
       "11      0.333333  \n",
       "12      0.181818  \n",
       "13      0.250000  \n",
       "14      0.666667  \n",
       "15      0.000000  \n",
       "16      0.416667  \n",
       "17      0.250000  "
      ]
     },
     "execution_count": 93,
     "metadata": {},
     "output_type": "execute_result"
    }
   ],
   "source": [
    "#PER TESTARE SINGOLA METRICA\n",
    "score2 = evaluate(response_dataset_advanced_retrieval,metrics=[answer_relevancy, faithfulness], llm=azure_model_GPT4OMINI, embeddings=azure_embeddings)\n",
    "score2.to_pandas()"
   ]
  },
  {
   "cell_type": "code",
   "execution_count": 77,
   "metadata": {
    "tags": []
   },
   "outputs": [
    {
     "data": {
      "text/plain": [
       "{'answer_relevancy': 0.5762, 'faithfulness': 0.3835}"
      ]
     },
     "execution_count": 77,
     "metadata": {},
     "output_type": "execute_result"
    }
   ],
   "source": [
    "score2"
   ]
  },
  {
   "cell_type": "code",
   "execution_count": 94,
   "metadata": {
    "tags": []
   },
   "outputs": [
    {
     "data": {
      "text/plain": [
       "{'answer_relevancy': 0.6804, 'faithfulness': 0.3832}"
      ]
     },
     "execution_count": 94,
     "metadata": {},
     "output_type": "execute_result"
    }
   ],
   "source": [
    "score2"
   ]
  },
  {
   "cell_type": "code",
   "execution_count": 259,
   "metadata": {
    "id": "Gh2A3-dA_nRs",
    "tags": []
   },
   "outputs": [
    {
     "data": {
      "application/vnd.jupyter.widget-view+json": {
       "model_id": "f03e79b5ac754a27ba03f6a3d4583151",
       "version_major": 2,
       "version_minor": 0
      },
      "text/plain": [
       "Evaluating:   0%|          | 0/60 [00:00<?, ?it/s]"
      ]
     },
     "metadata": {},
     "output_type": "display_data"
    },
    {
     "name": "stderr",
     "output_type": "stream",
     "text": [
      "Failed to parse output. Returning None.\n"
     ]
    }
   ],
   "source": [
    "#VALUTO CON CHAT IL MULTIQUERYRETRIVER\n",
    "resultMulti = evaluate(\n",
    "        dataset = response_dataset_advanced_retrieval,\n",
    "        metrics=[\n",
    "              faithfulness,\n",
    "              answer_relevancy,\n",
    "              answer_correctness,\n",
    "              context_recall,\n",
    "              context_precision,\n",
    "              harmfulness\n",
    "          ],\n",
    "        llm=generator_llm,\n",
    "        embeddings=ollama_emb,\n",
    "        raise_exceptions=False\n",
    "    )"
   ]
  },
  {
   "cell_type": "code",
   "execution_count": null,
   "metadata": {
    "tags": []
   },
   "outputs": [],
   "source": [
    "resultMulti.to_pandas()"
   ]
  },
  {
   "cell_type": "markdown",
   "metadata": {
    "id": "adhgHqjh_nRs",
    "jp-MarkdownHeadingCollapsed": true,
    "tags": []
   },
   "source": [
    "## VALUTAZIONE ENSEMBLE RETRIVER"
   ]
  },
  {
   "cell_type": "code",
   "execution_count": 96,
   "metadata": {
    "id": "gZUvLDul_nRt",
    "tags": []
   },
   "outputs": [
    {
     "name": "stderr",
     "output_type": "stream",
     "text": [
      "Processing queries: 100%|██████████| 18/18 [00:58<00:00,  3.24s/it]\n"
     ]
    }
   ],
   "source": [
    "from datasets import Dataset\n",
    "from tqdm import tqdm\n",
    "\n",
    "# Assicurati che questions e ground_truth siano definiti\n",
    "# questions = testset.to_pandas()[\"question\"].to_list()\n",
    "# ground_truth = testset.to_pandas()[\"ground_truth\"].to_list()\n",
    "\n",
    "data = {\"question\": [], \"answer\": [], \"contexts\": [], \"ground_truth\": ground_truth}\n",
    "\n",
    "# Utilizzo di tqdm per creare una barra di avanzamento\n",
    "for query in tqdm(questions, desc=\"Processing queries\"):\n",
    "    data[\"question\"].append(query)\n",
    "    data[\"answer\"].append(ensemble_chain.invoke(query))\n",
    "    data[\"contexts\"].append([doc.page_content for doc in retriever.get_relevant_documents(query)])\n",
    "\n",
    "response_dataset_ensemble_retrieval = Dataset.from_dict(data)"
   ]
  },
  {
   "cell_type": "code",
   "execution_count": null,
   "metadata": {
    "tags": []
   },
   "outputs": [],
   "source": [
    "#PER TESTARE SINGOLA METRICA\n",
    "score3 = evaluate(response_dataset_ensemble_retrieval,metrics=[answer_relevancy, faithfulness], llm=azure_model_GPT4OMINI, embeddings=azure_embeddings)\n",
    "score3.to_pandas()"
   ]
  },
  {
   "cell_type": "code",
   "execution_count": 81,
   "metadata": {
    "tags": []
   },
   "outputs": [
    {
     "data": {
      "text/plain": [
       "{'answer_relevancy': 0.4178, 'faithfulness': 0.3359}"
      ]
     },
     "execution_count": 81,
     "metadata": {},
     "output_type": "execute_result"
    }
   ],
   "source": [
    "score"
   ]
  },
  {
   "cell_type": "code",
   "execution_count": 82,
   "metadata": {
    "tags": []
   },
   "outputs": [
    {
     "data": {
      "text/plain": [
       "{'answer_relevancy': 0.5762, 'faithfulness': 0.3835}"
      ]
     },
     "execution_count": 82,
     "metadata": {},
     "output_type": "execute_result"
    }
   ],
   "source": [
    "score2"
   ]
  },
  {
   "cell_type": "code",
   "execution_count": 80,
   "metadata": {
    "tags": []
   },
   "outputs": [
    {
     "data": {
      "text/plain": [
       "{'answer_relevancy': 0.6685, 'faithfulness': 0.3907}"
      ]
     },
     "execution_count": 80,
     "metadata": {},
     "output_type": "execute_result"
    }
   ],
   "source": [
    "score3"
   ]
  },
  {
   "cell_type": "code",
   "execution_count": 262,
   "metadata": {
    "id": "JxPee9vQ_nRt",
    "tags": []
   },
   "outputs": [
    {
     "data": {
      "application/vnd.jupyter.widget-view+json": {
       "model_id": "a35110c810304b2bb04caab7615e2a5d",
       "version_major": 2,
       "version_minor": 0
      },
      "text/plain": [
       "Evaluating:   0%|          | 0/60 [00:00<?, ?it/s]"
      ]
     },
     "metadata": {},
     "output_type": "display_data"
    }
   ],
   "source": [
    "#VALUTO CON CHAT IL ENSEMBLERETRIVER\n",
    "resultEnsemble = evaluate(\n",
    "        dataset = response_dataset_ensemble_retrieval,\n",
    "        metrics=[\n",
    "              faithfulness,\n",
    "              answer_relevancy,\n",
    "              answer_correctness,\n",
    "              context_recall,\n",
    "              context_precision,\n",
    "              harmfulness\n",
    "          ],\n",
    "        llm=generator_llm,\n",
    "        embeddings=ollama_emb,\n",
    "        raise_exceptions=False\n",
    "    )"
   ]
  },
  {
   "cell_type": "code",
   "execution_count": 263,
   "metadata": {
    "tags": []
   },
   "outputs": [
    {
     "data": {
      "text/html": [
       "<div>\n",
       "<style scoped>\n",
       "    .dataframe tbody tr th:only-of-type {\n",
       "        vertical-align: middle;\n",
       "    }\n",
       "\n",
       "    .dataframe tbody tr th {\n",
       "        vertical-align: top;\n",
       "    }\n",
       "\n",
       "    .dataframe thead th {\n",
       "        text-align: right;\n",
       "    }\n",
       "</style>\n",
       "<table border=\"1\" class=\"dataframe\">\n",
       "  <thead>\n",
       "    <tr style=\"text-align: right;\">\n",
       "      <th></th>\n",
       "      <th>question</th>\n",
       "      <th>answer</th>\n",
       "      <th>contexts</th>\n",
       "      <th>ground_truth</th>\n",
       "      <th>faithfulness</th>\n",
       "      <th>answer_relevancy</th>\n",
       "      <th>answer_correctness</th>\n",
       "      <th>context_recall</th>\n",
       "      <th>context_precision</th>\n",
       "      <th>harmfulness</th>\n",
       "    </tr>\n",
       "  </thead>\n",
       "  <tbody>\n",
       "    <tr>\n",
       "      <th>0</th>\n",
       "      <td>Does having family members with hypertension i...</td>\n",
       "      <td>Sì, se nella tua famiglia ci sono casi di iper...</td>\n",
       "      <td>[DOMANDE: La presenza di familiari con iperten...</td>\n",
       "      <td>Yes, having family members with hypertension c...</td>\n",
       "      <td>1.000000</td>\n",
       "      <td>0.469932</td>\n",
       "      <td>0.674539</td>\n",
       "      <td>1.0</td>\n",
       "      <td>1.000000</td>\n",
       "      <td>0</td>\n",
       "    </tr>\n",
       "    <tr>\n",
       "      <th>1</th>\n",
       "      <td>How can oncogenes influence an individual's pr...</td>\n",
       "      <td>Risposta: Alcuni geni, chiamati oncogeni, poss...</td>\n",
       "      <td>[DOMANDE: In che modo la genetica può aumentar...</td>\n",
       "      <td>Oncogenes can increase the risk of developing ...</td>\n",
       "      <td>0.333333</td>\n",
       "      <td>0.483835</td>\n",
       "      <td>0.685532</td>\n",
       "      <td>1.0</td>\n",
       "      <td>0.916667</td>\n",
       "      <td>0</td>\n",
       "    </tr>\n",
       "    <tr>\n",
       "      <th>2</th>\n",
       "      <td>Why is it important to limit the consumption o...</td>\n",
       "      <td>Limiting the consumption of saturated and tran...</td>\n",
       "      <td>[DOMANDE: Quale regime alimentare è consigliat...</td>\n",
       "      <td>The answer to given question is not present in...</td>\n",
       "      <td>0.200000</td>\n",
       "      <td>0.691798</td>\n",
       "      <td>0.135455</td>\n",
       "      <td>0.0</td>\n",
       "      <td>0.000000</td>\n",
       "      <td>0</td>\n",
       "    </tr>\n",
       "    <tr>\n",
       "      <th>3</th>\n",
       "      <td>Come può l'ipertensione influenzare la funzion...</td>\n",
       "      <td>L'ipertensione può influenzare la funzione ren...</td>\n",
       "      <td>[DOMANDE: L'ipertensione può influenzare la fu...</td>\n",
       "      <td>L'ipertensione può influenzare la funzione ren...</td>\n",
       "      <td>0.307692</td>\n",
       "      <td>0.486509</td>\n",
       "      <td>0.646043</td>\n",
       "      <td>1.0</td>\n",
       "      <td>1.000000</td>\n",
       "      <td>1</td>\n",
       "    </tr>\n",
       "    <tr>\n",
       "      <th>4</th>\n",
       "      <td>Perché è importante consultare il medico prima...</td>\n",
       "      <td>È fondamentale consultare il proprio medico pr...</td>\n",
       "      <td>[DOMANDE: Gli integratori naturali possono con...</td>\n",
       "      <td>È importante consultare il medico prima di usa...</td>\n",
       "      <td>0.727273</td>\n",
       "      <td>0.723105</td>\n",
       "      <td>0.225643</td>\n",
       "      <td>1.0</td>\n",
       "      <td>1.000000</td>\n",
       "      <td>1</td>\n",
       "    </tr>\n",
       "    <tr>\n",
       "      <th>5</th>\n",
       "      <td>How does diabetes control reduce renal failure...</td>\n",
       "      <td>Gestione adeguata del diabete può aiutare a ri...</td>\n",
       "      <td>[DOMANDE: Quali sono le cause di un aumento re...</td>\n",
       "      <td>Managing diabetes well can help keep blood pre...</td>\n",
       "      <td>0.363636</td>\n",
       "      <td>0.000000</td>\n",
       "      <td>0.185296</td>\n",
       "      <td>1.0</td>\n",
       "      <td>0.250000</td>\n",
       "      <td>0</td>\n",
       "    </tr>\n",
       "    <tr>\n",
       "      <th>6</th>\n",
       "      <td>How does familial hypertension affect health r...</td>\n",
       "      <td>La storia familiare di ipertensione aumenta la...</td>\n",
       "      <td>[DOMANDE: La presenza di familiari con iperten...</td>\n",
       "      <td>Sì, la presenza di familiari con ipertensione ...</td>\n",
       "      <td>0.285714</td>\n",
       "      <td>0.466311</td>\n",
       "      <td>0.222225</td>\n",
       "      <td>1.0</td>\n",
       "      <td>0.887500</td>\n",
       "      <td>0</td>\n",
       "    </tr>\n",
       "    <tr>\n",
       "      <th>7</th>\n",
       "      <td>How to manage fluctuating BP with stress, diet...</td>\n",
       "      <td>Gestire una pressione arteriosa (BP) che flutt...</td>\n",
       "      <td>[DOMANDE: Quali fattori potrebbero causare var...</td>\n",
       "      <td>To manage fluctuating blood pressure, it is im...</td>\n",
       "      <td>0.300000</td>\n",
       "      <td>0.482578</td>\n",
       "      <td>0.715944</td>\n",
       "      <td>0.5</td>\n",
       "      <td>0.200000</td>\n",
       "      <td>0</td>\n",
       "    </tr>\n",
       "    <tr>\n",
       "      <th>8</th>\n",
       "      <td>Quali precauzioni per iniziare integratori nat...</td>\n",
       "      <td>Risposta: Prima di iniziare a prendere gli int...</td>\n",
       "      <td>[DOMANDE: Gli integratori naturali possono ess...</td>\n",
       "      <td>È importante consultare sempre l'uso degli int...</td>\n",
       "      <td>0.571429</td>\n",
       "      <td>0.732295</td>\n",
       "      <td>0.226807</td>\n",
       "      <td>1.0</td>\n",
       "      <td>1.000000</td>\n",
       "      <td>0</td>\n",
       "    </tr>\n",
       "    <tr>\n",
       "      <th>9</th>\n",
       "      <td>Quali valori indicano ipertensione?</td>\n",
       "      <td>I valori che indicano l'ipertensione sono quel...</td>\n",
       "      <td>[DOMANDE: Quali segnali indicano l'ipertension...</td>\n",
       "      <td>La pressione sistolica è pari o superiore a 14...</td>\n",
       "      <td>0.250000</td>\n",
       "      <td>0.817081</td>\n",
       "      <td>0.523642</td>\n",
       "      <td>0.0</td>\n",
       "      <td>0.000000</td>\n",
       "      <td>0</td>\n",
       "    </tr>\n",
       "  </tbody>\n",
       "</table>\n",
       "</div>"
      ],
      "text/plain": [
       "                                            question   \n",
       "0  Does having family members with hypertension i...  \\\n",
       "1  How can oncogenes influence an individual's pr...   \n",
       "2  Why is it important to limit the consumption o...   \n",
       "3  Come può l'ipertensione influenzare la funzion...   \n",
       "4  Perché è importante consultare il medico prima...   \n",
       "5  How does diabetes control reduce renal failure...   \n",
       "6  How does familial hypertension affect health r...   \n",
       "7  How to manage fluctuating BP with stress, diet...   \n",
       "8  Quali precauzioni per iniziare integratori nat...   \n",
       "9                Quali valori indicano ipertensione?   \n",
       "\n",
       "                                              answer   \n",
       "0  Sì, se nella tua famiglia ci sono casi di iper...  \\\n",
       "1  Risposta: Alcuni geni, chiamati oncogeni, poss...   \n",
       "2  Limiting the consumption of saturated and tran...   \n",
       "3  L'ipertensione può influenzare la funzione ren...   \n",
       "4  È fondamentale consultare il proprio medico pr...   \n",
       "5  Gestione adeguata del diabete può aiutare a ri...   \n",
       "6  La storia familiare di ipertensione aumenta la...   \n",
       "7  Gestire una pressione arteriosa (BP) che flutt...   \n",
       "8  Risposta: Prima di iniziare a prendere gli int...   \n",
       "9  I valori che indicano l'ipertensione sono quel...   \n",
       "\n",
       "                                            contexts   \n",
       "0  [DOMANDE: La presenza di familiari con iperten...  \\\n",
       "1  [DOMANDE: In che modo la genetica può aumentar...   \n",
       "2  [DOMANDE: Quale regime alimentare è consigliat...   \n",
       "3  [DOMANDE: L'ipertensione può influenzare la fu...   \n",
       "4  [DOMANDE: Gli integratori naturali possono con...   \n",
       "5  [DOMANDE: Quali sono le cause di un aumento re...   \n",
       "6  [DOMANDE: La presenza di familiari con iperten...   \n",
       "7  [DOMANDE: Quali fattori potrebbero causare var...   \n",
       "8  [DOMANDE: Gli integratori naturali possono ess...   \n",
       "9  [DOMANDE: Quali segnali indicano l'ipertension...   \n",
       "\n",
       "                                        ground_truth  faithfulness   \n",
       "0  Yes, having family members with hypertension c...      1.000000  \\\n",
       "1  Oncogenes can increase the risk of developing ...      0.333333   \n",
       "2  The answer to given question is not present in...      0.200000   \n",
       "3  L'ipertensione può influenzare la funzione ren...      0.307692   \n",
       "4  È importante consultare il medico prima di usa...      0.727273   \n",
       "5  Managing diabetes well can help keep blood pre...      0.363636   \n",
       "6  Sì, la presenza di familiari con ipertensione ...      0.285714   \n",
       "7  To manage fluctuating blood pressure, it is im...      0.300000   \n",
       "8  È importante consultare sempre l'uso degli int...      0.571429   \n",
       "9  La pressione sistolica è pari o superiore a 14...      0.250000   \n",
       "\n",
       "   answer_relevancy  answer_correctness  context_recall  context_precision   \n",
       "0          0.469932            0.674539             1.0           1.000000  \\\n",
       "1          0.483835            0.685532             1.0           0.916667   \n",
       "2          0.691798            0.135455             0.0           0.000000   \n",
       "3          0.486509            0.646043             1.0           1.000000   \n",
       "4          0.723105            0.225643             1.0           1.000000   \n",
       "5          0.000000            0.185296             1.0           0.250000   \n",
       "6          0.466311            0.222225             1.0           0.887500   \n",
       "7          0.482578            0.715944             0.5           0.200000   \n",
       "8          0.732295            0.226807             1.0           1.000000   \n",
       "9          0.817081            0.523642             0.0           0.000000   \n",
       "\n",
       "   harmfulness  \n",
       "0            0  \n",
       "1            0  \n",
       "2            0  \n",
       "3            1  \n",
       "4            1  \n",
       "5            0  \n",
       "6            0  \n",
       "7            0  \n",
       "8            0  \n",
       "9            0  "
      ]
     },
     "execution_count": 263,
     "metadata": {},
     "output_type": "execute_result"
    }
   ],
   "source": [
    "resultEnsemble.to_pandas()"
   ]
  },
  {
   "cell_type": "code",
   "execution_count": 265,
   "metadata": {
    "tags": []
   },
   "outputs": [
    {
     "data": {
      "text/plain": [
       "{'faithfulness': 0.4701, 'answer_relevancy': 0.4084, 'answer_correctness': 0.3499, 'context_recall': 0.7500, 'context_precision': 0.6583, 'harmfulness': 0.1000}"
      ]
     },
     "execution_count": 265,
     "metadata": {},
     "output_type": "execute_result"
    }
   ],
   "source": [
    "resultBase"
   ]
  },
  {
   "cell_type": "code",
   "execution_count": 266,
   "metadata": {
    "tags": []
   },
   "outputs": [
    {
     "data": {
      "text/plain": [
       "{'faithfulness': 0.4960, 'answer_relevancy': 0.5769, 'answer_correctness': 0.3759, 'context_recall': 0.8500, 'context_precision': 0.6500, 'harmfulness': 0.1000}"
      ]
     },
     "execution_count": 266,
     "metadata": {},
     "output_type": "execute_result"
    }
   ],
   "source": [
    "resultMulti"
   ]
  },
  {
   "cell_type": "code",
   "execution_count": 267,
   "metadata": {
    "tags": []
   },
   "outputs": [
    {
     "data": {
      "text/plain": [
       "{'faithfulness': 0.4339, 'answer_relevancy': 0.5353, 'answer_correctness': 0.4241, 'context_recall': 0.7500, 'context_precision': 0.6254, 'harmfulness': 0.2000}"
      ]
     },
     "execution_count": 267,
     "metadata": {},
     "output_type": "execute_result"
    }
   ],
   "source": [
    "resultEnsemble"
   ]
  },
  {
   "cell_type": "markdown",
   "metadata": {
    "id": "c7lZkB2Z_nRt",
    "jp-MarkdownHeadingCollapsed": true,
    "tags": []
   },
   "source": [
    "## VALUTAZIONE DIRETTA CON TUTTI I RETRIEVER"
   ]
  },
  {
   "cell_type": "code",
   "execution_count": null,
   "metadata": {
    "id": "SOdoPCzS_nRt",
    "tags": []
   },
   "outputs": [],
   "source": [
    "questions = testset.to_pandas()[\"question\"].to_list()\n",
    "ground_truth = testset.to_pandas()[\"ground_truth\"].to_list()"
   ]
  },
  {
   "cell_type": "code",
   "execution_count": null,
   "metadata": {
    "id": "kQyWNk1a_nRt",
    "tags": []
   },
   "outputs": [],
   "source": [
    "import pandas as pd\n",
    "\n",
    "# Carica il CSV in un nuovo DataFrame\n",
    "loaded_df = pd.read_csv('test_dataLLAMA3.csv')\n",
    "\n",
    "# Estrai le colonne 'question' e 'ground_truth'\n",
    "questions = loaded_df[\"question\"].to_list()\n",
    "ground_truth = loaded_df[\"ground_truth\"].to_list()"
   ]
  },
  {
   "cell_type": "code",
   "execution_count": null,
   "metadata": {
    "id": "X7BiYTD5_nRt",
    "tags": []
   },
   "outputs": [],
   "source": [
    "#PER CAMBIARE LLM DI VALUTAZIONE TUTTI I RETRIEVER FARANNO RIFERIMENTO\n",
    "llm = Ollama(model=\"llama3.1:70b\")"
   ]
  },
  {
   "cell_type": "code",
   "execution_count": null,
   "metadata": {
    "id": "TNliii_5_nRu",
    "tags": []
   },
   "outputs": [],
   "source": [
    "from datasets import Dataset\n",
    "from tqdm import tqdm\n",
    "\n",
    "# Assicurati che questions e ground_truth siano definiti\n",
    "# questions = testset.to_pandas()[\"question\"].to_list()\n",
    "# ground_truth = testset.to_pandas()[\"ground_truth\"].to_list()\n",
    "\n",
    "# Inizializzazione dei tre dizionari\n",
    "dataset = {\"question\": [], \"answer\": [], \"contexts\": [], \"ground_truth\": ground_truth}\n",
    "response_dataset_advanced_retrieval = {\"question\": [], \"answer\": [], \"contexts\": [], \"ground_truth\": ground_truth}\n",
    "response_dataset_ensemble_retrieval = {\"question\": [], \"answer\": [], \"contexts\": [], \"ground_truth\": ground_truth}\n",
    "\n",
    "# Utilizzo di tqdm per creare una barra di avanzamento\n",
    "for query in tqdm(questions, desc=\"Processing queries\"):\n",
    "    # Recupero dei documenti rilevanti (assumendo che sia lo stesso per tutte le catene)\n",
    "    relevant_docs = retriever.get_relevant_documents(query)\n",
    "    contexts = [doc.page_content for doc in relevant_docs]\n",
    "\n",
    "    # Popolare il dataset originale\n",
    "    dataset[\"question\"].append(query)\n",
    "    dataset[\"answer\"].append(rag_chain.invoke(query))\n",
    "    dataset[\"contexts\"].append(contexts)\n",
    "\n",
    "    # Popolare il dataset per advanced retrieval\n",
    "    response_dataset_advanced_retrieval[\"question\"].append(query)\n",
    "    response_dataset_advanced_retrieval[\"answer\"].append(multirag_chain.invoke(query))\n",
    "    response_dataset_advanced_retrieval[\"contexts\"].append(contexts)\n",
    "\n",
    "    # Popolare il dataset per ensemble retrieval\n",
    "    response_dataset_ensemble_retrieval[\"question\"].append(query)\n",
    "    response_dataset_ensemble_retrieval[\"answer\"].append(ensemble_chain.invoke(query))\n",
    "    response_dataset_ensemble_retrieval[\"contexts\"].append(contexts)\n",
    "\n",
    "# Convertire i dizionari in Dataset\n",
    "dataset = Dataset.from_dict(dataset)\n",
    "response_dataset_advanced_retrieval = Dataset.from_dict(response_dataset_advanced_retrieval)\n",
    "response_dataset_ensemble_retrieval = Dataset.from_dict(response_dataset_ensemble_retrieval)\n",
    "\n",
    "# Convertire in DataFrame se necessario\n",
    "dataset_df = dataset.to_pandas()\n",
    "advanced_retrieval_df = response_dataset_advanced_retrieval.to_pandas()\n",
    "ensemble_retrieval_df = response_dataset_ensemble_retrieval.to_pandas()"
   ]
  },
  {
   "cell_type": "code",
   "execution_count": null,
   "metadata": {
    "id": "-gHD1aG-_nRu"
   },
   "outputs": [],
   "source": [
    "%%time\n",
    "from langchain_core.language_models import BaseLanguageModel\n",
    "from langchain_core.embeddings import Embeddings\n",
    "from ragas import evaluate\n",
    "\n",
    "#langchain_llm =  # any langchain LLM instance\n",
    "#langchain_embeddings = # any langchain Embeddings instance\n",
    "\n",
    "resultBase = evaluate(\n",
    "        dataset = dataset,\n",
    "        metrics=[\n",
    "              faithfulness,\n",
    "              answer_relevancy,\n",
    "              answer_correctness#,\n",
    "              #context_recall,\n",
    "              #context_precision\n",
    "              #context_relevancy\n",
    "          ],\n",
    "        llm=generator_llm,\n",
    "        embeddings=ollama_emb,\n",
    "        raise_exceptions=False\n",
    "    )\n",
    "\n",
    "resultMulti = evaluate(\n",
    "        dataset = response_dataset_advanced_retrieval,\n",
    "        metrics=[\n",
    "              faithfulness,\n",
    "              answer_relevancy,\n",
    "              answer_correctness#,\n",
    "              #context_recall,\n",
    "              #context_precision\n",
    "              #context_relevancy\n",
    "          ],\n",
    "        llm=generator_llm,\n",
    "        embeddings=ollama_emb,\n",
    "        raise_exceptions=False\n",
    "    )\n",
    "\n",
    "resultEnsemble = evaluate(\n",
    "        dataset = response_dataset_ensemble_retrieval,\n",
    "        metrics=[\n",
    "              faithfulness,\n",
    "              answer_relevancy,\n",
    "              answer_correctness#,\n",
    "              #context_recall,\n",
    "              #context_precision\n",
    "              #context_relevancy\n",
    "          ],\n",
    "        llm=generator_llm,\n",
    "        embeddings=ollama_emb,\n",
    "        raise_exceptions=False\n",
    "    )\n"
   ]
  },
  {
   "cell_type": "markdown",
   "metadata": {
    "id": "pACiLJ9A_nRu",
    "tags": []
   },
   "source": [
    "## PROCESSO AUTOMATIZZATO CON PIU' LLM"
   ]
  },
  {
   "cell_type": "code",
   "execution_count": null,
   "metadata": {
    "tags": []
   },
   "outputs": [],
   "source": [
    "#SE GIA HO CALCOLATO IL TESTSET\n",
    "questions = testset.to_pandas()[\"question\"].to_list()\n",
    "ground_truth = testset.to_pandas()[\"ground_truth\"].to_list()"
   ]
  },
  {
   "cell_type": "code",
   "execution_count": 96,
   "metadata": {
    "tags": []
   },
   "outputs": [],
   "source": [
    "#ALTRIMENTI LO CARICO DAL CSV CHE HO PRESENTE E POI PROCEDO AL CALCOLO\n",
    "import pandas as pd\n",
    "\n",
    "# Carica il CSV in un nuovo DataFrame\n",
    "loaded_df = pd.read_csv('test_dataLLAMA3.csv')\n",
    "\n",
    "# Estrai le colonne 'question' e 'ground_truth'\n",
    "questions = loaded_df[\"question\"].to_list()\n",
    "ground_truth = loaded_df[\"ground_truth\"].to_list()"
   ]
  },
  {
   "cell_type": "code",
   "execution_count": null,
   "metadata": {
    "id": "OOBTuCuS_nRu",
    "outputId": "0c4ba4c3-8ef0-4b3b-a766-6b82e65a0155",
    "tags": []
   },
   "outputs": [],
   "source": [
    "from datasets import Dataset\n",
    "from tqdm import tqdm\n",
    "from langchain.llms import Ollama\n",
    "\n",
    "# Lista dei modelli da processare\n",
    "model_names = [\"qordmlwls/llama3.1-medical\",\"qwen2\",\"mistral-nemo\",\"phi3\",\"gemma2\"] # AGGIUNGERE ALTRI LLM PER POTER VALUTARE\n",
    "\n",
    "# Assicurati che questions e ground_truth siano definiti\n",
    "# questions = testset.to_pandas()[\"question\"].to_list()\n",
    "# ground_truth = testset.to_pandas()[\"ground_truth\"].to_list()\n",
    "\n",
    "# Dizionario per memorizzare i risultati di ogni modello\n",
    "resultsDict = {}\n",
    "\n",
    "for model_name in model_names:\n",
    "    print(f\"Processing with model: {model_name}\")\n",
    "\n",
    "    # Inizializza l'LLM per il modello corrente\n",
    "    llm = Ollama(model=model_name)\n",
    "\n",
    "\n",
    "    # Inizializzazione dei tre dizionari per il modello corrente\n",
    "    dataset = {\"question\": [], \"answer\": [], \"contexts\": [], \"ground_truth\": ground_truth}\n",
    "    response_dataset_advanced_retrieval = {\"question\": [], \"answer\": [], \"contexts\": [], \"ground_truth\": ground_truth}\n",
    "    response_dataset_ensemble_retrieval = {\"question\": [], \"answer\": [], \"contexts\": [], \"ground_truth\": ground_truth}\n",
    "\n",
    "    # Utilizzo di tqdm per creare una barra di avanzamento\n",
    "    for query in tqdm(questions, desc=f\"Processing queries for {model_name}\"):\n",
    "        # Recupero dei documenti rilevanti (assumendo che sia lo stesso per tutte le catene)\n",
    "        relevant_docs = retriever.get_relevant_documents(query)\n",
    "        contexts = [doc.page_content for doc in relevant_docs]\n",
    "\n",
    "        # Popolare il dataset originale\n",
    "        dataset[\"question\"].append(query)\n",
    "        dataset[\"answer\"].append(rag_chain.invoke(query))\n",
    "        dataset[\"contexts\"].append(contexts)\n",
    "\n",
    "        # Popolare il dataset per advanced retrieval\n",
    "        response_dataset_advanced_retrieval[\"question\"].append(query)\n",
    "        response_dataset_advanced_retrieval[\"answer\"].append(multirag_chain.invoke(query))\n",
    "        response_dataset_advanced_retrieval[\"contexts\"].append(contexts)\n",
    "\n",
    "        # Popolare il dataset per ensemble retrieval\n",
    "        response_dataset_ensemble_retrieval[\"question\"].append(query)\n",
    "        response_dataset_ensemble_retrieval[\"answer\"].append(ensemble_chain.invoke(query))\n",
    "        response_dataset_ensemble_retrieval[\"contexts\"].append(contexts)\n",
    "\n",
    "    # Convertire i dizionari in Dataset\n",
    "    dataset = Dataset.from_dict(dataset)\n",
    "    response_dataset_advanced_retrieval = Dataset.from_dict(response_dataset_advanced_retrieval)\n",
    "    response_dataset_ensemble_retrieval = Dataset.from_dict(response_dataset_ensemble_retrieval)\n",
    "\n",
    "    # Convertire in DataFrame e memorizzare i risultati\n",
    "    resultsDict[f\"dataset_df_{model_name}\"] = dataset.to_pandas()\n",
    "    resultsDict[f\"advanced_retrieval_df_{model_name}\"] = response_dataset_advanced_retrieval.to_pandas()\n",
    "    resultsDict[f\"ensemble_retrieval_df_{model_name}\"] = response_dataset_ensemble_retrieval.to_pandas()\n",
    "\n",
    "# Esempio:\n",
    "# dataset_df_llama3_1_70b = resultsDict[\"dataset_df_llama3.1:70b\"]\n",
    "# advanced_retrieval_df_qwen2 = resultsDict[\"advanced_retrieval_df_qwen2\"]\n",
    "# ensemble_retrieval_df_mistral_nemo = resultsDict[\"ensemble_retrieval_df_mistral-nemo\"]"
   ]
  },
  {
   "cell_type": "code",
   "execution_count": 212,
   "metadata": {
    "tags": []
   },
   "outputs": [],
   "source": [
    "import pickle\n",
    "# Salva resultsDict su un file per poter riaccedere successivamente\n",
    "with open('resultsDict_4MODELLI.pkl', 'wb') as f: #Cambianome per salvare più modelli \n",
    "    pickle.dump(resultsDict, f)"
   ]
  },
  {
   "cell_type": "markdown",
   "metadata": {},
   "source": [
    "Per accedere al singolo dataset:"
   ]
  },
  {
   "cell_type": "code",
   "execution_count": null,
   "metadata": {
    "tags": []
   },
   "outputs": [],
   "source": [
    "resultsDict[f\"dataset_df_phi3\"]"
   ]
  },
  {
   "cell_type": "code",
   "execution_count": null,
   "metadata": {
    "tags": []
   },
   "outputs": [],
   "source": [
    "resultsDict[f\"advanced_retrieval_df_echelonify/med-qwen2\"]"
   ]
  },
  {
   "cell_type": "code",
   "execution_count": null,
   "metadata": {
    "tags": []
   },
   "outputs": [],
   "source": [
    "resultsDict[f\"ensemble_retrieval_df_echelonify/med-qwen2\"]"
   ]
  },
  {
   "cell_type": "code",
   "execution_count": null,
   "metadata": {
    "tags": []
   },
   "outputs": [],
   "source": [
    "resultsDict"
   ]
  },
  {
   "cell_type": "markdown",
   "metadata": {
    "id": "X370PdK7_nRv",
    "tags": []
   },
   "source": [
    "AUTOMATIZZAZIONE DELLA VALUTAZIONE"
   ]
  },
  {
   "cell_type": "code",
   "execution_count": 204,
   "metadata": {
    "colab": {
     "referenced_widgets": [
      "dfd4accfc65e448a91d7f09b6ad3f209",
      "c8a558de1c1646f88b7210bb56ad715d",
      "49f23a1c7f05400697020983fb8a8a0e",
      "0dfa94a7c7b541b2b7102e5adfe970f8",
      "276379ea16ab4c4799e0974299c2bc36",
      "dd6c1e026f244404912ed615fbad98df"
     ]
    },
    "id": "2HoUy39t_nRv",
    "outputId": "b536e7e9-c82f-420f-ddc2-3142dbdbd5e8",
    "tags": []
   },
   "outputs": [
    {
     "name": "stdout",
     "output_type": "stream",
     "text": [
      "Evaluating model: qordmlwls/llama3.1-medical\n"
     ]
    },
    {
     "data": {
      "application/vnd.jupyter.widget-view+json": {
       "model_id": "375a8892daf34b2b852e011d57f924b8",
       "version_major": 2,
       "version_minor": 0
      },
      "text/plain": [
       "Evaluating:   0%|          | 0/90 [00:00<?, ?it/s]"
      ]
     },
     "metadata": {},
     "output_type": "display_data"
    },
    {
     "data": {
      "application/vnd.jupyter.widget-view+json": {
       "model_id": "d9fd2b27efb1470fae7f608285360502",
       "version_major": 2,
       "version_minor": 0
      },
      "text/plain": [
       "Evaluating:   0%|          | 0/90 [00:00<?, ?it/s]"
      ]
     },
     "metadata": {},
     "output_type": "display_data"
    },
    {
     "data": {
      "application/vnd.jupyter.widget-view+json": {
       "model_id": "6361591372054d1ab9ed1b41ed600b21",
       "version_major": 2,
       "version_minor": 0
      },
      "text/plain": [
       "Evaluating:   0%|          | 0/90 [00:00<?, ?it/s]"
      ]
     },
     "metadata": {},
     "output_type": "display_data"
    },
    {
     "name": "stdout",
     "output_type": "stream",
     "text": [
      "Evaluating model: qwen2\n"
     ]
    },
    {
     "data": {
      "application/vnd.jupyter.widget-view+json": {
       "model_id": "c6a7b51ad1eb4fcbaa2caf7e6fa35e7e",
       "version_major": 2,
       "version_minor": 0
      },
      "text/plain": [
       "Evaluating:   0%|          | 0/90 [00:00<?, ?it/s]"
      ]
     },
     "metadata": {},
     "output_type": "display_data"
    },
    {
     "data": {
      "application/vnd.jupyter.widget-view+json": {
       "model_id": "6d8407e542d547ad964fba99c0a5eabd",
       "version_major": 2,
       "version_minor": 0
      },
      "text/plain": [
       "Evaluating:   0%|          | 0/90 [00:00<?, ?it/s]"
      ]
     },
     "metadata": {},
     "output_type": "display_data"
    },
    {
     "data": {
      "application/vnd.jupyter.widget-view+json": {
       "model_id": "0e2c1c6f1b454fcc8228b4fdfc3d3925",
       "version_major": 2,
       "version_minor": 0
      },
      "text/plain": [
       "Evaluating:   0%|          | 0/90 [00:00<?, ?it/s]"
      ]
     },
     "metadata": {},
     "output_type": "display_data"
    },
    {
     "name": "stdout",
     "output_type": "stream",
     "text": [
      "Evaluating model: mistral-nemo\n"
     ]
    },
    {
     "data": {
      "application/vnd.jupyter.widget-view+json": {
       "model_id": "cd3076f9cf5e4346b55bd92ab7884c5e",
       "version_major": 2,
       "version_minor": 0
      },
      "text/plain": [
       "Evaluating:   0%|          | 0/90 [00:00<?, ?it/s]"
      ]
     },
     "metadata": {},
     "output_type": "display_data"
    },
    {
     "data": {
      "application/vnd.jupyter.widget-view+json": {
       "model_id": "9e7fd1f7dee04546a23e215a93f38121",
       "version_major": 2,
       "version_minor": 0
      },
      "text/plain": [
       "Evaluating:   0%|          | 0/90 [00:00<?, ?it/s]"
      ]
     },
     "metadata": {},
     "output_type": "display_data"
    },
    {
     "data": {
      "application/vnd.jupyter.widget-view+json": {
       "model_id": "b66351833c0d4f73a4bc8ee1ef31d3e3",
       "version_major": 2,
       "version_minor": 0
      },
      "text/plain": [
       "Evaluating:   0%|          | 0/90 [00:00<?, ?it/s]"
      ]
     },
     "metadata": {},
     "output_type": "display_data"
    },
    {
     "name": "stdout",
     "output_type": "stream",
     "text": [
      "Evaluating model: phi3\n"
     ]
    },
    {
     "data": {
      "application/vnd.jupyter.widget-view+json": {
       "model_id": "caf3d39fc6b247b9adabd851b0e91ae6",
       "version_major": 2,
       "version_minor": 0
      },
      "text/plain": [
       "Evaluating:   0%|          | 0/90 [00:00<?, ?it/s]"
      ]
     },
     "metadata": {},
     "output_type": "display_data"
    },
    {
     "data": {
      "application/vnd.jupyter.widget-view+json": {
       "model_id": "2f1e8896af28422396753a552578be26",
       "version_major": 2,
       "version_minor": 0
      },
      "text/plain": [
       "Evaluating:   0%|          | 0/90 [00:00<?, ?it/s]"
      ]
     },
     "metadata": {},
     "output_type": "display_data"
    },
    {
     "data": {
      "application/vnd.jupyter.widget-view+json": {
       "model_id": "2ee2d640e5424c1c9627f72e65d5eb34",
       "version_major": 2,
       "version_minor": 0
      },
      "text/plain": [
       "Evaluating:   0%|          | 0/90 [00:00<?, ?it/s]"
      ]
     },
     "metadata": {},
     "output_type": "display_data"
    },
    {
     "name": "stderr",
     "output_type": "stream",
     "text": [
      "Exception raised in Job[80]: TimeoutError()\n"
     ]
    },
    {
     "name": "stdout",
     "output_type": "stream",
     "text": [
      "\n",
      "Results for qordmlwls/llama3.1-medical:\n",
      "  Base Dataset:\n",
      "    faithfulness: 0.4991\n",
      "    answer_relevancy: 0.6002\n",
      "    answer_correctness: 0.5432\n",
      "    context_recall: 0.6657\n",
      "    context_precision: 0.8704\n",
      "  Multi Dataset:\n",
      "    faithfulness: 0.4320\n",
      "    answer_relevancy: 0.6601\n",
      "    answer_correctness: 0.5309\n",
      "    context_recall: 0.6241\n",
      "    context_precision: 0.8889\n",
      "  Ensemble Dataset:\n",
      "    faithfulness: 0.5113\n",
      "    answer_relevancy: 0.7608\n",
      "    answer_correctness: 0.5494\n",
      "    context_recall: 0.6657\n",
      "    context_precision: 0.9028\n",
      "\n",
      "Results for qwen2:\n",
      "  Base Dataset:\n",
      "    faithfulness: 0.5910\n",
      "    answer_relevancy: 0.6539\n",
      "    answer_correctness: 0.6374\n",
      "    context_recall: 0.6565\n",
      "    context_precision: 0.8981\n",
      "  Multi Dataset:\n",
      "    faithfulness: 0.4621\n",
      "    answer_relevancy: 0.5019\n",
      "    answer_correctness: 0.5526\n",
      "    context_recall: 0.6704\n",
      "    context_precision: 0.8704\n",
      "  Ensemble Dataset:\n",
      "    faithfulness: 0.5538\n",
      "    answer_relevancy: 0.7255\n",
      "    answer_correctness: 0.6174\n",
      "    context_recall: 0.6657\n",
      "    context_precision: 0.8704\n",
      "\n",
      "Results for mistral-nemo:\n",
      "  Base Dataset:\n",
      "    faithfulness: 0.5552\n",
      "    answer_relevancy: 0.6640\n",
      "    answer_correctness: 0.5061\n",
      "    context_recall: 0.6519\n",
      "    context_precision: 0.8981\n",
      "  Multi Dataset:\n",
      "    faithfulness: 0.3708\n",
      "    answer_relevancy: 0.6046\n",
      "    answer_correctness: 0.5057\n",
      "    context_recall: 0.6519\n",
      "    context_precision: 0.8981\n",
      "  Ensemble Dataset:\n",
      "    faithfulness: 0.6167\n",
      "    answer_relevancy: 0.8661\n",
      "    answer_correctness: 0.5872\n",
      "    context_recall: 0.6333\n",
      "    context_precision: 0.8704\n",
      "\n",
      "Results for phi3:\n",
      "  Base Dataset:\n",
      "    faithfulness: 0.5951\n",
      "    answer_relevancy: 0.8586\n",
      "    answer_correctness: 0.6312\n",
      "    context_recall: 0.6843\n",
      "    context_precision: 0.8981\n",
      "  Multi Dataset:\n",
      "    faithfulness: 0.4027\n",
      "    answer_relevancy: 0.6581\n",
      "    answer_correctness: 0.5069\n",
      "    context_recall: 0.6657\n",
      "    context_precision: 0.8981\n",
      "  Ensemble Dataset:\n",
      "    faithfulness: 0.4721\n",
      "    answer_relevancy: 0.6052\n",
      "    answer_correctness: 0.5029\n",
      "    context_recall: 0.6750\n",
      "    context_precision: 0.8981\n",
      "CPU times: user 1min 50s, sys: 1.37 s, total: 1min 52s\n",
      "Wall time: 13min 32s\n"
     ]
    }
   ],
   "source": [
    "%%time\n",
    "from langchain_core.language_models import BaseLanguageModel\n",
    "from langchain_core.embeddings import Embeddings\n",
    "from ragas import evaluate\n",
    "from langchain.llms import Ollama\n",
    "from datasets import Dataset\n",
    "\n",
    "# Dizionario per memorizzare i risultati della valutazione\n",
    "evaluation_results = {}\n",
    "\n",
    "# Metriche da utilizzare per la valutazione\n",
    "metrics = [\n",
    "    faithfulness,\n",
    "    answer_relevancy,\n",
    "    answer_correctness,\n",
    "    context_recall,\n",
    "    context_precision\n",
    "    #harmfulness\n",
    "    \n",
    "    # context_relevancy NON NECESSARIA QUANTO LE ALTRE DUE\n",
    "]\n",
    "\n",
    "# Funzione per convertire DataFrame in Dataset\n",
    "def convert_to_dataset(df):\n",
    "    return Dataset.from_pandas(df)\n",
    "\n",
    "# Itera su tutti i modelli presenti nel dizionario results\n",
    "for model_name in [\"qordmlwls/llama3.1-medical\",\"qwen2\",\"mistral-nemo\",\"phi3\"]: #AGGIUNGERE ALTRI MODELLI...\n",
    "    print(f\"Evaluating model: {model_name}\")\n",
    "\n",
    "\n",
    "    # Valutazione per il dataset base\n",
    "    resultBase = evaluate(\n",
    "        dataset=convert_to_dataset(resultsDict[f\"dataset_df_{model_name}\"]),\n",
    "        metrics=metrics,\n",
    "        llm=azure_model_GPT4OMINI, #azure_model_GPT4OMINI o generator_llm  embeddings=azure_embeddings\n",
    "        embeddings=azure_embeddings,\n",
    "        raise_exceptions=False\n",
    "    )\n",
    "\n",
    "    # Valutazione per il dataset advanced retrieval\n",
    "    resultMulti = evaluate(\n",
    "        dataset=convert_to_dataset(resultsDict[f\"advanced_retrieval_df_{model_name}\"]),\n",
    "        metrics=metrics,\n",
    "        llm=azure_model_GPT4OMINI,\n",
    "        embeddings=azure_embeddings,\n",
    "        raise_exceptions=False\n",
    "    )\n",
    "\n",
    "    # Valutazione per il dataset ensemble retrieval\n",
    "    resultEnsemble = evaluate(\n",
    "        dataset=convert_to_dataset(resultsDict[f\"ensemble_retrieval_df_{model_name}\"]),\n",
    "        metrics=metrics,\n",
    "        llm=azure_model_GPT4OMINI,\n",
    "        embeddings=azure_embeddings,\n",
    "        raise_exceptions=False\n",
    "    )\n",
    "\n",
    "    # Memorizza i risultati della valutazione per questo modello\n",
    "    evaluation_results[model_name] = {\n",
    "        \"base\": resultBase,\n",
    "        \"multi\": resultMulti,\n",
    "        \"ensemble\": resultEnsemble\n",
    "    }\n",
    "\n",
    "# Stampa un riepilogo dei risultati\n",
    "for model_name, model_results in evaluation_results.items():\n",
    "    print(f\"\\nResults for {model_name}:\")\n",
    "    for dataset_type, result in model_results.items():\n",
    "        print(f\"  {dataset_type.capitalize()} Dataset:\")\n",
    "        for metric, score in result.items():\n",
    "            print(f\"    {metric}: {score:.4f}\")"
   ]
  },
  {
   "cell_type": "code",
   "execution_count": 205,
   "metadata": {
    "id": "ywBQW8Oc_nRv",
    "tags": []
   },
   "outputs": [],
   "source": [
    "import pickle\n",
    "# Salva evaluation_results su un file per poter riaccedere successivamente\n",
    "with open('evaluation_results_4MODELLI.pkl', 'wb') as f: #Cambianome per salvare più modelli \n",
    "    pickle.dump(evaluation_results, f)"
   ]
  },
  {
   "cell_type": "markdown",
   "metadata": {
    "tags": []
   },
   "source": [
    "## CARICO MODELLI PER LE ANALISI DA FILE PICKLE"
   ]
  },
  {
   "cell_type": "markdown",
   "metadata": {},
   "source": [
    "Carico il primo pickle dove ho salvato i risultati del modello qwen 2 med"
   ]
  },
  {
   "cell_type": "code",
   "execution_count": 206,
   "metadata": {
    "tags": []
   },
   "outputs": [],
   "source": [
    "import pickle\n",
    "# Carica evaluation_results da un file\n",
    "with open('evaluation_resultsQWENMED.pkl', 'rb') as f:\n",
    "    evaluation_resultsQWENMED = pickle.load(f)"
   ]
  },
  {
   "cell_type": "code",
   "execution_count": 207,
   "metadata": {
    "tags": []
   },
   "outputs": [],
   "source": [
    "QwenMedBase = evaluation_resultsQWENMED[\"echelonify/med-qwen2\"][\"base\"].to_pandas()\n",
    "QwenMedMulti = evaluation_resultsQWENMED[\"echelonify/med-qwen2\"][\"multi\"].to_pandas()\n",
    "QwenMedEnsemble = evaluation_resultsQWENMED[\"echelonify/med-qwen2\"][\"ensemble\"].to_pandas()"
   ]
  },
  {
   "cell_type": "markdown",
   "metadata": {},
   "source": [
    "Carico il secondo pickle dove ho salvato i risultati degli altri modelli"
   ]
  },
  {
   "cell_type": "code",
   "execution_count": 259,
   "metadata": {
    "tags": []
   },
   "outputs": [],
   "source": [
    "import pickle\n",
    "# Carica evaluation_results da un file\n",
    "with open('evaluation_results_4MODELLI.pkl', 'rb') as f:\n",
    "    evaluation_results = pickle.load(f)"
   ]
  },
  {
   "cell_type": "code",
   "execution_count": 260,
   "metadata": {
    "tags": []
   },
   "outputs": [],
   "source": [
    "# LLAMA 3.1 MED\n",
    "LlamaMedBase = evaluation_results[\"qordmlwls/llama3.1-medical\"][\"base\"].to_pandas()\n",
    "LlamaMedMulti = evaluation_results[\"qordmlwls/llama3.1-medical\"][\"multi\"].to_pandas()\n",
    "LlamaMedEnsemble = evaluation_results[\"qordmlwls/llama3.1-medical\"][\"ensemble\"].to_pandas()\n",
    "\n",
    "# QWEN2\n",
    "Qwen2Base = evaluation_results[\"qwen2\"][\"base\"].to_pandas()\n",
    "Qwen2Multi = evaluation_results[\"qwen2\"][\"multi\"].to_pandas()\n",
    "Qwen2Ensemble = evaluation_results[\"qwen2\"][\"ensemble\"].to_pandas()\n",
    "\n",
    "#MISTRAL-NEMO\n",
    "MistralNemoBase = evaluation_results[\"mistral-nemo\"][\"base\"].to_pandas()\n",
    "MistralNemoMulti = evaluation_results[\"mistral-nemo\"][\"multi\"].to_pandas()\n",
    "MistralNemoEnsemble = evaluation_results[\"mistral-nemo\"][\"ensemble\"].to_pandas()\n",
    "\n",
    "#PHI3\n",
    "Phi3Base = evaluation_results[\"phi3\"][\"base\"].to_pandas()\n",
    "Phi3Multi = evaluation_results[\"phi3\"][\"multi\"].to_pandas()\n",
    "Phi3Ensemble = evaluation_results[\"phi3\"][\"ensemble\"].to_pandas()"
   ]
  },
  {
   "cell_type": "markdown",
   "metadata": {
    "id": "nZHdQXAK_nRw",
    "tags": []
   },
   "source": [
    "## ANALISI RISULTATI"
   ]
  },
  {
   "cell_type": "markdown",
   "metadata": {
    "id": "WR3J3UtP_nRw"
   },
   "source": [
    "CONTROLLO I VARI RISULTATI OTTENUTI PER SINGOLO RETRIEVER"
   ]
  },
  {
   "cell_type": "code",
   "execution_count": 247,
   "metadata": {
    "id": "Tecdgtf4_nRw",
    "tags": []
   },
   "outputs": [],
   "source": [
    "Phi3BaseSingolo = evaluation_results[\"phi3\"][\"base\"]"
   ]
  },
  {
   "cell_type": "code",
   "execution_count": 248,
   "metadata": {
    "tags": []
   },
   "outputs": [
    {
     "data": {
      "text/plain": [
       "{'faithfulness': 0.5951, 'answer_relevancy': 0.8586, 'answer_correctness': 0.6312, 'context_recall': 0.6843, 'context_precision': 0.8981}"
      ]
     },
     "execution_count": 248,
     "metadata": {},
     "output_type": "execute_result"
    }
   ],
   "source": [
    "Phi3BaseSingolo"
   ]
  },
  {
   "cell_type": "code",
   "execution_count": 249,
   "metadata": {
    "tags": []
   },
   "outputs": [
    {
     "data": {
      "text/plain": [
       "{'faithfulness': 0.4027, 'answer_relevancy': 0.6581, 'answer_correctness': 0.5069, 'context_recall': 0.6657, 'context_precision': 0.8981}"
      ]
     },
     "execution_count": 249,
     "metadata": {},
     "output_type": "execute_result"
    }
   ],
   "source": [
    "evaluation_results[\"phi3\"][\"multi\"]"
   ]
  },
  {
   "cell_type": "code",
   "execution_count": null,
   "metadata": {
    "id": "puglvNFO_nRw",
    "tags": []
   },
   "outputs": [],
   "source": [
    "#resultMulti"
   ]
  },
  {
   "cell_type": "code",
   "execution_count": null,
   "metadata": {
    "id": "cRo-Pzsf_nRw",
    "tags": []
   },
   "outputs": [],
   "source": [
    "#resultEnsemble"
   ]
  },
  {
   "cell_type": "markdown",
   "metadata": {
    "id": "8wD2H7M4_nRx"
   },
   "source": [
    "PER CONTROLLARE SUL DIZIONARIO OTTENUTO DAL PROCESSO AUTOMATIZZATO ACCEDO PRIMA AL SINGOLO DATASET DEL LLM IN QUESTIONE PER VERIFICARE E POI ESEGUO ALTRI TEST"
   ]
  },
  {
   "cell_type": "code",
   "execution_count": null,
   "metadata": {},
   "outputs": [],
   "source": [
    "# Carica ResultDict da un file\n",
    "with open('resultsDict_4MODELLI.pkl', 'rb') as f:\n",
    "    resultsDict = pickle.load(f)"
   ]
  },
  {
   "cell_type": "code",
   "execution_count": 220,
   "metadata": {
    "id": "NF243rfw_nRx",
    "tags": []
   },
   "outputs": [],
   "source": [
    "#SE VOGLIO TESTARE SU SINGOLO DATASET ALTRE METRICHE MI PRENDO IL DATASET DAL DIZIONARIO(SE NON E' CREATO, LO CARICO)- IN QUESTO CASO PER ESEMPIO E' PHI3 MA PER ALTRI BASTA MODIFICARE IL NOME\n",
    "DataBasePhi3= convert_to_dataset(resultsDict[\"dataset_df_phi3\"])\n",
    "DataMultiPhi3= convert_to_dataset(resultsDict[\"advanced_retrieval_df_phi3\"])\n",
    "DataEnsemblePhi3= convert_to_dataset(resultsDict[\"ensemble_retrieval_df_phi3\"])"
   ]
  },
  {
   "cell_type": "markdown",
   "metadata": {
    "tags": []
   },
   "source": [
    "### PER AGGIUNGERE NUOVA METRICA AL DIZIONARIO PRECEDENTE(MANUALE)"
   ]
  },
  {
   "cell_type": "code",
   "execution_count": 221,
   "metadata": {
    "tags": []
   },
   "outputs": [
    {
     "data": {
      "application/vnd.jupyter.widget-view+json": {
       "model_id": "33586996c5d340abb674a308f514b83d",
       "version_major": 2,
       "version_minor": 0
      },
      "text/plain": [
       "Evaluating:   0%|          | 0/18 [00:00<?, ?it/s]"
      ]
     },
     "metadata": {},
     "output_type": "display_data"
    }
   ],
   "source": [
    "new_metric_score = evaluate(DataBasePhi3, metrics=[harmfulness], llm=azure_model_GPT4OMINI, embeddings=azure_embeddings)\n",
    "new_metric_df = new_metric_score.to_pandas()"
   ]
  },
  {
   "cell_type": "code",
   "execution_count": 222,
   "metadata": {
    "tags": []
   },
   "outputs": [],
   "source": [
    "# Assumendo che la nuova metrica sia una singola colonna\n",
    "new_metric_name = \"harmfulness\"  # Sostituisci con il nome effettivo della metrica\n",
    "Phi3Base[new_metric_name] = new_metric_df[new_metric_name]"
   ]
  },
  {
   "cell_type": "code",
   "execution_count": 223,
   "metadata": {
    "tags": []
   },
   "outputs": [],
   "source": [
    "evaluation_results[\"phi3\"][\"base\"] = Dataset.from_pandas(Phi3Base)"
   ]
  },
  {
   "cell_type": "code",
   "execution_count": 224,
   "metadata": {
    "tags": []
   },
   "outputs": [],
   "source": [
    "Phi3Base = evaluation_results[\"phi3\"][\"base\"].to_pandas()"
   ]
  },
  {
   "cell_type": "markdown",
   "metadata": {},
   "source": [
    "PER ELIMINARE:"
   ]
  },
  {
   "cell_type": "code",
   "execution_count": 226,
   "metadata": {
    "tags": []
   },
   "outputs": [],
   "source": [
    "# Supponiamo che la colonna che vuoi eliminare si chiami \"harmfulness\"\n",
    "column_to_remove = \"harmfulness\"\n",
    "\n",
    "# Rimuovi la colonna da Phi3Base\n",
    "Phi3Base = Phi3Base.drop(columns=[column_to_remove])\n",
    "\n",
    "# Aggiorna il dizionario evaluation_results\n",
    "evaluation_results[\"phi3\"][\"base\"] = Dataset.from_pandas(Phi3Base)\n"
   ]
  },
  {
   "cell_type": "code",
   "execution_count": null,
   "metadata": {},
   "outputs": [],
   "source": [
    "#USARE PER SOVRASCRIVERE IL FILE PICKLE PRECEDENTE AGGIORNANDOLO\n",
    "with open('evaluation_results_4MODELLI_UPDATE.pkl', 'wb') as f:\n",
    "    pickle.dump(evaluation_results, f)"
   ]
  },
  {
   "cell_type": "code",
   "execution_count": null,
   "metadata": {
    "colab": {
     "referenced_widgets": [
      "daae9214eb9a4708ab8f09e1911b3b2b"
     ]
    },
    "id": "gB6Vfbpy_nRx",
    "outputId": "9ea4f15c-1279-45fe-e448-c7a06a6e4dae",
    "tags": []
   },
   "outputs": [],
   "source": [
    "#PER TESTARE SINGOLA METRICA\n",
    "#score = evaluate(DataBasePhi3,metrics=[harmfulness], llm=azure_model_GPT4OMINI, embeddings=azure_embeddings)\n",
    "#score.to_pandas()"
   ]
  },
  {
   "cell_type": "markdown",
   "metadata": {
    "tags": []
   },
   "source": [
    "### AGGIUNTA DI METRICHE AUTOMATIZZATO PER TUTTI I MODELLI"
   ]
  },
  {
   "cell_type": "code",
   "execution_count": null,
   "metadata": {
    "tags": []
   },
   "outputs": [],
   "source": [
    "from tqdm import tqdm\n",
    "\n",
    "def add_new_metric_to_all_models(resultsDict, evaluation_results, metric_function, metric_name, llm, embeddings):\n",
    "    models = [\"qordmlwls/llama3.1-medical\", \"qwen2\", \"mistral-nemo\", \"phi3\"]\n",
    "    approaches = {\n",
    "        \"base\": \"dataset_df_\",\n",
    "        \"multi\": \"advanced_retrieval_df_\",\n",
    "        \"ensemble\": \"ensemble_retrieval_df_\"\n",
    "    }\n",
    "    \n",
    "    total_iterations = len(models) * len(approaches)\n",
    "    progress_bar = tqdm(total=total_iterations, desc=\"Processing models\")\n",
    "\n",
    "    for model in models:\n",
    "        for approach, prefix in approaches.items():\n",
    "            progress_bar.set_description(f\"Processing {model} - {approach}\")\n",
    "            \n",
    "            # Ottieni il dataset da resultsDict\n",
    "            dataset_key = f\"{prefix}{model}\"\n",
    "            current_dataset = convert_to_dataset(resultsDict[dataset_key])\n",
    "            \n",
    "            # Calcola la nuova metrica\n",
    "            new_metric_score = evaluate(current_dataset, metrics=[metric_function], llm=llm, embeddings=embeddings)\n",
    "            new_metric_df = new_metric_score.to_pandas()\n",
    "            \n",
    "            # Aggiunge la nuova metrica al DataFrame esistente in evaluation_results\n",
    "            current_df = evaluation_results[model][approach].to_pandas()\n",
    "            current_df[metric_name] = new_metric_df[metric_name]\n",
    "            \n",
    "            # Aggiorna il dizionario evaluation_results\n",
    "            evaluation_results[model][approach] = Dataset.from_pandas(current_df)\n",
    "            \n",
    "            progress_bar.update(1)\n",
    "    \n",
    "    progress_bar.close()\n",
    "    return evaluation_results\n",
    "\n",
    "# Uso della funzione\n",
    "new_evaluation_results = add_new_metric_to_all_models(\n",
    "    resultsDict,\n",
    "    evaluation_results, \n",
    "    harmfulness,  # La funzione metrica che hai definito\n",
    "    \"harmfulness\",  # Il nome della nuova metrica\n",
    "    azure_model_GPT4OMINI, \n",
    "    azure_embeddings\n",
    ")\n",
    "\n",
    "# Salva il dizionario aggiornato nel file pickle\n",
    "with open('evaluation_results_4MODELLI_UPDATE.pkl', 'wb') as f:\n",
    "    pickle.dump(new_evaluation_results, f)"
   ]
  },
  {
   "cell_type": "code",
   "execution_count": 254,
   "metadata": {
    "tags": []
   },
   "outputs": [],
   "source": [
    "# Carico per testare\n",
    "with open('evaluation_results_4MODELLI_UPDATE.pkl', 'rb') as f:\n",
    "    evaluation_update = pickle.load(f)"
   ]
  },
  {
   "cell_type": "code",
   "execution_count": 255,
   "metadata": {
    "tags": []
   },
   "outputs": [],
   "source": [
    "# LLAMA 3.1 MED\n",
    "LlamaMedBaseU = evaluation_update[\"qordmlwls/llama3.1-medical\"][\"base\"].to_pandas()\n",
    "LlamaMedMultiU = evaluation_update[\"qordmlwls/llama3.1-medical\"][\"multi\"].to_pandas()\n",
    "LlamaMedEnsembleU = evaluation_update[\"qordmlwls/llama3.1-medical\"][\"ensemble\"].to_pandas()\n",
    "\n",
    "# QWEN2\n",
    "Qwen2BaseU = evaluation_update[\"qwen2\"][\"base\"].to_pandas()\n",
    "Qwen2MultiU = evaluation_update[\"qwen2\"][\"multi\"].to_pandas()\n",
    "Qwen2EnsembleU = evaluation_update[\"qwen2\"][\"ensemble\"].to_pandas()\n",
    "\n",
    "#MISTRAL-NEMO\n",
    "MistralNemoBaseU = evaluation_update[\"mistral-nemo\"][\"base\"].to_pandas()\n",
    "MistralNemoMultiU = evaluation_update[\"mistral-nemo\"][\"multi\"].to_pandas()\n",
    "MistralNemoEnsembleU = evaluation_update[\"mistral-nemo\"][\"ensemble\"].to_pandas()\n",
    "\n",
    "#PHI3\n",
    "Phi3BaseU = evaluation_update[\"phi3\"][\"base\"].to_pandas()\n",
    "Phi3MultiU = evaluation_update[\"phi3\"][\"multi\"].to_pandas()\n",
    "Phi3EnsembleU = evaluation_update[\"phi3\"][\"ensemble\"].to_pandas()"
   ]
  },
  {
   "cell_type": "code",
   "execution_count": null,
   "metadata": {
    "tags": []
   },
   "outputs": [],
   "source": [
    "evaluation_update[\"qordmlwls/llama3.1-medical\"][\"base\"].to_pandas()"
   ]
  },
  {
   "cell_type": "markdown",
   "metadata": {
    "id": "V5ZZkFh6_nRx",
    "jp-MarkdownHeadingCollapsed": true,
    "tags": []
   },
   "source": [
    "### CREO IL DATASET DI CONFRONTO"
   ]
  },
  {
   "cell_type": "code",
   "execution_count": null,
   "metadata": {
    "id": "mvG1Dj_d_nRx",
    "tags": []
   },
   "outputs": [],
   "source": [
    "import pandas as pd\n",
    "\n",
    "df_original = pd.DataFrame(list(result.items()), columns=['Metric', 'Baseline'])\n",
    "df_comparison = pd.DataFrame(list(resultMulti.items()), columns=['Metric', 'MultiQueryRetriever'])\n",
    "\n",
    "df_merged = pd.merge(df_original, df_comparison, on='Metric')\n",
    "\n",
    "df_merged['Delta'] = df_merged['MultiQueryRetriever'] - df_merged['Baseline']\n",
    "\n",
    "df_merged"
   ]
  },
  {
   "cell_type": "code",
   "execution_count": null,
   "metadata": {
    "id": "LwVgcxPX_nRx",
    "outputId": "ed72a6cb-05f2-47eb-f6cb-cef2d2766192",
    "tags": []
   },
   "outputs": [],
   "source": [
    "#MODIFICATO PER 3 RAG\n",
    "import pandas as pd\n",
    "\n",
    "df_original = pd.DataFrame(list(resultBase.items()), columns=['Metric', 'BaseRetriever'])\n",
    "df_comparison = pd.DataFrame(list(resultMulti.items()), columns=['Metric', 'MultiQueryRetriever'])\n",
    "df_ensemble = pd.DataFrame(list(resultEnsemble.items()), columns=['Metric', 'EnsembleRetriever'])\n",
    "\n",
    "# Merge i primi due data frame\n",
    "df_merged = pd.merge(df_original, df_comparison, on='Metric')\n",
    "\n",
    "# effettuo il secondo merge con l'altro dataset\n",
    "df_merged = pd.merge(df_merged, df_ensemble, on='Metric')\n",
    "\n",
    "df_merged['Delta'] = df_merged['EnsembleRetriever'] - df_merged['MultiQueryRetriever'] - df_merged['BaseRetriever']\n",
    "\n",
    "df_merged"
   ]
  },
  {
   "cell_type": "markdown",
   "metadata": {
    "id": "cAWCjqay_nRy"
   },
   "source": [
    "CREO UNA TABELLA DI COMPARAZIONE DEI RISULTATI PER GLI EVALUATION RESULTS OTTENUTI PRIMA IN MODO AUTOMATICO"
   ]
  },
  {
   "cell_type": "code",
   "execution_count": 193,
   "metadata": {
    "id": "nGfKT8I1_nRy",
    "outputId": "6408fefc-ddc3-433d-e6be-0f639ecd3598",
    "tags": []
   },
   "outputs": [
    {
     "data": {
      "text/html": [
       "<div>\n",
       "<style scoped>\n",
       "    .dataframe tbody tr th:only-of-type {\n",
       "        vertical-align: middle;\n",
       "    }\n",
       "\n",
       "    .dataframe tbody tr th {\n",
       "        vertical-align: top;\n",
       "    }\n",
       "\n",
       "    .dataframe thead th {\n",
       "        text-align: right;\n",
       "    }\n",
       "</style>\n",
       "<table border=\"1\" class=\"dataframe\">\n",
       "  <thead>\n",
       "    <tr style=\"text-align: right;\">\n",
       "      <th></th>\n",
       "      <th>Model</th>\n",
       "      <th>Metric</th>\n",
       "      <th>BaseRetriever</th>\n",
       "      <th>MultiQueryRetriever</th>\n",
       "      <th>EnsembleRetriever</th>\n",
       "    </tr>\n",
       "  </thead>\n",
       "  <tbody>\n",
       "    <tr>\n",
       "      <th>0</th>\n",
       "      <td>echelonify/med-qwen2</td>\n",
       "      <td>faithfulness</td>\n",
       "      <td>0.578045</td>\n",
       "      <td>0.371344</td>\n",
       "      <td>0.472351</td>\n",
       "    </tr>\n",
       "    <tr>\n",
       "      <th>1</th>\n",
       "      <td>echelonify/med-qwen2</td>\n",
       "      <td>answer_relevancy</td>\n",
       "      <td>0.871317</td>\n",
       "      <td>0.698954</td>\n",
       "      <td>0.639676</td>\n",
       "    </tr>\n",
       "    <tr>\n",
       "      <th>2</th>\n",
       "      <td>echelonify/med-qwen2</td>\n",
       "      <td>answer_correctness</td>\n",
       "      <td>0.543815</td>\n",
       "      <td>0.500893</td>\n",
       "      <td>0.539153</td>\n",
       "    </tr>\n",
       "    <tr>\n",
       "      <th>3</th>\n",
       "      <td>echelonify/med-qwen2</td>\n",
       "      <td>context_recall</td>\n",
       "      <td>0.637963</td>\n",
       "      <td>0.665741</td>\n",
       "      <td>0.628704</td>\n",
       "    </tr>\n",
       "    <tr>\n",
       "      <th>4</th>\n",
       "      <td>echelonify/med-qwen2</td>\n",
       "      <td>context_precision</td>\n",
       "      <td>0.870370</td>\n",
       "      <td>0.898148</td>\n",
       "      <td>0.870370</td>\n",
       "    </tr>\n",
       "  </tbody>\n",
       "</table>\n",
       "</div>"
      ],
      "text/plain": [
       "                  Model              Metric  BaseRetriever   \n",
       "0  echelonify/med-qwen2        faithfulness       0.578045  \\\n",
       "1  echelonify/med-qwen2    answer_relevancy       0.871317   \n",
       "2  echelonify/med-qwen2  answer_correctness       0.543815   \n",
       "3  echelonify/med-qwen2      context_recall       0.637963   \n",
       "4  echelonify/med-qwen2   context_precision       0.870370   \n",
       "\n",
       "   MultiQueryRetriever  EnsembleRetriever  \n",
       "0             0.371344           0.472351  \n",
       "1             0.698954           0.639676  \n",
       "2             0.500893           0.539153  \n",
       "3             0.665741           0.628704  \n",
       "4             0.898148           0.870370  "
      ]
     },
     "execution_count": 193,
     "metadata": {},
     "output_type": "execute_result"
    }
   ],
   "source": [
    "import pandas as pd\n",
    "\n",
    "# Funzione per creare un DataFrame di confronto per un singolo modello\n",
    "def create_comparison_df(model_results, model_name):\n",
    "    df_base = pd.DataFrame(list(model_results['base'].items()), columns=['Metric', 'BaseRetriever'])\n",
    "    df_multi = pd.DataFrame(list(model_results['multi'].items()), columns=['Metric', 'MultiQueryRetriever'])\n",
    "    df_ensemble = pd.DataFrame(list(model_results['ensemble'].items()), columns=['Metric', 'EnsembleRetriever'])\n",
    "\n",
    "    df_merged = pd.merge(df_base, df_multi, on='Metric')\n",
    "    df_merged = pd.merge(df_merged, df_ensemble, on='Metric')\n",
    "\n",
    "    #df_merged['Delta'] = df_merged['EnsembleRetriever'] - df_merged['MultiQueryRetriever'] - df_merged['BaseRetriever']\n",
    "    df_merged['Model'] = model_name  # Aggiungi una colonna con il nome del modello\n",
    "\n",
    "    return df_merged\n",
    "\n",
    "# Creare un DataFrame di confronto per ogni modello\n",
    "comparison_dfs = {}\n",
    "for model_name, model_results in evaluation_results.items():\n",
    "    comparison_dfs[model_name] = create_comparison_df(model_results, model_name)\n",
    "\n",
    "# Combinare tutti i DataFrame in un unico DataFrame di confronto\n",
    "combined_df = pd.DataFrame()\n",
    "for df in comparison_dfs.values():\n",
    "    if combined_df.empty:\n",
    "        combined_df = df\n",
    "    else:\n",
    "        combined_df = pd.concat([combined_df, df], ignore_index=True)\n",
    "\n",
    "# Riorganizzare le colonne per avere 'Model' all'inizio, seguito dalle metriche\n",
    "column_order = ['Model', 'Metric', 'BaseRetriever', 'MultiQueryRetriever', 'EnsembleRetriever']#, 'Delta'\n",
    "combined_df = combined_df[column_order]\n",
    "\n",
    "# Visualizzare il DataFrame combinato\n",
    "#print(combined_df)\n",
    "\n",
    "# Opzionalmente, salvare il DataFrame in un file CSV\n",
    "combined_df.to_csv('llm_rag_comparison.csv', index=False)\n",
    "combined_df"
   ]
  },
  {
   "cell_type": "markdown",
   "metadata": {
    "id": "dJRqMXsB_nR0",
    "tags": []
   },
   "source": [
    "## CREO LA MATRICE DI CONFUSIONE PER VALUTARE BENE IL MIO RAG"
   ]
  },
  {
   "cell_type": "code",
   "execution_count": 182,
   "metadata": {
    "id": "sS7kKES__nR0",
    "tags": []
   },
   "outputs": [
    {
     "data": {
      "image/png": "[encoded data removed]",
      "text/plain": [
       "<Figure size 1000x800 with 2 Axes>"
      ]
     },
     "metadata": {},
     "output_type": "display_data"
    }
   ],
   "source": [
    "import seaborn as sns\n",
    "import matplotlib.pyplot as plt\n",
    "from matplotlib.colors import LinearSegmentedColormap\n",
    "\n",
    "#df = result.to_pandas()\n",
    "\n",
    "heatmap_data = QwenMedBase[['context_precision', 'context_recall', 'faithfulness', 'answer_relevancy', 'answer_correctness']]\n",
    "\n",
    "cmap = LinearSegmentedColormap.from_list('green_red', ['red', 'green'])\n",
    "\n",
    "plt.figure(figsize=(10, 8))\n",
    "sns.heatmap(heatmap_data, annot=True, fmt=\".2f\", linewidths=.5, cmap=cmap)\n",
    "\n",
    "plt.yticks(ticks=range(len(QwenMedBase['question'])), labels=QwenMedBase['question'], rotation=0)\n",
    "\n",
    "plt.show()"
   ]
  },
  {
   "cell_type": "markdown",
   "metadata": {
    "id": "acU3JIGj_nR1",
    "tags": []
   },
   "source": [
    "### VALUTAZIONE VARI RETRIEVER CON GRAFICO A RADAR E BARRE PER SINGOLO MODELLO"
   ]
  },
  {
   "cell_type": "code",
   "execution_count": null,
   "metadata": {
    "id": "ez5D8ZCO_nR1",
    "tags": []
   },
   "outputs": [],
   "source": [
    "# MI ESTRAGGO I RISULTATI SINGOLARMENTTE\n",
    "llamaBase = evaluation_results[\"llama3.1\"][\"base\"].to_pandas()\n",
    "llamaMulti = evaluation_results[\"llama3.1\"][\"multi\"].to_pandas()\n",
    "llamaEnsemble = evaluation_results[\"llama3.1\"][\"ensemble\"].to_pandas()\n",
    "#FARE PER ALTRI MODELLI..."
   ]
  },
  {
   "cell_type": "code",
   "execution_count": 183,
   "metadata": {
    "tags": []
   },
   "outputs": [],
   "source": [
    "QwenMedBase = evaluation_results[\"echelonify/med-qwen2\"][\"base\"].to_pandas()\n",
    "QwenMedMulti = evaluation_results[\"echelonify/med-qwen2\"][\"multi\"].to_pandas()\n",
    "QwenMedEnsemble = evaluation_results[\"echelonify/med-qwen2\"][\"ensemble\"].to_pandas()"
   ]
  },
  {
   "cell_type": "code",
   "execution_count": null,
   "metadata": {
    "id": "3fG-yMju_nR1",
    "tags": []
   },
   "outputs": [],
   "source": [
    "QwenMedBase[metrics] # VERIFICO LE METRICHE"
   ]
  },
  {
   "cell_type": "code",
   "execution_count": 190,
   "metadata": {
    "tags": []
   },
   "outputs": [
    {
     "data": {
      "application/vnd.plotly.v1+json": {
       "config": {
        "plotlyServerURL": "https://plot.ly"
       },
       "data": [
        {
         "fill": "toself",
         "line": {
          "color": "blue",
          "width": 2
         },
         "marker": {
          "size": 8,
          "symbol": "circle"
         },
         "name": "QwenMed Base",
         "r": [
          0.9072998487547742,
          0.42857142857142855,
          0.5734478356912689,
          0.9676419092344825,
          1,
          0.48066914911866687,
          0.896913994331721,
          0.29411764705882354,
          0.6031239967632398,
          0.8993187453328554,
          0.3076923076923077,
          0.38063812964449517,
          0.9438605334011564,
          1,
          0.5948544930006809,
          0.9051191824977364,
          0.5,
          0.5244838018204188,
          0.9694212372718681,
          1,
          0.7248142331738552,
          0.898295825231228,
          1,
          0.5076751606657124,
          0.9315438177734023,
          0.5,
          0.5283444124013832,
          0.9366585700188481,
          0.1111111111111111,
          0.8280454842625051,
          0.8649815553670329,
          0.9130434782608695,
          0.3379374220992087,
          0.8693441221266746,
          1,
          0.7335861773565778,
          0.9349640820827488,
          1,
          0.4523888025465027,
          0,
          0.25,
          0.3686662367447865,
          0.9768213211552865,
          0,
          0.5811317596665976,
          0.8923895220584871,
          0.375,
          0.5214357992826542,
          0.9513941949486352,
          0.5714285714285714,
          0.7361130444974041,
          0.9377375143998842,
          0.15384615384615385,
          0.3113124291648127
         ],
         "theta": [
          "answer_relevancy",
          "faithfulness",
          "answer_correctness"
         ],
         "type": "scatterpolar",
         "visible": true
        },
        {
         "fill": "toself",
         "line": {
          "color": "red",
          "width": 2
         },
         "marker": {
          "size": 8,
          "symbol": "circle"
         },
         "name": "QwenMed Multi",
         "r": [
          0.9253381423766895,
          0.3333333333333333,
          0.9916785455654504,
          0,
          0.7142857142857143,
          0.4201717337046171,
          0.8228816825700301,
          0.125,
          0.7006602197137654,
          0.9449788628880901,
          0.15789473684210525,
          0.4775900320915275,
          0,
          0.2727272727272727,
          0.4295154639176173,
          0,
          0.5,
          0.42662651413587593,
          0.8331597603292306,
          0,
          0.5457281328022896,
          0.9084644261057174,
          0.6111111111111112,
          0.3557329742997006,
          0.931571069937074,
          0.4,
          0.7247109951745889,
          0.8489904167598317,
          0.8,
          0.976319245498271,
          0.8754274540318755,
          0,
          0.42426437630227537,
          0,
          0,
          0.1955259608301556,
          0.9349640820827488,
          0.7142857142857143,
          0.48748511200865774,
          0.8623203244544414,
          0.3333333333333333,
          0.20266863686902992,
          0.9454743120661786,
          0.13333333333333333,
          0.39235574095035314,
          0.8656526060367943,
          0.7,
          0.3197198182481549,
          0.9442156568642893,
          0.6666666666666666,
          0.6219023172302045,
          0.9377375143998842,
          0.2222222222222222,
          0.3234108181107849
         ],
         "theta": [
          "answer_relevancy",
          "faithfulness",
          "answer_correctness"
         ],
         "type": "scatterpolar",
         "visible": true
        },
        {
         "fill": "toself",
         "line": {
          "color": "green",
          "width": 2
         },
         "marker": {
          "size": 8,
          "symbol": "circle"
         },
         "name": "QwenMed Ensemble",
         "r": [
          0.9258671551877097,
          0.42857142857142855,
          0.8973075967203007,
          0,
          0.6363636363636364,
          0.38069682688398576,
          0.9019996176178126,
          0.4166666666666667,
          0.5933617317890579,
          0.8416401641150042,
          0.05555555555555555,
          0.34615725079413945,
          0,
          1,
          0.3625537726943189,
          0,
          0.5,
          0.20388684429053727,
          0,
          0.6521739130434783,
          0.34354334806835285,
          0.7965081325443943,
          0.7272727272727273,
          0.47263997099179195,
          0.8553131543506831,
          0.625,
          0.5180182460064982,
          0.9153097109083341,
          0.25,
          0.9878695615964627,
          0.9065212759402391,
          0.3333333333333333,
          0.442991276568941,
          0.8693441221266746,
          0.375,
          0.5154248817324675,
          0,
          0.2857142857142857,
          0.46924508033684503,
          0.9012770826414106,
          0.5833333333333334,
          0.5456292875108637,
          0.9170258470256515,
          0.16666666666666666,
          0.7373894296447716,
          0.8772971393588378,
          0.3,
          0.43959131294092624,
          0.8999723336221134,
          0.3333333333333333,
          0.7500765844147066,
          0.9060889186456285,
          0.8333333333333334,
          0.6983725212419375
         ],
         "theta": [
          "answer_relevancy",
          "faithfulness",
          "answer_correctness"
         ],
         "type": "scatterpolar",
         "visible": true
        }
       ],
       "layout": {
        "height": 500,
        "legend": {
         "font": {
          "size": 12
         }
        },
        "polar": {
         "angularaxis": {
          "tickfont": {
           "size": 12
          },
          "type": "category"
         },
         "radialaxis": {
          "autorange": false,
          "range": [
           0,
           1
          ],
          "ticktext": [
           "20%",
           "40%",
           "60%",
           "80%"
          ],
          "tickvals": [
           0.2,
           0.4,
           0.6,
           0.8
          ],
          "type": "linear",
          "visible": true
         }
        },
        "showlegend": true,
        "template": {
         "data": {
          "bar": [
           {
            "error_x": {
             "color": "#2a3f5f"
            },
            "error_y": {
             "color": "#2a3f5f"
            },
            "marker": {
             "line": {
              "color": "#E5ECF6",
              "width": 0.5
             },
             "pattern": {
              "fillmode": "overlay",
              "size": 10,
              "solidity": 0.2
             }
            },
            "type": "bar"
           }
          ],
          "barpolar": [
           {
            "marker": {
             "line": {
              "color": "#E5ECF6",
              "width": 0.5
             },
             "pattern": {
              "fillmode": "overlay",
              "size": 10,
              "solidity": 0.2
             }
            },
            "type": "barpolar"
           }
          ],
          "carpet": [
           {
            "aaxis": {
             "endlinecolor": "#2a3f5f",
             "gridcolor": "white",
             "linecolor": "white",
             "minorgridcolor": "white",
             "startlinecolor": "#2a3f5f"
            },
            "baxis": {
             "endlinecolor": "#2a3f5f",
             "gridcolor": "white",
             "linecolor": "white",
             "minorgridcolor": "white",
             "startlinecolor": "#2a3f5f"
            },
            "type": "carpet"
           }
          ],
          "choropleth": [
           {
            "colorbar": {
             "outlinewidth": 0,
             "ticks": ""
            },
            "type": "choropleth"
           }
          ],
          "contour": [
           {
            "colorbar": {
             "outlinewidth": 0,
             "ticks": ""
            },
            "colorscale": [
             [
              0,
              "#0d0887"
             ],
             [
              0.1111111111111111,
              "#46039f"
             ],
             [
              0.2222222222222222,
              "#7201a8"
             ],
             [
              0.3333333333333333,
              "#9c179e"
             ],
             [
              0.4444444444444444,
              "#bd3786"
             ],
             [
              0.5555555555555556,
              "#d8576b"
             ],
             [
              0.6666666666666666,
              "#ed7953"
             ],
             [
              0.7777777777777778,
              "#fb9f3a"
             ],
             [
              0.8888888888888888,
              "#fdca26"
             ],
             [
              1,
              "#f0f921"
             ]
            ],
            "type": "contour"
           }
          ],
          "contourcarpet": [
           {
            "colorbar": {
             "outlinewidth": 0,
             "ticks": ""
            },
            "type": "contourcarpet"
           }
          ],
          "heatmap": [
           {
            "colorbar": {
             "outlinewidth": 0,
             "ticks": ""
            },
            "colorscale": [
             [
              0,
              "#0d0887"
             ],
             [
              0.1111111111111111,
              "#46039f"
             ],
             [
              0.2222222222222222,
              "#7201a8"
             ],
             [
              0.3333333333333333,
              "#9c179e"
             ],
             [
              0.4444444444444444,
              "#bd3786"
             ],
             [
              0.5555555555555556,
              "#d8576b"
             ],
             [
              0.6666666666666666,
              "#ed7953"
             ],
             [
              0.7777777777777778,
              "#fb9f3a"
             ],
             [
              0.8888888888888888,
              "#fdca26"
             ],
             [
              1,
              "#f0f921"
             ]
            ],
            "type": "heatmap"
           }
          ],
          "heatmapgl": [
           {
            "colorbar": {
             "outlinewidth": 0,
             "ticks": ""
            },
            "colorscale": [
             [
              0,
              "#0d0887"
             ],
             [
              0.1111111111111111,
              "#46039f"
             ],
             [
              0.2222222222222222,
              "#7201a8"
             ],
             [
              0.3333333333333333,
              "#9c179e"
             ],
             [
              0.4444444444444444,
              "#bd3786"
             ],
             [
              0.5555555555555556,
              "#d8576b"
             ],
             [
              0.6666666666666666,
              "#ed7953"
             ],
             [
              0.7777777777777778,
              "#fb9f3a"
             ],
             [
              0.8888888888888888,
              "#fdca26"
             ],
             [
              1,
              "#f0f921"
             ]
            ],
            "type": "heatmapgl"
           }
          ],
          "histogram": [
           {
            "marker": {
             "pattern": {
              "fillmode": "overlay",
              "size": 10,
              "solidity": 0.2
             }
            },
            "type": "histogram"
           }
          ],
          "histogram2d": [
           {
            "colorbar": {
             "outlinewidth": 0,
             "ticks": ""
            },
            "colorscale": [
             [
              0,
              "#0d0887"
             ],
             [
              0.1111111111111111,
              "#46039f"
             ],
             [
              0.2222222222222222,
              "#7201a8"
             ],
             [
              0.3333333333333333,
              "#9c179e"
             ],
             [
              0.4444444444444444,
              "#bd3786"
             ],
             [
              0.5555555555555556,
              "#d8576b"
             ],
             [
              0.6666666666666666,
              "#ed7953"
             ],
             [
              0.7777777777777778,
              "#fb9f3a"
             ],
             [
              0.8888888888888888,
              "#fdca26"
             ],
             [
              1,
              "#f0f921"
             ]
            ],
            "type": "histogram2d"
           }
          ],
          "histogram2dcontour": [
           {
            "colorbar": {
             "outlinewidth": 0,
             "ticks": ""
            },
            "colorscale": [
             [
              0,
              "#0d0887"
             ],
             [
              0.1111111111111111,
              "#46039f"
             ],
             [
              0.2222222222222222,
              "#7201a8"
             ],
             [
              0.3333333333333333,
              "#9c179e"
             ],
             [
              0.4444444444444444,
              "#bd3786"
             ],
             [
              0.5555555555555556,
              "#d8576b"
             ],
             [
              0.6666666666666666,
              "#ed7953"
             ],
             [
              0.7777777777777778,
              "#fb9f3a"
             ],
             [
              0.8888888888888888,
              "#fdca26"
             ],
             [
              1,
              "#f0f921"
             ]
            ],
            "type": "histogram2dcontour"
           }
          ],
          "mesh3d": [
           {
            "colorbar": {
             "outlinewidth": 0,
             "ticks": ""
            },
            "type": "mesh3d"
           }
          ],
          "parcoords": [
           {
            "line": {
             "colorbar": {
              "outlinewidth": 0,
              "ticks": ""
             }
            },
            "type": "parcoords"
           }
          ],
          "pie": [
           {
            "automargin": true,
            "type": "pie"
           }
          ],
          "scatter": [
           {
            "fillpattern": {
             "fillmode": "overlay",
             "size": 10,
             "solidity": 0.2
            },
            "type": "scatter"
           }
          ],
          "scatter3d": [
           {
            "line": {
             "colorbar": {
              "outlinewidth": 0,
              "ticks": ""
             }
            },
            "marker": {
             "colorbar": {
              "outlinewidth": 0,
              "ticks": ""
             }
            },
            "type": "scatter3d"
           }
          ],
          "scattercarpet": [
           {
            "marker": {
             "colorbar": {
              "outlinewidth": 0,
              "ticks": ""
             }
            },
            "type": "scattercarpet"
           }
          ],
          "scattergeo": [
           {
            "marker": {
             "colorbar": {
              "outlinewidth": 0,
              "ticks": ""
             }
            },
            "type": "scattergeo"
           }
          ],
          "scattergl": [
           {
            "marker": {
             "colorbar": {
              "outlinewidth": 0,
              "ticks": ""
             }
            },
            "type": "scattergl"
           }
          ],
          "scattermapbox": [
           {
            "marker": {
             "colorbar": {
              "outlinewidth": 0,
              "ticks": ""
             }
            },
            "type": "scattermapbox"
           }
          ],
          "scatterpolar": [
           {
            "marker": {
             "colorbar": {
              "outlinewidth": 0,
              "ticks": ""
             }
            },
            "type": "scatterpolar"
           }
          ],
          "scatterpolargl": [
           {
            "marker": {
             "colorbar": {
              "outlinewidth": 0,
              "ticks": ""
             }
            },
            "type": "scatterpolargl"
           }
          ],
          "scatterternary": [
           {
            "marker": {
             "colorbar": {
              "outlinewidth": 0,
              "ticks": ""
             }
            },
            "type": "scatterternary"
           }
          ],
          "surface": [
           {
            "colorbar": {
             "outlinewidth": 0,
             "ticks": ""
            },
            "colorscale": [
             [
              0,
              "#0d0887"
             ],
             [
              0.1111111111111111,
              "#46039f"
             ],
             [
              0.2222222222222222,
              "#7201a8"
             ],
             [
              0.3333333333333333,
              "#9c179e"
             ],
             [
              0.4444444444444444,
              "#bd3786"
             ],
             [
              0.5555555555555556,
              "#d8576b"
             ],
             [
              0.6666666666666666,
              "#ed7953"
             ],
             [
              0.7777777777777778,
              "#fb9f3a"
             ],
             [
              0.8888888888888888,
              "#fdca26"
             ],
             [
              1,
              "#f0f921"
             ]
            ],
            "type": "surface"
           }
          ],
          "table": [
           {
            "cells": {
             "fill": {
              "color": "#EBF0F8"
             },
             "line": {
              "color": "white"
             }
            },
            "header": {
             "fill": {
              "color": "#C8D4E3"
             },
             "line": {
              "color": "white"
             }
            },
            "type": "table"
           }
          ]
         },
         "layout": {
          "annotationdefaults": {
           "arrowcolor": "#2a3f5f",
           "arrowhead": 0,
           "arrowwidth": 1
          },
          "autotypenumbers": "strict",
          "coloraxis": {
           "colorbar": {
            "outlinewidth": 0,
            "ticks": ""
           }
          },
          "colorscale": {
           "diverging": [
            [
             0,
             "#8e0152"
            ],
            [
             0.1,
             "#c51b7d"
            ],
            [
             0.2,
             "#de77ae"
            ],
            [
             0.3,
             "#f1b6da"
            ],
            [
             0.4,
             "#fde0ef"
            ],
            [
             0.5,
             "#f7f7f7"
            ],
            [
             0.6,
             "#e6f5d0"
            ],
            [
             0.7,
             "#b8e186"
            ],
            [
             0.8,
             "#7fbc41"
            ],
            [
             0.9,
             "#4d9221"
            ],
            [
             1,
             "#276419"
            ]
           ],
           "sequential": [
            [
             0,
             "#0d0887"
            ],
            [
             0.1111111111111111,
             "#46039f"
            ],
            [
             0.2222222222222222,
             "#7201a8"
            ],
            [
             0.3333333333333333,
             "#9c179e"
            ],
            [
             0.4444444444444444,
             "#bd3786"
            ],
            [
             0.5555555555555556,
             "#d8576b"
            ],
            [
             0.6666666666666666,
             "#ed7953"
            ],
            [
             0.7777777777777778,
             "#fb9f3a"
            ],
            [
             0.8888888888888888,
             "#fdca26"
            ],
            [
             1,
             "#f0f921"
            ]
           ],
           "sequentialminus": [
            [
             0,
             "#0d0887"
            ],
            [
             0.1111111111111111,
             "#46039f"
            ],
            [
             0.2222222222222222,
             "#7201a8"
            ],
            [
             0.3333333333333333,
             "#9c179e"
            ],
            [
             0.4444444444444444,
             "#bd3786"
            ],
            [
             0.5555555555555556,
             "#d8576b"
            ],
            [
             0.6666666666666666,
             "#ed7953"
            ],
            [
             0.7777777777777778,
             "#fb9f3a"
            ],
            [
             0.8888888888888888,
             "#fdca26"
            ],
            [
             1,
             "#f0f921"
            ]
           ]
          },
          "colorway": [
           "#636efa",
           "#EF553B",
           "#00cc96",
           "#ab63fa",
           "#FFA15A",
           "#19d3f3",
           "#FF6692",
           "#B6E880",
           "#FF97FF",
           "#FECB52"
          ],
          "font": {
           "color": "#2a3f5f"
          },
          "geo": {
           "bgcolor": "white",
           "lakecolor": "white",
           "landcolor": "#E5ECF6",
           "showlakes": true,
           "showland": true,
           "subunitcolor": "white"
          },
          "hoverlabel": {
           "align": "left"
          },
          "hovermode": "closest",
          "mapbox": {
           "style": "light"
          },
          "paper_bgcolor": "white",
          "plot_bgcolor": "#E5ECF6",
          "polar": {
           "angularaxis": {
            "gridcolor": "white",
            "linecolor": "white",
            "ticks": ""
           },
           "bgcolor": "#E5ECF6",
           "radialaxis": {
            "gridcolor": "white",
            "linecolor": "white",
            "ticks": ""
           }
          },
          "scene": {
           "xaxis": {
            "backgroundcolor": "#E5ECF6",
            "gridcolor": "white",
            "gridwidth": 2,
            "linecolor": "white",
            "showbackground": true,
            "ticks": "",
            "zerolinecolor": "white"
           },
           "yaxis": {
            "backgroundcolor": "#E5ECF6",
            "gridcolor": "white",
            "gridwidth": 2,
            "linecolor": "white",
            "showbackground": true,
            "ticks": "",
            "zerolinecolor": "white"
           },
           "zaxis": {
            "backgroundcolor": "#E5ECF6",
            "gridcolor": "white",
            "gridwidth": 2,
            "linecolor": "white",
            "showbackground": true,
            "ticks": "",
            "zerolinecolor": "white"
           }
          },
          "shapedefaults": {
           "line": {
            "color": "#2a3f5f"
           }
          },
          "ternary": {
           "aaxis": {
            "gridcolor": "white",
            "linecolor": "white",
            "ticks": ""
           },
           "baxis": {
            "gridcolor": "white",
            "linecolor": "white",
            "ticks": ""
           },
           "bgcolor": "#E5ECF6",
           "caxis": {
            "gridcolor": "white",
            "linecolor": "white",
            "ticks": ""
           }
          },
          "title": {
           "x": 0.05
          },
          "xaxis": {
           "automargin": true,
           "gridcolor": "white",
           "linecolor": "white",
           "ticks": "",
           "title": {
            "standoff": 15
           },
           "zerolinecolor": "white",
           "zerolinewidth": 2
          },
          "yaxis": {
           "automargin": true,
           "gridcolor": "white",
           "linecolor": "white",
           "ticks": "",
           "title": {
            "standoff": 15
           },
           "zerolinecolor": "white",
           "zerolinewidth": 2
          }
         }
        },
        "title": {
         "font": {
          "size": 16
         },
         "text": "Retrieval Augmented Generation - Evaluation for QwenMed 2"
        },
        "width": 700
       }
      },
      "image/png": "[encoded data removed]",
      "text/html": [
       "<div>                            <div id=\"ff84a4ca-7416-46e0-8d0a-7fb92ac87d7b\" class=\"plotly-graph-div\" style=\"height:500px; width:700px;\"></div>            <script type=\"text/javascript\">                require([\"plotly\"], function(Plotly) {                    window.PLOTLYENV=window.PLOTLYENV || {};                                    if (document.getElementById(\"ff84a4ca-7416-46e0-8d0a-7fb92ac87d7b\")) {                    Plotly.newPlot(                        \"ff84a4ca-7416-46e0-8d0a-7fb92ac87d7b\",                        [{\"fill\":\"toself\",\"line\":{\"color\":\"blue\",\"width\":2},\"marker\":{\"size\":8,\"symbol\":\"circle\"},\"name\":\"QwenMed Base\",\"r\":[0.9072998487547742,0.42857142857142855,0.5734478356912689,0.9676419092344825,1.0,0.48066914911866687,0.896913994331721,0.29411764705882354,0.6031239967632398,0.8993187453328554,0.3076923076923077,0.38063812964449517,0.9438605334011564,1.0,0.5948544930006809,0.9051191824977364,0.5,0.5244838018204188,0.9694212372718681,1.0,0.7248142331738552,0.898295825231228,1.0,0.5076751606657124,0.9315438177734023,0.5,0.5283444124013832,0.9366585700188481,0.1111111111111111,0.8280454842625051,0.8649815553670329,0.9130434782608695,0.3379374220992087,0.8693441221266746,1.0,0.7335861773565778,0.9349640820827488,1.0,0.4523888025465027,0.0,0.25,0.3686662367447865,0.9768213211552865,0.0,0.5811317596665976,0.8923895220584871,0.375,0.5214357992826542,0.9513941949486352,0.5714285714285714,0.7361130444974041,0.9377375143998842,0.15384615384615385,0.3113124291648127],\"theta\":[\"answer_relevancy\",\"faithfulness\",\"answer_correctness\"],\"type\":\"scatterpolar\"},{\"fill\":\"toself\",\"line\":{\"color\":\"red\",\"width\":2},\"marker\":{\"size\":8,\"symbol\":\"circle\"},\"name\":\"QwenMed Multi\",\"r\":[0.9253381423766895,0.3333333333333333,0.9916785455654504,0.0,0.7142857142857143,0.4201717337046171,0.8228816825700301,0.125,0.7006602197137654,0.9449788628880901,0.15789473684210525,0.4775900320915275,0.0,0.2727272727272727,0.4295154639176173,0.0,0.5,0.42662651413587593,0.8331597603292306,0.0,0.5457281328022896,0.9084644261057174,0.6111111111111112,0.3557329742997006,0.931571069937074,0.4,0.7247109951745889,0.8489904167598317,0.8,0.976319245498271,0.8754274540318755,0.0,0.42426437630227537,0.0,0.0,0.1955259608301556,0.9349640820827488,0.7142857142857143,0.48748511200865774,0.8623203244544414,0.3333333333333333,0.20266863686902992,0.9454743120661786,0.13333333333333333,0.39235574095035314,0.8656526060367943,0.7,0.3197198182481549,0.9442156568642893,0.6666666666666666,0.6219023172302045,0.9377375143998842,0.2222222222222222,0.3234108181107849],\"theta\":[\"answer_relevancy\",\"faithfulness\",\"answer_correctness\"],\"type\":\"scatterpolar\"},{\"fill\":\"toself\",\"line\":{\"color\":\"green\",\"width\":2},\"marker\":{\"size\":8,\"symbol\":\"circle\"},\"name\":\"QwenMed Ensemble\",\"r\":[0.9258671551877097,0.42857142857142855,0.8973075967203007,0.0,0.6363636363636364,0.38069682688398576,0.9019996176178126,0.4166666666666667,0.5933617317890579,0.8416401641150042,0.05555555555555555,0.34615725079413945,0.0,1.0,0.3625537726943189,0.0,0.5,0.20388684429053727,0.0,0.6521739130434783,0.34354334806835285,0.7965081325443943,0.7272727272727273,0.47263997099179195,0.8553131543506831,0.625,0.5180182460064982,0.9153097109083341,0.25,0.9878695615964627,0.9065212759402391,0.3333333333333333,0.442991276568941,0.8693441221266746,0.375,0.5154248817324675,0.0,0.2857142857142857,0.46924508033684503,0.9012770826414106,0.5833333333333334,0.5456292875108637,0.9170258470256515,0.16666666666666666,0.7373894296447716,0.8772971393588378,0.3,0.43959131294092624,0.8999723336221134,0.3333333333333333,0.7500765844147066,0.9060889186456285,0.8333333333333334,0.6983725212419375],\"theta\":[\"answer_relevancy\",\"faithfulness\",\"answer_correctness\"],\"type\":\"scatterpolar\"}],                        {\"template\":{\"data\":{\"histogram2dcontour\":[{\"type\":\"histogram2dcontour\",\"colorbar\":{\"outlinewidth\":0,\"ticks\":\"\"},\"colorscale\":[[0.0,\"#0d0887\"],[0.1111111111111111,\"#46039f\"],[0.2222222222222222,\"#7201a8\"],[0.3333333333333333,\"#9c179e\"],[0.4444444444444444,\"#bd3786\"],[0.5555555555555556,\"#d8576b\"],[0.6666666666666666,\"#ed7953\"],[0.7777777777777778,\"#fb9f3a\"],[0.8888888888888888,\"#fdca26\"],[1.0,\"#f0f921\"]]}],\"choropleth\":[{\"type\":\"choropleth\",\"colorbar\":{\"outlinewidth\":0,\"ticks\":\"\"}}],\"histogram2d\":[{\"type\":\"histogram2d\",\"colorbar\":{\"outlinewidth\":0,\"ticks\":\"\"},\"colorscale\":[[0.0,\"#0d0887\"],[0.1111111111111111,\"#46039f\"],[0.2222222222222222,\"#7201a8\"],[0.3333333333333333,\"#9c179e\"],[0.4444444444444444,\"#bd3786\"],[0.5555555555555556,\"#d8576b\"],[0.6666666666666666,\"#ed7953\"],[0.7777777777777778,\"#fb9f3a\"],[0.8888888888888888,\"#fdca26\"],[1.0,\"#f0f921\"]]}],\"heatmap\":[{\"type\":\"heatmap\",\"colorbar\":{\"outlinewidth\":0,\"ticks\":\"\"},\"colorscale\":[[0.0,\"#0d0887\"],[0.1111111111111111,\"#46039f\"],[0.2222222222222222,\"#7201a8\"],[0.3333333333333333,\"#9c179e\"],[0.4444444444444444,\"#bd3786\"],[0.5555555555555556,\"#d8576b\"],[0.6666666666666666,\"#ed7953\"],[0.7777777777777778,\"#fb9f3a\"],[0.8888888888888888,\"#fdca26\"],[1.0,\"#f0f921\"]]}],\"heatmapgl\":[{\"type\":\"heatmapgl\",\"colorbar\":{\"outlinewidth\":0,\"ticks\":\"\"},\"colorscale\":[[0.0,\"#0d0887\"],[0.1111111111111111,\"#46039f\"],[0.2222222222222222,\"#7201a8\"],[0.3333333333333333,\"#9c179e\"],[0.4444444444444444,\"#bd3786\"],[0.5555555555555556,\"#d8576b\"],[0.6666666666666666,\"#ed7953\"],[0.7777777777777778,\"#fb9f3a\"],[0.8888888888888888,\"#fdca26\"],[1.0,\"#f0f921\"]]}],\"contourcarpet\":[{\"type\":\"contourcarpet\",\"colorbar\":{\"outlinewidth\":0,\"ticks\":\"\"}}],\"contour\":[{\"type\":\"contour\",\"colorbar\":{\"outlinewidth\":0,\"ticks\":\"\"},\"colorscale\":[[0.0,\"#0d0887\"],[0.1111111111111111,\"#46039f\"],[0.2222222222222222,\"#7201a8\"],[0.3333333333333333,\"#9c179e\"],[0.4444444444444444,\"#bd3786\"],[0.5555555555555556,\"#d8576b\"],[0.6666666666666666,\"#ed7953\"],[0.7777777777777778,\"#fb9f3a\"],[0.8888888888888888,\"#fdca26\"],[1.0,\"#f0f921\"]]}],\"surface\":[{\"type\":\"surface\",\"colorbar\":{\"outlinewidth\":0,\"ticks\":\"\"},\"colorscale\":[[0.0,\"#0d0887\"],[0.1111111111111111,\"#46039f\"],[0.2222222222222222,\"#7201a8\"],[0.3333333333333333,\"#9c179e\"],[0.4444444444444444,\"#bd3786\"],[0.5555555555555556,\"#d8576b\"],[0.6666666666666666,\"#ed7953\"],[0.7777777777777778,\"#fb9f3a\"],[0.8888888888888888,\"#fdca26\"],[1.0,\"#f0f921\"]]}],\"mesh3d\":[{\"type\":\"mesh3d\",\"colorbar\":{\"outlinewidth\":0,\"ticks\":\"\"}}],\"scatter\":[{\"fillpattern\":{\"fillmode\":\"overlay\",\"size\":10,\"solidity\":0.2},\"type\":\"scatter\"}],\"parcoords\":[{\"type\":\"parcoords\",\"line\":{\"colorbar\":{\"outlinewidth\":0,\"ticks\":\"\"}}}],\"scatterpolargl\":[{\"type\":\"scatterpolargl\",\"marker\":{\"colorbar\":{\"outlinewidth\":0,\"ticks\":\"\"}}}],\"bar\":[{\"error_x\":{\"color\":\"#2a3f5f\"},\"error_y\":{\"color\":\"#2a3f5f\"},\"marker\":{\"line\":{\"color\":\"#E5ECF6\",\"width\":0.5},\"pattern\":{\"fillmode\":\"overlay\",\"size\":10,\"solidity\":0.2}},\"type\":\"bar\"}],\"scattergeo\":[{\"type\":\"scattergeo\",\"marker\":{\"colorbar\":{\"outlinewidth\":0,\"ticks\":\"\"}}}],\"scatterpolar\":[{\"type\":\"scatterpolar\",\"marker\":{\"colorbar\":{\"outlinewidth\":0,\"ticks\":\"\"}}}],\"histogram\":[{\"marker\":{\"pattern\":{\"fillmode\":\"overlay\",\"size\":10,\"solidity\":0.2}},\"type\":\"histogram\"}],\"scattergl\":[{\"type\":\"scattergl\",\"marker\":{\"colorbar\":{\"outlinewidth\":0,\"ticks\":\"\"}}}],\"scatter3d\":[{\"type\":\"scatter3d\",\"line\":{\"colorbar\":{\"outlinewidth\":0,\"ticks\":\"\"}},\"marker\":{\"colorbar\":{\"outlinewidth\":0,\"ticks\":\"\"}}}],\"scattermapbox\":[{\"type\":\"scattermapbox\",\"marker\":{\"colorbar\":{\"outlinewidth\":0,\"ticks\":\"\"}}}],\"scatterternary\":[{\"type\":\"scatterternary\",\"marker\":{\"colorbar\":{\"outlinewidth\":0,\"ticks\":\"\"}}}],\"scattercarpet\":[{\"type\":\"scattercarpet\",\"marker\":{\"colorbar\":{\"outlinewidth\":0,\"ticks\":\"\"}}}],\"carpet\":[{\"aaxis\":{\"endlinecolor\":\"#2a3f5f\",\"gridcolor\":\"white\",\"linecolor\":\"white\",\"minorgridcolor\":\"white\",\"startlinecolor\":\"#2a3f5f\"},\"baxis\":{\"endlinecolor\":\"#2a3f5f\",\"gridcolor\":\"white\",\"linecolor\":\"white\",\"minorgridcolor\":\"white\",\"startlinecolor\":\"#2a3f5f\"},\"type\":\"carpet\"}],\"table\":[{\"cells\":{\"fill\":{\"color\":\"#EBF0F8\"},\"line\":{\"color\":\"white\"}},\"header\":{\"fill\":{\"color\":\"#C8D4E3\"},\"line\":{\"color\":\"white\"}},\"type\":\"table\"}],\"barpolar\":[{\"marker\":{\"line\":{\"color\":\"#E5ECF6\",\"width\":0.5},\"pattern\":{\"fillmode\":\"overlay\",\"size\":10,\"solidity\":0.2}},\"type\":\"barpolar\"}],\"pie\":[{\"automargin\":true,\"type\":\"pie\"}]},\"layout\":{\"autotypenumbers\":\"strict\",\"colorway\":[\"#636efa\",\"#EF553B\",\"#00cc96\",\"#ab63fa\",\"#FFA15A\",\"#19d3f3\",\"#FF6692\",\"#B6E880\",\"#FF97FF\",\"#FECB52\"],\"font\":{\"color\":\"#2a3f5f\"},\"hovermode\":\"closest\",\"hoverlabel\":{\"align\":\"left\"},\"paper_bgcolor\":\"white\",\"plot_bgcolor\":\"#E5ECF6\",\"polar\":{\"bgcolor\":\"#E5ECF6\",\"angularaxis\":{\"gridcolor\":\"white\",\"linecolor\":\"white\",\"ticks\":\"\"},\"radialaxis\":{\"gridcolor\":\"white\",\"linecolor\":\"white\",\"ticks\":\"\"}},\"ternary\":{\"bgcolor\":\"#E5ECF6\",\"aaxis\":{\"gridcolor\":\"white\",\"linecolor\":\"white\",\"ticks\":\"\"},\"baxis\":{\"gridcolor\":\"white\",\"linecolor\":\"white\",\"ticks\":\"\"},\"caxis\":{\"gridcolor\":\"white\",\"linecolor\":\"white\",\"ticks\":\"\"}},\"coloraxis\":{\"colorbar\":{\"outlinewidth\":0,\"ticks\":\"\"}},\"colorscale\":{\"sequential\":[[0.0,\"#0d0887\"],[0.1111111111111111,\"#46039f\"],[0.2222222222222222,\"#7201a8\"],[0.3333333333333333,\"#9c179e\"],[0.4444444444444444,\"#bd3786\"],[0.5555555555555556,\"#d8576b\"],[0.6666666666666666,\"#ed7953\"],[0.7777777777777778,\"#fb9f3a\"],[0.8888888888888888,\"#fdca26\"],[1.0,\"#f0f921\"]],\"sequentialminus\":[[0.0,\"#0d0887\"],[0.1111111111111111,\"#46039f\"],[0.2222222222222222,\"#7201a8\"],[0.3333333333333333,\"#9c179e\"],[0.4444444444444444,\"#bd3786\"],[0.5555555555555556,\"#d8576b\"],[0.6666666666666666,\"#ed7953\"],[0.7777777777777778,\"#fb9f3a\"],[0.8888888888888888,\"#fdca26\"],[1.0,\"#f0f921\"]],\"diverging\":[[0,\"#8e0152\"],[0.1,\"#c51b7d\"],[0.2,\"#de77ae\"],[0.3,\"#f1b6da\"],[0.4,\"#fde0ef\"],[0.5,\"#f7f7f7\"],[0.6,\"#e6f5d0\"],[0.7,\"#b8e186\"],[0.8,\"#7fbc41\"],[0.9,\"#4d9221\"],[1,\"#276419\"]]},\"xaxis\":{\"gridcolor\":\"white\",\"linecolor\":\"white\",\"ticks\":\"\",\"title\":{\"standoff\":15},\"zerolinecolor\":\"white\",\"automargin\":true,\"zerolinewidth\":2},\"yaxis\":{\"gridcolor\":\"white\",\"linecolor\":\"white\",\"ticks\":\"\",\"title\":{\"standoff\":15},\"zerolinecolor\":\"white\",\"automargin\":true,\"zerolinewidth\":2},\"scene\":{\"xaxis\":{\"backgroundcolor\":\"#E5ECF6\",\"gridcolor\":\"white\",\"linecolor\":\"white\",\"showbackground\":true,\"ticks\":\"\",\"zerolinecolor\":\"white\",\"gridwidth\":2},\"yaxis\":{\"backgroundcolor\":\"#E5ECF6\",\"gridcolor\":\"white\",\"linecolor\":\"white\",\"showbackground\":true,\"ticks\":\"\",\"zerolinecolor\":\"white\",\"gridwidth\":2},\"zaxis\":{\"backgroundcolor\":\"#E5ECF6\",\"gridcolor\":\"white\",\"linecolor\":\"white\",\"showbackground\":true,\"ticks\":\"\",\"zerolinecolor\":\"white\",\"gridwidth\":2}},\"shapedefaults\":{\"line\":{\"color\":\"#2a3f5f\"}},\"annotationdefaults\":{\"arrowcolor\":\"#2a3f5f\",\"arrowhead\":0,\"arrowwidth\":1},\"geo\":{\"bgcolor\":\"white\",\"landcolor\":\"#E5ECF6\",\"subunitcolor\":\"white\",\"showland\":true,\"showlakes\":true,\"lakecolor\":\"white\"},\"title\":{\"x\":0.05},\"mapbox\":{\"style\":\"light\"}}},\"polar\":{\"radialaxis\":{\"visible\":true,\"range\":[0,1],\"tickvals\":[0.2,0.4,0.6,0.8],\"ticktext\":[\"20%\",\"40%\",\"60%\",\"80%\"]},\"angularaxis\":{\"tickfont\":{\"size\":12}}},\"legend\":{\"font\":{\"size\":12}},\"title\":{\"font\":{\"size\":16},\"text\":\"Retrieval Augmented Generation - Evaluation for QwenMed 2\"},\"showlegend\":true,\"width\":700,\"height\":500},                        {\"responsive\": true}                    ).then(function(){\n",
       "                            \n",
       "var gd = document.getElementById('ff84a4ca-7416-46e0-8d0a-7fb92ac87d7b');\n",
       "var x = new MutationObserver(function (mutations, observer) {{\n",
       "        var display = window.getComputedStyle(gd).display;\n",
       "        if (!display || display === 'none') {{\n",
       "            console.log([gd, 'removed!']);\n",
       "            Plotly.purge(gd);\n",
       "            observer.disconnect();\n",
       "        }}\n",
       "}});\n",
       "\n",
       "// Listen for the removal of the full notebook cells\n",
       "var notebookContainer = gd.closest('#notebook-container');\n",
       "if (notebookContainer) {{\n",
       "    x.observe(notebookContainer, {childList: true});\n",
       "}}\n",
       "\n",
       "// Listen for the clearing of the current output cell\n",
       "var outputEl = gd.closest('.output');\n",
       "if (outputEl) {{\n",
       "    x.observe(outputEl, {childList: true});\n",
       "}}\n",
       "\n",
       "                        })                };                });            </script>        </div>"
      ]
     },
     "metadata": {},
     "output_type": "display_data"
    }
   ],
   "source": [
    "import plotly.graph_objects as go\n",
    "\n",
    "metrics = ['answer_relevancy', 'faithfulness', 'answer_correctness']\n",
    "\n",
    "fig = go.Figure()\n",
    "\n",
    "for data, name, color in zip([QwenMedBase, QwenMedMulti, QwenMedEnsemble],\n",
    "                             ['QwenMed Base', 'QwenMed Multi', 'QwenMed Ensemble'],\n",
    "                             ['blue', 'red', 'green']):\n",
    "    fig.add_trace(go.Scatterpolar(\n",
    "        r=data[metrics].values.flatten(),\n",
    "        theta=metrics,\n",
    "        fill='toself',\n",
    "        name=name,\n",
    "        line=dict(color=color, width=2),\n",
    "        marker=dict(size=8, symbol='circle')\n",
    "    ))\n",
    "\n",
    "fig.update_layout(\n",
    "    polar=dict(\n",
    "        radialaxis=dict(\n",
    "            visible=True,\n",
    "            range=[0, 1],\n",
    "            tickvals=[0.2, 0.4, 0.6, 0.8],\n",
    "            ticktext=['20%', '40%', '60%', '80%']\n",
    "        ),\n",
    "        angularaxis=dict(\n",
    "            tickfont=dict(size=12)\n",
    "        )\n",
    "    ),\n",
    "    showlegend=True,\n",
    "    legend=dict(font=dict(size=12)),\n",
    "    title=dict(\n",
    "        text=\"Retrieval Augmented Generation - Evaluation for QwenMed 2\",\n",
    "        font=dict(size=16)\n",
    "    ),\n",
    "    width=700,\n",
    "    height=500\n",
    ")\n",
    "\n",
    "fig.show()"
   ]
  },
  {
   "cell_type": "code",
   "execution_count": 191,
   "metadata": {
    "tags": []
   },
   "outputs": [
    {
     "data": {
      "application/vnd.plotly.v1+json": {
       "config": {
        "plotlyServerURL": "https://plot.ly"
       },
       "data": [
        {
         "marker": {
          "color": "blue"
         },
         "name": "QwenMed Base",
         "showlegend": true,
         "type": "bar",
         "x": [
          "QwenMed Base"
         ],
         "xaxis": "x",
         "y": [
          0.9072998487547742
         ],
         "yaxis": "y"
        },
        {
         "marker": {
          "color": "red"
         },
         "name": "QwenMed Multi",
         "showlegend": true,
         "type": "bar",
         "x": [
          "QwenMed Multi"
         ],
         "xaxis": "x",
         "y": [
          0.9253381423766895
         ],
         "yaxis": "y"
        },
        {
         "marker": {
          "color": "green"
         },
         "name": "QwenMed Ensemble",
         "showlegend": true,
         "type": "bar",
         "x": [
          "QwenMed Ensemble"
         ],
         "xaxis": "x",
         "y": [
          0.9258671551877097
         ],
         "yaxis": "y"
        },
        {
         "marker": {
          "color": "blue"
         },
         "name": "QwenMed Base",
         "showlegend": false,
         "type": "bar",
         "x": [
          "QwenMed Base"
         ],
         "xaxis": "x2",
         "y": [
          0.42857142857142855
         ],
         "yaxis": "y2"
        },
        {
         "marker": {
          "color": "red"
         },
         "name": "QwenMed Multi",
         "showlegend": false,
         "type": "bar",
         "x": [
          "QwenMed Multi"
         ],
         "xaxis": "x2",
         "y": [
          0.3333333333333333
         ],
         "yaxis": "y2"
        },
        {
         "marker": {
          "color": "green"
         },
         "name": "QwenMed Ensemble",
         "showlegend": false,
         "type": "bar",
         "x": [
          "QwenMed Ensemble"
         ],
         "xaxis": "x2",
         "y": [
          0.42857142857142855
         ],
         "yaxis": "y2"
        },
        {
         "marker": {
          "color": "blue"
         },
         "name": "QwenMed Base",
         "showlegend": false,
         "type": "bar",
         "x": [
          "QwenMed Base"
         ],
         "xaxis": "x3",
         "y": [
          0.5734478356912689
         ],
         "yaxis": "y3"
        },
        {
         "marker": {
          "color": "red"
         },
         "name": "QwenMed Multi",
         "showlegend": false,
         "type": "bar",
         "x": [
          "QwenMed Multi"
         ],
         "xaxis": "x3",
         "y": [
          0.9916785455654504
         ],
         "yaxis": "y3"
        },
        {
         "marker": {
          "color": "green"
         },
         "name": "QwenMed Ensemble",
         "showlegend": false,
         "type": "bar",
         "x": [
          "QwenMed Ensemble"
         ],
         "xaxis": "x3",
         "y": [
          0.8973075967203007
         ],
         "yaxis": "y3"
        }
       ],
       "layout": {
        "annotations": [
         {
          "font": {
           "size": 16
          },
          "showarrow": false,
          "text": "answer_relevancy",
          "x": 0.14444444444444446,
          "xanchor": "center",
          "xref": "paper",
          "y": 1,
          "yanchor": "bottom",
          "yref": "paper"
         },
         {
          "font": {
           "size": 16
          },
          "showarrow": false,
          "text": "faithfulness",
          "x": 0.5,
          "xanchor": "center",
          "xref": "paper",
          "y": 1,
          "yanchor": "bottom",
          "yref": "paper"
         },
         {
          "font": {
           "size": 16
          },
          "showarrow": false,
          "text": "answer_correctness",
          "x": 0.8555555555555556,
          "xanchor": "center",
          "xref": "paper",
          "y": 1,
          "yanchor": "bottom",
          "yref": "paper"
         }
        ],
        "barmode": "group",
        "height": 500,
        "template": {
         "data": {
          "bar": [
           {
            "error_x": {
             "color": "#2a3f5f"
            },
            "error_y": {
             "color": "#2a3f5f"
            },
            "marker": {
             "line": {
              "color": "#E5ECF6",
              "width": 0.5
             },
             "pattern": {
              "fillmode": "overlay",
              "size": 10,
              "solidity": 0.2
             }
            },
            "type": "bar"
           }
          ],
          "barpolar": [
           {
            "marker": {
             "line": {
              "color": "#E5ECF6",
              "width": 0.5
             },
             "pattern": {
              "fillmode": "overlay",
              "size": 10,
              "solidity": 0.2
             }
            },
            "type": "barpolar"
           }
          ],
          "carpet": [
           {
            "aaxis": {
             "endlinecolor": "#2a3f5f",
             "gridcolor": "white",
             "linecolor": "white",
             "minorgridcolor": "white",
             "startlinecolor": "#2a3f5f"
            },
            "baxis": {
             "endlinecolor": "#2a3f5f",
             "gridcolor": "white",
             "linecolor": "white",
             "minorgridcolor": "white",
             "startlinecolor": "#2a3f5f"
            },
            "type": "carpet"
           }
          ],
          "choropleth": [
           {
            "colorbar": {
             "outlinewidth": 0,
             "ticks": ""
            },
            "type": "choropleth"
           }
          ],
          "contour": [
           {
            "colorbar": {
             "outlinewidth": 0,
             "ticks": ""
            },
            "colorscale": [
             [
              0,
              "#0d0887"
             ],
             [
              0.1111111111111111,
              "#46039f"
             ],
             [
              0.2222222222222222,
              "#7201a8"
             ],
             [
              0.3333333333333333,
              "#9c179e"
             ],
             [
              0.4444444444444444,
              "#bd3786"
             ],
             [
              0.5555555555555556,
              "#d8576b"
             ],
             [
              0.6666666666666666,
              "#ed7953"
             ],
             [
              0.7777777777777778,
              "#fb9f3a"
             ],
             [
              0.8888888888888888,
              "#fdca26"
             ],
             [
              1,
              "#f0f921"
             ]
            ],
            "type": "contour"
           }
          ],
          "contourcarpet": [
           {
            "colorbar": {
             "outlinewidth": 0,
             "ticks": ""
            },
            "type": "contourcarpet"
           }
          ],
          "heatmap": [
           {
            "colorbar": {
             "outlinewidth": 0,
             "ticks": ""
            },
            "colorscale": [
             [
              0,
              "#0d0887"
             ],
             [
              0.1111111111111111,
              "#46039f"
             ],
             [
              0.2222222222222222,
              "#7201a8"
             ],
             [
              0.3333333333333333,
              "#9c179e"
             ],
             [
              0.4444444444444444,
              "#bd3786"
             ],
             [
              0.5555555555555556,
              "#d8576b"
             ],
             [
              0.6666666666666666,
              "#ed7953"
             ],
             [
              0.7777777777777778,
              "#fb9f3a"
             ],
             [
              0.8888888888888888,
              "#fdca26"
             ],
             [
              1,
              "#f0f921"
             ]
            ],
            "type": "heatmap"
           }
          ],
          "heatmapgl": [
           {
            "colorbar": {
             "outlinewidth": 0,
             "ticks": ""
            },
            "colorscale": [
             [
              0,
              "#0d0887"
             ],
             [
              0.1111111111111111,
              "#46039f"
             ],
             [
              0.2222222222222222,
              "#7201a8"
             ],
             [
              0.3333333333333333,
              "#9c179e"
             ],
             [
              0.4444444444444444,
              "#bd3786"
             ],
             [
              0.5555555555555556,
              "#d8576b"
             ],
             [
              0.6666666666666666,
              "#ed7953"
             ],
             [
              0.7777777777777778,
              "#fb9f3a"
             ],
             [
              0.8888888888888888,
              "#fdca26"
             ],
             [
              1,
              "#f0f921"
             ]
            ],
            "type": "heatmapgl"
           }
          ],
          "histogram": [
           {
            "marker": {
             "pattern": {
              "fillmode": "overlay",
              "size": 10,
              "solidity": 0.2
             }
            },
            "type": "histogram"
           }
          ],
          "histogram2d": [
           {
            "colorbar": {
             "outlinewidth": 0,
             "ticks": ""
            },
            "colorscale": [
             [
              0,
              "#0d0887"
             ],
             [
              0.1111111111111111,
              "#46039f"
             ],
             [
              0.2222222222222222,
              "#7201a8"
             ],
             [
              0.3333333333333333,
              "#9c179e"
             ],
             [
              0.4444444444444444,
              "#bd3786"
             ],
             [
              0.5555555555555556,
              "#d8576b"
             ],
             [
              0.6666666666666666,
              "#ed7953"
             ],
             [
              0.7777777777777778,
              "#fb9f3a"
             ],
             [
              0.8888888888888888,
              "#fdca26"
             ],
             [
              1,
              "#f0f921"
             ]
            ],
            "type": "histogram2d"
           }
          ],
          "histogram2dcontour": [
           {
            "colorbar": {
             "outlinewidth": 0,
             "ticks": ""
            },
            "colorscale": [
             [
              0,
              "#0d0887"
             ],
             [
              0.1111111111111111,
              "#46039f"
             ],
             [
              0.2222222222222222,
              "#7201a8"
             ],
             [
              0.3333333333333333,
              "#9c179e"
             ],
             [
              0.4444444444444444,
              "#bd3786"
             ],
             [
              0.5555555555555556,
              "#d8576b"
             ],
             [
              0.6666666666666666,
              "#ed7953"
             ],
             [
              0.7777777777777778,
              "#fb9f3a"
             ],
             [
              0.8888888888888888,
              "#fdca26"
             ],
             [
              1,
              "#f0f921"
             ]
            ],
            "type": "histogram2dcontour"
           }
          ],
          "mesh3d": [
           {
            "colorbar": {
             "outlinewidth": 0,
             "ticks": ""
            },
            "type": "mesh3d"
           }
          ],
          "parcoords": [
           {
            "line": {
             "colorbar": {
              "outlinewidth": 0,
              "ticks": ""
             }
            },
            "type": "parcoords"
           }
          ],
          "pie": [
           {
            "automargin": true,
            "type": "pie"
           }
          ],
          "scatter": [
           {
            "fillpattern": {
             "fillmode": "overlay",
             "size": 10,
             "solidity": 0.2
            },
            "type": "scatter"
           }
          ],
          "scatter3d": [
           {
            "line": {
             "colorbar": {
              "outlinewidth": 0,
              "ticks": ""
             }
            },
            "marker": {
             "colorbar": {
              "outlinewidth": 0,
              "ticks": ""
             }
            },
            "type": "scatter3d"
           }
          ],
          "scattercarpet": [
           {
            "marker": {
             "colorbar": {
              "outlinewidth": 0,
              "ticks": ""
             }
            },
            "type": "scattercarpet"
           }
          ],
          "scattergeo": [
           {
            "marker": {
             "colorbar": {
              "outlinewidth": 0,
              "ticks": ""
             }
            },
            "type": "scattergeo"
           }
          ],
          "scattergl": [
           {
            "marker": {
             "colorbar": {
              "outlinewidth": 0,
              "ticks": ""
             }
            },
            "type": "scattergl"
           }
          ],
          "scattermapbox": [
           {
            "marker": {
             "colorbar": {
              "outlinewidth": 0,
              "ticks": ""
             }
            },
            "type": "scattermapbox"
           }
          ],
          "scatterpolar": [
           {
            "marker": {
             "colorbar": {
              "outlinewidth": 0,
              "ticks": ""
             }
            },
            "type": "scatterpolar"
           }
          ],
          "scatterpolargl": [
           {
            "marker": {
             "colorbar": {
              "outlinewidth": 0,
              "ticks": ""
             }
            },
            "type": "scatterpolargl"
           }
          ],
          "scatterternary": [
           {
            "marker": {
             "colorbar": {
              "outlinewidth": 0,
              "ticks": ""
             }
            },
            "type": "scatterternary"
           }
          ],
          "surface": [
           {
            "colorbar": {
             "outlinewidth": 0,
             "ticks": ""
            },
            "colorscale": [
             [
              0,
              "#0d0887"
             ],
             [
              0.1111111111111111,
              "#46039f"
             ],
             [
              0.2222222222222222,
              "#7201a8"
             ],
             [
              0.3333333333333333,
              "#9c179e"
             ],
             [
              0.4444444444444444,
              "#bd3786"
             ],
             [
              0.5555555555555556,
              "#d8576b"
             ],
             [
              0.6666666666666666,
              "#ed7953"
             ],
             [
              0.7777777777777778,
              "#fb9f3a"
             ],
             [
              0.8888888888888888,
              "#fdca26"
             ],
             [
              1,
              "#f0f921"
             ]
            ],
            "type": "surface"
           }
          ],
          "table": [
           {
            "cells": {
             "fill": {
              "color": "#EBF0F8"
             },
             "line": {
              "color": "white"
             }
            },
            "header": {
             "fill": {
              "color": "#C8D4E3"
             },
             "line": {
              "color": "white"
             }
            },
            "type": "table"
           }
          ]
         },
         "layout": {
          "annotationdefaults": {
           "arrowcolor": "#2a3f5f",
           "arrowhead": 0,
           "arrowwidth": 1
          },
          "autotypenumbers": "strict",
          "coloraxis": {
           "colorbar": {
            "outlinewidth": 0,
            "ticks": ""
           }
          },
          "colorscale": {
           "diverging": [
            [
             0,
             "#8e0152"
            ],
            [
             0.1,
             "#c51b7d"
            ],
            [
             0.2,
             "#de77ae"
            ],
            [
             0.3,
             "#f1b6da"
            ],
            [
             0.4,
             "#fde0ef"
            ],
            [
             0.5,
             "#f7f7f7"
            ],
            [
             0.6,
             "#e6f5d0"
            ],
            [
             0.7,
             "#b8e186"
            ],
            [
             0.8,
             "#7fbc41"
            ],
            [
             0.9,
             "#4d9221"
            ],
            [
             1,
             "#276419"
            ]
           ],
           "sequential": [
            [
             0,
             "#0d0887"
            ],
            [
             0.1111111111111111,
             "#46039f"
            ],
            [
             0.2222222222222222,
             "#7201a8"
            ],
            [
             0.3333333333333333,
             "#9c179e"
            ],
            [
             0.4444444444444444,
             "#bd3786"
            ],
            [
             0.5555555555555556,
             "#d8576b"
            ],
            [
             0.6666666666666666,
             "#ed7953"
            ],
            [
             0.7777777777777778,
             "#fb9f3a"
            ],
            [
             0.8888888888888888,
             "#fdca26"
            ],
            [
             1,
             "#f0f921"
            ]
           ],
           "sequentialminus": [
            [
             0,
             "#0d0887"
            ],
            [
             0.1111111111111111,
             "#46039f"
            ],
            [
             0.2222222222222222,
             "#7201a8"
            ],
            [
             0.3333333333333333,
             "#9c179e"
            ],
            [
             0.4444444444444444,
             "#bd3786"
            ],
            [
             0.5555555555555556,
             "#d8576b"
            ],
            [
             0.6666666666666666,
             "#ed7953"
            ],
            [
             0.7777777777777778,
             "#fb9f3a"
            ],
            [
             0.8888888888888888,
             "#fdca26"
            ],
            [
             1,
             "#f0f921"
            ]
           ]
          },
          "colorway": [
           "#636efa",
           "#EF553B",
           "#00cc96",
           "#ab63fa",
           "#FFA15A",
           "#19d3f3",
           "#FF6692",
           "#B6E880",
           "#FF97FF",
           "#FECB52"
          ],
          "font": {
           "color": "#2a3f5f"
          },
          "geo": {
           "bgcolor": "white",
           "lakecolor": "white",
           "landcolor": "#E5ECF6",
           "showlakes": true,
           "showland": true,
           "subunitcolor": "white"
          },
          "hoverlabel": {
           "align": "left"
          },
          "hovermode": "closest",
          "mapbox": {
           "style": "light"
          },
          "paper_bgcolor": "white",
          "plot_bgcolor": "#E5ECF6",
          "polar": {
           "angularaxis": {
            "gridcolor": "white",
            "linecolor": "white",
            "ticks": ""
           },
           "bgcolor": "#E5ECF6",
           "radialaxis": {
            "gridcolor": "white",
            "linecolor": "white",
            "ticks": ""
           }
          },
          "scene": {
           "xaxis": {
            "backgroundcolor": "#E5ECF6",
            "gridcolor": "white",
            "gridwidth": 2,
            "linecolor": "white",
            "showbackground": true,
            "ticks": "",
            "zerolinecolor": "white"
           },
           "yaxis": {
            "backgroundcolor": "#E5ECF6",
            "gridcolor": "white",
            "gridwidth": 2,
            "linecolor": "white",
            "showbackground": true,
            "ticks": "",
            "zerolinecolor": "white"
           },
           "zaxis": {
            "backgroundcolor": "#E5ECF6",
            "gridcolor": "white",
            "gridwidth": 2,
            "linecolor": "white",
            "showbackground": true,
            "ticks": "",
            "zerolinecolor": "white"
           }
          },
          "shapedefaults": {
           "line": {
            "color": "#2a3f5f"
           }
          },
          "ternary": {
           "aaxis": {
            "gridcolor": "white",
            "linecolor": "white",
            "ticks": ""
           },
           "baxis": {
            "gridcolor": "white",
            "linecolor": "white",
            "ticks": ""
           },
           "bgcolor": "#E5ECF6",
           "caxis": {
            "gridcolor": "white",
            "linecolor": "white",
            "ticks": ""
           }
          },
          "title": {
           "x": 0.05
          },
          "xaxis": {
           "automargin": true,
           "gridcolor": "white",
           "linecolor": "white",
           "ticks": "",
           "title": {
            "standoff": 15
           },
           "zerolinecolor": "white",
           "zerolinewidth": 2
          },
          "yaxis": {
           "automargin": true,
           "gridcolor": "white",
           "linecolor": "white",
           "ticks": "",
           "title": {
            "standoff": 15
           },
           "zerolinecolor": "white",
           "zerolinewidth": 2
          }
         }
        },
        "title": {
         "font": {
          "size": 16
         },
         "text": "Retrieval Augmented Generation - Evaluation for QwenMed 2"
        },
        "width": 900,
        "xaxis": {
         "anchor": "y",
         "autorange": true,
         "domain": [
          0,
          0.2888888888888889
         ],
         "range": [
          -0.5,
          2.5
         ],
         "type": "category"
        },
        "xaxis2": {
         "anchor": "y2",
         "autorange": true,
         "domain": [
          0.35555555555555557,
          0.6444444444444445
         ],
         "range": [
          -0.5,
          2.5
         ],
         "type": "category"
        },
        "xaxis3": {
         "anchor": "y3",
         "autorange": true,
         "domain": [
          0.7111111111111111,
          1
         ],
         "range": [
          -0.5,
          2.5
         ],
         "type": "category"
        },
        "yaxis": {
         "anchor": "x",
         "domain": [
          0,
          1
         ],
         "range": [
          0,
          1
         ],
         "tickformat": ".0%",
         "type": "linear"
        },
        "yaxis2": {
         "anchor": "x2",
         "domain": [
          0,
          1
         ],
         "range": [
          0,
          1
         ],
         "tickformat": ".0%",
         "type": "linear"
        },
        "yaxis3": {
         "anchor": "x3",
         "domain": [
          0,
          1
         ],
         "range": [
          0,
          1
         ],
         "tickformat": ".0%",
         "type": "linear"
        }
       }
      },
      "image/png": "[encoded data removed]",
      "text/html": [
       "<div>                            <div id=\"f69a937e-25e4-42e6-9efe-847b64c082e5\" class=\"plotly-graph-div\" style=\"height:500px; width:900px;\"></div>            <script type=\"text/javascript\">                require([\"plotly\"], function(Plotly) {                    window.PLOTLYENV=window.PLOTLYENV || {};                                    if (document.getElementById(\"f69a937e-25e4-42e6-9efe-847b64c082e5\")) {                    Plotly.newPlot(                        \"f69a937e-25e4-42e6-9efe-847b64c082e5\",                        [{\"marker\":{\"color\":\"blue\"},\"name\":\"QwenMed Base\",\"showlegend\":true,\"x\":[\"QwenMed Base\"],\"y\":[0.9072998487547742],\"type\":\"bar\",\"xaxis\":\"x\",\"yaxis\":\"y\"},{\"marker\":{\"color\":\"red\"},\"name\":\"QwenMed Multi\",\"showlegend\":true,\"x\":[\"QwenMed Multi\"],\"y\":[0.9253381423766895],\"type\":\"bar\",\"xaxis\":\"x\",\"yaxis\":\"y\"},{\"marker\":{\"color\":\"green\"},\"name\":\"QwenMed Ensemble\",\"showlegend\":true,\"x\":[\"QwenMed Ensemble\"],\"y\":[0.9258671551877097],\"type\":\"bar\",\"xaxis\":\"x\",\"yaxis\":\"y\"},{\"marker\":{\"color\":\"blue\"},\"name\":\"QwenMed Base\",\"showlegend\":false,\"x\":[\"QwenMed Base\"],\"y\":[0.42857142857142855],\"type\":\"bar\",\"xaxis\":\"x2\",\"yaxis\":\"y2\"},{\"marker\":{\"color\":\"red\"},\"name\":\"QwenMed Multi\",\"showlegend\":false,\"x\":[\"QwenMed Multi\"],\"y\":[0.3333333333333333],\"type\":\"bar\",\"xaxis\":\"x2\",\"yaxis\":\"y2\"},{\"marker\":{\"color\":\"green\"},\"name\":\"QwenMed Ensemble\",\"showlegend\":false,\"x\":[\"QwenMed Ensemble\"],\"y\":[0.42857142857142855],\"type\":\"bar\",\"xaxis\":\"x2\",\"yaxis\":\"y2\"},{\"marker\":{\"color\":\"blue\"},\"name\":\"QwenMed Base\",\"showlegend\":false,\"x\":[\"QwenMed Base\"],\"y\":[0.5734478356912689],\"type\":\"bar\",\"xaxis\":\"x3\",\"yaxis\":\"y3\"},{\"marker\":{\"color\":\"red\"},\"name\":\"QwenMed Multi\",\"showlegend\":false,\"x\":[\"QwenMed Multi\"],\"y\":[0.9916785455654504],\"type\":\"bar\",\"xaxis\":\"x3\",\"yaxis\":\"y3\"},{\"marker\":{\"color\":\"green\"},\"name\":\"QwenMed Ensemble\",\"showlegend\":false,\"x\":[\"QwenMed Ensemble\"],\"y\":[0.8973075967203007],\"type\":\"bar\",\"xaxis\":\"x3\",\"yaxis\":\"y3\"}],                        {\"template\":{\"data\":{\"histogram2dcontour\":[{\"type\":\"histogram2dcontour\",\"colorbar\":{\"outlinewidth\":0,\"ticks\":\"\"},\"colorscale\":[[0.0,\"#0d0887\"],[0.1111111111111111,\"#46039f\"],[0.2222222222222222,\"#7201a8\"],[0.3333333333333333,\"#9c179e\"],[0.4444444444444444,\"#bd3786\"],[0.5555555555555556,\"#d8576b\"],[0.6666666666666666,\"#ed7953\"],[0.7777777777777778,\"#fb9f3a\"],[0.8888888888888888,\"#fdca26\"],[1.0,\"#f0f921\"]]}],\"choropleth\":[{\"type\":\"choropleth\",\"colorbar\":{\"outlinewidth\":0,\"ticks\":\"\"}}],\"histogram2d\":[{\"type\":\"histogram2d\",\"colorbar\":{\"outlinewidth\":0,\"ticks\":\"\"},\"colorscale\":[[0.0,\"#0d0887\"],[0.1111111111111111,\"#46039f\"],[0.2222222222222222,\"#7201a8\"],[0.3333333333333333,\"#9c179e\"],[0.4444444444444444,\"#bd3786\"],[0.5555555555555556,\"#d8576b\"],[0.6666666666666666,\"#ed7953\"],[0.7777777777777778,\"#fb9f3a\"],[0.8888888888888888,\"#fdca26\"],[1.0,\"#f0f921\"]]}],\"heatmap\":[{\"type\":\"heatmap\",\"colorbar\":{\"outlinewidth\":0,\"ticks\":\"\"},\"colorscale\":[[0.0,\"#0d0887\"],[0.1111111111111111,\"#46039f\"],[0.2222222222222222,\"#7201a8\"],[0.3333333333333333,\"#9c179e\"],[0.4444444444444444,\"#bd3786\"],[0.5555555555555556,\"#d8576b\"],[0.6666666666666666,\"#ed7953\"],[0.7777777777777778,\"#fb9f3a\"],[0.8888888888888888,\"#fdca26\"],[1.0,\"#f0f921\"]]}],\"heatmapgl\":[{\"type\":\"heatmapgl\",\"colorbar\":{\"outlinewidth\":0,\"ticks\":\"\"},\"colorscale\":[[0.0,\"#0d0887\"],[0.1111111111111111,\"#46039f\"],[0.2222222222222222,\"#7201a8\"],[0.3333333333333333,\"#9c179e\"],[0.4444444444444444,\"#bd3786\"],[0.5555555555555556,\"#d8576b\"],[0.6666666666666666,\"#ed7953\"],[0.7777777777777778,\"#fb9f3a\"],[0.8888888888888888,\"#fdca26\"],[1.0,\"#f0f921\"]]}],\"contourcarpet\":[{\"type\":\"contourcarpet\",\"colorbar\":{\"outlinewidth\":0,\"ticks\":\"\"}}],\"contour\":[{\"type\":\"contour\",\"colorbar\":{\"outlinewidth\":0,\"ticks\":\"\"},\"colorscale\":[[0.0,\"#0d0887\"],[0.1111111111111111,\"#46039f\"],[0.2222222222222222,\"#7201a8\"],[0.3333333333333333,\"#9c179e\"],[0.4444444444444444,\"#bd3786\"],[0.5555555555555556,\"#d8576b\"],[0.6666666666666666,\"#ed7953\"],[0.7777777777777778,\"#fb9f3a\"],[0.8888888888888888,\"#fdca26\"],[1.0,\"#f0f921\"]]}],\"surface\":[{\"type\":\"surface\",\"colorbar\":{\"outlinewidth\":0,\"ticks\":\"\"},\"colorscale\":[[0.0,\"#0d0887\"],[0.1111111111111111,\"#46039f\"],[0.2222222222222222,\"#7201a8\"],[0.3333333333333333,\"#9c179e\"],[0.4444444444444444,\"#bd3786\"],[0.5555555555555556,\"#d8576b\"],[0.6666666666666666,\"#ed7953\"],[0.7777777777777778,\"#fb9f3a\"],[0.8888888888888888,\"#fdca26\"],[1.0,\"#f0f921\"]]}],\"mesh3d\":[{\"type\":\"mesh3d\",\"colorbar\":{\"outlinewidth\":0,\"ticks\":\"\"}}],\"scatter\":[{\"fillpattern\":{\"fillmode\":\"overlay\",\"size\":10,\"solidity\":0.2},\"type\":\"scatter\"}],\"parcoords\":[{\"type\":\"parcoords\",\"line\":{\"colorbar\":{\"outlinewidth\":0,\"ticks\":\"\"}}}],\"scatterpolargl\":[{\"type\":\"scatterpolargl\",\"marker\":{\"colorbar\":{\"outlinewidth\":0,\"ticks\":\"\"}}}],\"bar\":[{\"error_x\":{\"color\":\"#2a3f5f\"},\"error_y\":{\"color\":\"#2a3f5f\"},\"marker\":{\"line\":{\"color\":\"#E5ECF6\",\"width\":0.5},\"pattern\":{\"fillmode\":\"overlay\",\"size\":10,\"solidity\":0.2}},\"type\":\"bar\"}],\"scattergeo\":[{\"type\":\"scattergeo\",\"marker\":{\"colorbar\":{\"outlinewidth\":0,\"ticks\":\"\"}}}],\"scatterpolar\":[{\"type\":\"scatterpolar\",\"marker\":{\"colorbar\":{\"outlinewidth\":0,\"ticks\":\"\"}}}],\"histogram\":[{\"marker\":{\"pattern\":{\"fillmode\":\"overlay\",\"size\":10,\"solidity\":0.2}},\"type\":\"histogram\"}],\"scattergl\":[{\"type\":\"scattergl\",\"marker\":{\"colorbar\":{\"outlinewidth\":0,\"ticks\":\"\"}}}],\"scatter3d\":[{\"type\":\"scatter3d\",\"line\":{\"colorbar\":{\"outlinewidth\":0,\"ticks\":\"\"}},\"marker\":{\"colorbar\":{\"outlinewidth\":0,\"ticks\":\"\"}}}],\"scattermapbox\":[{\"type\":\"scattermapbox\",\"marker\":{\"colorbar\":{\"outlinewidth\":0,\"ticks\":\"\"}}}],\"scatterternary\":[{\"type\":\"scatterternary\",\"marker\":{\"colorbar\":{\"outlinewidth\":0,\"ticks\":\"\"}}}],\"scattercarpet\":[{\"type\":\"scattercarpet\",\"marker\":{\"colorbar\":{\"outlinewidth\":0,\"ticks\":\"\"}}}],\"carpet\":[{\"aaxis\":{\"endlinecolor\":\"#2a3f5f\",\"gridcolor\":\"white\",\"linecolor\":\"white\",\"minorgridcolor\":\"white\",\"startlinecolor\":\"#2a3f5f\"},\"baxis\":{\"endlinecolor\":\"#2a3f5f\",\"gridcolor\":\"white\",\"linecolor\":\"white\",\"minorgridcolor\":\"white\",\"startlinecolor\":\"#2a3f5f\"},\"type\":\"carpet\"}],\"table\":[{\"cells\":{\"fill\":{\"color\":\"#EBF0F8\"},\"line\":{\"color\":\"white\"}},\"header\":{\"fill\":{\"color\":\"#C8D4E3\"},\"line\":{\"color\":\"white\"}},\"type\":\"table\"}],\"barpolar\":[{\"marker\":{\"line\":{\"color\":\"#E5ECF6\",\"width\":0.5},\"pattern\":{\"fillmode\":\"overlay\",\"size\":10,\"solidity\":0.2}},\"type\":\"barpolar\"}],\"pie\":[{\"automargin\":true,\"type\":\"pie\"}]},\"layout\":{\"autotypenumbers\":\"strict\",\"colorway\":[\"#636efa\",\"#EF553B\",\"#00cc96\",\"#ab63fa\",\"#FFA15A\",\"#19d3f3\",\"#FF6692\",\"#B6E880\",\"#FF97FF\",\"#FECB52\"],\"font\":{\"color\":\"#2a3f5f\"},\"hovermode\":\"closest\",\"hoverlabel\":{\"align\":\"left\"},\"paper_bgcolor\":\"white\",\"plot_bgcolor\":\"#E5ECF6\",\"polar\":{\"bgcolor\":\"#E5ECF6\",\"angularaxis\":{\"gridcolor\":\"white\",\"linecolor\":\"white\",\"ticks\":\"\"},\"radialaxis\":{\"gridcolor\":\"white\",\"linecolor\":\"white\",\"ticks\":\"\"}},\"ternary\":{\"bgcolor\":\"#E5ECF6\",\"aaxis\":{\"gridcolor\":\"white\",\"linecolor\":\"white\",\"ticks\":\"\"},\"baxis\":{\"gridcolor\":\"white\",\"linecolor\":\"white\",\"ticks\":\"\"},\"caxis\":{\"gridcolor\":\"white\",\"linecolor\":\"white\",\"ticks\":\"\"}},\"coloraxis\":{\"colorbar\":{\"outlinewidth\":0,\"ticks\":\"\"}},\"colorscale\":{\"sequential\":[[0.0,\"#0d0887\"],[0.1111111111111111,\"#46039f\"],[0.2222222222222222,\"#7201a8\"],[0.3333333333333333,\"#9c179e\"],[0.4444444444444444,\"#bd3786\"],[0.5555555555555556,\"#d8576b\"],[0.6666666666666666,\"#ed7953\"],[0.7777777777777778,\"#fb9f3a\"],[0.8888888888888888,\"#fdca26\"],[1.0,\"#f0f921\"]],\"sequentialminus\":[[0.0,\"#0d0887\"],[0.1111111111111111,\"#46039f\"],[0.2222222222222222,\"#7201a8\"],[0.3333333333333333,\"#9c179e\"],[0.4444444444444444,\"#bd3786\"],[0.5555555555555556,\"#d8576b\"],[0.6666666666666666,\"#ed7953\"],[0.7777777777777778,\"#fb9f3a\"],[0.8888888888888888,\"#fdca26\"],[1.0,\"#f0f921\"]],\"diverging\":[[0,\"#8e0152\"],[0.1,\"#c51b7d\"],[0.2,\"#de77ae\"],[0.3,\"#f1b6da\"],[0.4,\"#fde0ef\"],[0.5,\"#f7f7f7\"],[0.6,\"#e6f5d0\"],[0.7,\"#b8e186\"],[0.8,\"#7fbc41\"],[0.9,\"#4d9221\"],[1,\"#276419\"]]},\"xaxis\":{\"gridcolor\":\"white\",\"linecolor\":\"white\",\"ticks\":\"\",\"title\":{\"standoff\":15},\"zerolinecolor\":\"white\",\"automargin\":true,\"zerolinewidth\":2},\"yaxis\":{\"gridcolor\":\"white\",\"linecolor\":\"white\",\"ticks\":\"\",\"title\":{\"standoff\":15},\"zerolinecolor\":\"white\",\"automargin\":true,\"zerolinewidth\":2},\"scene\":{\"xaxis\":{\"backgroundcolor\":\"#E5ECF6\",\"gridcolor\":\"white\",\"linecolor\":\"white\",\"showbackground\":true,\"ticks\":\"\",\"zerolinecolor\":\"white\",\"gridwidth\":2},\"yaxis\":{\"backgroundcolor\":\"#E5ECF6\",\"gridcolor\":\"white\",\"linecolor\":\"white\",\"showbackground\":true,\"ticks\":\"\",\"zerolinecolor\":\"white\",\"gridwidth\":2},\"zaxis\":{\"backgroundcolor\":\"#E5ECF6\",\"gridcolor\":\"white\",\"linecolor\":\"white\",\"showbackground\":true,\"ticks\":\"\",\"zerolinecolor\":\"white\",\"gridwidth\":2}},\"shapedefaults\":{\"line\":{\"color\":\"#2a3f5f\"}},\"annotationdefaults\":{\"arrowcolor\":\"#2a3f5f\",\"arrowhead\":0,\"arrowwidth\":1},\"geo\":{\"bgcolor\":\"white\",\"landcolor\":\"#E5ECF6\",\"subunitcolor\":\"white\",\"showland\":true,\"showlakes\":true,\"lakecolor\":\"white\"},\"title\":{\"x\":0.05},\"mapbox\":{\"style\":\"light\"}}},\"xaxis\":{\"anchor\":\"y\",\"domain\":[0.0,0.2888888888888889]},\"yaxis\":{\"anchor\":\"x\",\"domain\":[0.0,1.0],\"range\":[0,1],\"tickformat\":\".0%\"},\"xaxis2\":{\"anchor\":\"y2\",\"domain\":[0.35555555555555557,0.6444444444444445]},\"yaxis2\":{\"anchor\":\"x2\",\"domain\":[0.0,1.0],\"range\":[0,1],\"tickformat\":\".0%\"},\"xaxis3\":{\"anchor\":\"y3\",\"domain\":[0.7111111111111111,1.0]},\"yaxis3\":{\"anchor\":\"x3\",\"domain\":[0.0,1.0],\"range\":[0,1],\"tickformat\":\".0%\"},\"annotations\":[{\"font\":{\"size\":16},\"showarrow\":false,\"text\":\"answer_relevancy\",\"x\":0.14444444444444446,\"xanchor\":\"center\",\"xref\":\"paper\",\"y\":1.0,\"yanchor\":\"bottom\",\"yref\":\"paper\"},{\"font\":{\"size\":16},\"showarrow\":false,\"text\":\"faithfulness\",\"x\":0.5,\"xanchor\":\"center\",\"xref\":\"paper\",\"y\":1.0,\"yanchor\":\"bottom\",\"yref\":\"paper\"},{\"font\":{\"size\":16},\"showarrow\":false,\"text\":\"answer_correctness\",\"x\":0.8555555555555556,\"xanchor\":\"center\",\"xref\":\"paper\",\"y\":1.0,\"yanchor\":\"bottom\",\"yref\":\"paper\"}],\"title\":{\"font\":{\"size\":16},\"text\":\"Retrieval Augmented Generation - Evaluation for QwenMed 2\"},\"barmode\":\"group\",\"height\":500,\"width\":900},                        {\"responsive\": true}                    ).then(function(){\n",
       "                            \n",
       "var gd = document.getElementById('f69a937e-25e4-42e6-9efe-847b64c082e5');\n",
       "var x = new MutationObserver(function (mutations, observer) {{\n",
       "        var display = window.getComputedStyle(gd).display;\n",
       "        if (!display || display === 'none') {{\n",
       "            console.log([gd, 'removed!']);\n",
       "            Plotly.purge(gd);\n",
       "            observer.disconnect();\n",
       "        }}\n",
       "}});\n",
       "\n",
       "// Listen for the removal of the full notebook cells\n",
       "var notebookContainer = gd.closest('#notebook-container');\n",
       "if (notebookContainer) {{\n",
       "    x.observe(notebookContainer, {childList: true});\n",
       "}}\n",
       "\n",
       "// Listen for the clearing of the current output cell\n",
       "var outputEl = gd.closest('.output');\n",
       "if (outputEl) {{\n",
       "    x.observe(outputEl, {childList: true});\n",
       "}}\n",
       "\n",
       "                        })                };                });            </script>        </div>"
      ]
     },
     "metadata": {},
     "output_type": "display_data"
    }
   ],
   "source": [
    "import plotly.graph_objects as go\n",
    "from plotly.subplots import make_subplots\n",
    "\n",
    "metrics = ['answer_relevancy', 'faithfulness', 'answer_correctness']\n",
    "models = ['QwenMed Base', 'QwenMed Multi', 'QwenMed Ensemble']\n",
    "colors = ['blue', 'red', 'green']\n",
    "\n",
    "fig = make_subplots(rows=1, cols=3, subplot_titles=metrics)\n",
    "\n",
    "for i, metric in enumerate(metrics, start=1):\n",
    "    for j, (data, name, color) in enumerate(zip([QwenMedBase, QwenMedMulti, QwenMedEnsemble], models, colors)):\n",
    "        fig.add_trace(\n",
    "            go.Bar(\n",
    "                x=[name], \n",
    "                y=[data[metric].values[0]], \n",
    "                name=name,\n",
    "                marker_color=color,\n",
    "                showlegend=i==1\n",
    "            ),\n",
    "            row=1, col=i\n",
    "        )\n",
    "\n",
    "fig.update_layout(\n",
    "    title=dict(\n",
    "        text=\"Retrieval Augmented Generation - Evaluation for QwenMed 2\",\n",
    "        font=dict(size=16)\n",
    "    ),\n",
    "    barmode='group',\n",
    "    height=500,\n",
    "    width=900,\n",
    "    yaxis=dict(range=[0, 1], tickformat='.0%'),\n",
    "    yaxis2=dict(range=[0, 1], tickformat='.0%'),\n",
    "    yaxis3=dict(range=[0, 1], tickformat='.0%')\n",
    ")\n",
    "\n",
    "fig.show()"
   ]
  },
  {
   "cell_type": "code",
   "execution_count": 192,
   "metadata": {
    "tags": []
   },
   "outputs": [
    {
     "data": {
      "application/vnd.plotly.v1+json": {
       "config": {
        "plotlyServerURL": "https://plot.ly"
       },
       "data": [
        {
         "marker": {
          "color": "blue"
         },
         "name": "QwenMed Base",
         "type": "bar",
         "visible": true,
         "x": [
          "answer_relevancy",
          "faithfulness",
          "answer_correctness"
         ],
         "y": [
          0.9072998487547742,
          0.42857142857142855,
          0.5734478356912689,
          0.9676419092344825,
          1,
          0.48066914911866687,
          0.896913994331721,
          0.29411764705882354,
          0.6031239967632398,
          0.8993187453328554,
          0.3076923076923077,
          0.38063812964449517,
          0.9438605334011564,
          1,
          0.5948544930006809,
          0.9051191824977364,
          0.5,
          0.5244838018204188,
          0.9694212372718681,
          1,
          0.7248142331738552,
          0.898295825231228,
          1,
          0.5076751606657124,
          0.9315438177734023,
          0.5,
          0.5283444124013832,
          0.9366585700188481,
          0.1111111111111111,
          0.8280454842625051,
          0.8649815553670329,
          0.9130434782608695,
          0.3379374220992087,
          0.8693441221266746,
          1,
          0.7335861773565778,
          0.9349640820827488,
          1,
          0.4523888025465027,
          0,
          0.25,
          0.3686662367447865,
          0.9768213211552865,
          0,
          0.5811317596665976,
          0.8923895220584871,
          0.375,
          0.5214357992826542,
          0.9513941949486352,
          0.5714285714285714,
          0.7361130444974041,
          0.9377375143998842,
          0.15384615384615385,
          0.3113124291648127
         ]
        },
        {
         "marker": {
          "color": "red"
         },
         "name": "QwenMed Multi",
         "type": "bar",
         "x": [
          "answer_relevancy",
          "faithfulness",
          "answer_correctness"
         ],
         "y": [
          0.9253381423766895,
          0.3333333333333333,
          0.9916785455654504,
          0,
          0.7142857142857143,
          0.4201717337046171,
          0.8228816825700301,
          0.125,
          0.7006602197137654,
          0.9449788628880901,
          0.15789473684210525,
          0.4775900320915275,
          0,
          0.2727272727272727,
          0.4295154639176173,
          0,
          0.5,
          0.42662651413587593,
          0.8331597603292306,
          0,
          0.5457281328022896,
          0.9084644261057174,
          0.6111111111111112,
          0.3557329742997006,
          0.931571069937074,
          0.4,
          0.7247109951745889,
          0.8489904167598317,
          0.8,
          0.976319245498271,
          0.8754274540318755,
          0,
          0.42426437630227537,
          0,
          0,
          0.1955259608301556,
          0.9349640820827488,
          0.7142857142857143,
          0.48748511200865774,
          0.8623203244544414,
          0.3333333333333333,
          0.20266863686902992,
          0.9454743120661786,
          0.13333333333333333,
          0.39235574095035314,
          0.8656526060367943,
          0.7,
          0.3197198182481549,
          0.9442156568642893,
          0.6666666666666666,
          0.6219023172302045,
          0.9377375143998842,
          0.2222222222222222,
          0.3234108181107849
         ]
        },
        {
         "marker": {
          "color": "green"
         },
         "name": "QwenMed Ensemble",
         "type": "bar",
         "visible": true,
         "x": [
          "answer_relevancy",
          "faithfulness",
          "answer_correctness"
         ],
         "y": [
          0.9258671551877097,
          0.42857142857142855,
          0.8973075967203007,
          0,
          0.6363636363636364,
          0.38069682688398576,
          0.9019996176178126,
          0.4166666666666667,
          0.5933617317890579,
          0.8416401641150042,
          0.05555555555555555,
          0.34615725079413945,
          0,
          1,
          0.3625537726943189,
          0,
          0.5,
          0.20388684429053727,
          0,
          0.6521739130434783,
          0.34354334806835285,
          0.7965081325443943,
          0.7272727272727273,
          0.47263997099179195,
          0.8553131543506831,
          0.625,
          0.5180182460064982,
          0.9153097109083341,
          0.25,
          0.9878695615964627,
          0.9065212759402391,
          0.3333333333333333,
          0.442991276568941,
          0.8693441221266746,
          0.375,
          0.5154248817324675,
          0,
          0.2857142857142857,
          0.46924508033684503,
          0.9012770826414106,
          0.5833333333333334,
          0.5456292875108637,
          0.9170258470256515,
          0.16666666666666666,
          0.7373894296447716,
          0.8772971393588378,
          0.3,
          0.43959131294092624,
          0.8999723336221134,
          0.3333333333333333,
          0.7500765844147066,
          0.9060889186456285,
          0.8333333333333334,
          0.6983725212419375
         ]
        }
       ],
       "layout": {
        "barmode": "group",
        "height": 500,
        "template": {
         "data": {
          "bar": [
           {
            "error_x": {
             "color": "#2a3f5f"
            },
            "error_y": {
             "color": "#2a3f5f"
            },
            "marker": {
             "line": {
              "color": "#E5ECF6",
              "width": 0.5
             },
             "pattern": {
              "fillmode": "overlay",
              "size": 10,
              "solidity": 0.2
             }
            },
            "type": "bar"
           }
          ],
          "barpolar": [
           {
            "marker": {
             "line": {
              "color": "#E5ECF6",
              "width": 0.5
             },
             "pattern": {
              "fillmode": "overlay",
              "size": 10,
              "solidity": 0.2
             }
            },
            "type": "barpolar"
           }
          ],
          "carpet": [
           {
            "aaxis": {
             "endlinecolor": "#2a3f5f",
             "gridcolor": "white",
             "linecolor": "white",
             "minorgridcolor": "white",
             "startlinecolor": "#2a3f5f"
            },
            "baxis": {
             "endlinecolor": "#2a3f5f",
             "gridcolor": "white",
             "linecolor": "white",
             "minorgridcolor": "white",
             "startlinecolor": "#2a3f5f"
            },
            "type": "carpet"
           }
          ],
          "choropleth": [
           {
            "colorbar": {
             "outlinewidth": 0,
             "ticks": ""
            },
            "type": "choropleth"
           }
          ],
          "contour": [
           {
            "colorbar": {
             "outlinewidth": 0,
             "ticks": ""
            },
            "colorscale": [
             [
              0,
              "#0d0887"
             ],
             [
              0.1111111111111111,
              "#46039f"
             ],
             [
              0.2222222222222222,
              "#7201a8"
             ],
             [
              0.3333333333333333,
              "#9c179e"
             ],
             [
              0.4444444444444444,
              "#bd3786"
             ],
             [
              0.5555555555555556,
              "#d8576b"
             ],
             [
              0.6666666666666666,
              "#ed7953"
             ],
             [
              0.7777777777777778,
              "#fb9f3a"
             ],
             [
              0.8888888888888888,
              "#fdca26"
             ],
             [
              1,
              "#f0f921"
             ]
            ],
            "type": "contour"
           }
          ],
          "contourcarpet": [
           {
            "colorbar": {
             "outlinewidth": 0,
             "ticks": ""
            },
            "type": "contourcarpet"
           }
          ],
          "heatmap": [
           {
            "colorbar": {
             "outlinewidth": 0,
             "ticks": ""
            },
            "colorscale": [
             [
              0,
              "#0d0887"
             ],
             [
              0.1111111111111111,
              "#46039f"
             ],
             [
              0.2222222222222222,
              "#7201a8"
             ],
             [
              0.3333333333333333,
              "#9c179e"
             ],
             [
              0.4444444444444444,
              "#bd3786"
             ],
             [
              0.5555555555555556,
              "#d8576b"
             ],
             [
              0.6666666666666666,
              "#ed7953"
             ],
             [
              0.7777777777777778,
              "#fb9f3a"
             ],
             [
              0.8888888888888888,
              "#fdca26"
             ],
             [
              1,
              "#f0f921"
             ]
            ],
            "type": "heatmap"
           }
          ],
          "heatmapgl": [
           {
            "colorbar": {
             "outlinewidth": 0,
             "ticks": ""
            },
            "colorscale": [
             [
              0,
              "#0d0887"
             ],
             [
              0.1111111111111111,
              "#46039f"
             ],
             [
              0.2222222222222222,
              "#7201a8"
             ],
             [
              0.3333333333333333,
              "#9c179e"
             ],
             [
              0.4444444444444444,
              "#bd3786"
             ],
             [
              0.5555555555555556,
              "#d8576b"
             ],
             [
              0.6666666666666666,
              "#ed7953"
             ],
             [
              0.7777777777777778,
              "#fb9f3a"
             ],
             [
              0.8888888888888888,
              "#fdca26"
             ],
             [
              1,
              "#f0f921"
             ]
            ],
            "type": "heatmapgl"
           }
          ],
          "histogram": [
           {
            "marker": {
             "pattern": {
              "fillmode": "overlay",
              "size": 10,
              "solidity": 0.2
             }
            },
            "type": "histogram"
           }
          ],
          "histogram2d": [
           {
            "colorbar": {
             "outlinewidth": 0,
             "ticks": ""
            },
            "colorscale": [
             [
              0,
              "#0d0887"
             ],
             [
              0.1111111111111111,
              "#46039f"
             ],
             [
              0.2222222222222222,
              "#7201a8"
             ],
             [
              0.3333333333333333,
              "#9c179e"
             ],
             [
              0.4444444444444444,
              "#bd3786"
             ],
             [
              0.5555555555555556,
              "#d8576b"
             ],
             [
              0.6666666666666666,
              "#ed7953"
             ],
             [
              0.7777777777777778,
              "#fb9f3a"
             ],
             [
              0.8888888888888888,
              "#fdca26"
             ],
             [
              1,
              "#f0f921"
             ]
            ],
            "type": "histogram2d"
           }
          ],
          "histogram2dcontour": [
           {
            "colorbar": {
             "outlinewidth": 0,
             "ticks": ""
            },
            "colorscale": [
             [
              0,
              "#0d0887"
             ],
             [
              0.1111111111111111,
              "#46039f"
             ],
             [
              0.2222222222222222,
              "#7201a8"
             ],
             [
              0.3333333333333333,
              "#9c179e"
             ],
             [
              0.4444444444444444,
              "#bd3786"
             ],
             [
              0.5555555555555556,
              "#d8576b"
             ],
             [
              0.6666666666666666,
              "#ed7953"
             ],
             [
              0.7777777777777778,
              "#fb9f3a"
             ],
             [
              0.8888888888888888,
              "#fdca26"
             ],
             [
              1,
              "#f0f921"
             ]
            ],
            "type": "histogram2dcontour"
           }
          ],
          "mesh3d": [
           {
            "colorbar": {
             "outlinewidth": 0,
             "ticks": ""
            },
            "type": "mesh3d"
           }
          ],
          "parcoords": [
           {
            "line": {
             "colorbar": {
              "outlinewidth": 0,
              "ticks": ""
             }
            },
            "type": "parcoords"
           }
          ],
          "pie": [
           {
            "automargin": true,
            "type": "pie"
           }
          ],
          "scatter": [
           {
            "fillpattern": {
             "fillmode": "overlay",
             "size": 10,
             "solidity": 0.2
            },
            "type": "scatter"
           }
          ],
          "scatter3d": [
           {
            "line": {
             "colorbar": {
              "outlinewidth": 0,
              "ticks": ""
             }
            },
            "marker": {
             "colorbar": {
              "outlinewidth": 0,
              "ticks": ""
             }
            },
            "type": "scatter3d"
           }
          ],
          "scattercarpet": [
           {
            "marker": {
             "colorbar": {
              "outlinewidth": 0,
              "ticks": ""
             }
            },
            "type": "scattercarpet"
           }
          ],
          "scattergeo": [
           {
            "marker": {
             "colorbar": {
              "outlinewidth": 0,
              "ticks": ""
             }
            },
            "type": "scattergeo"
           }
          ],
          "scattergl": [
           {
            "marker": {
             "colorbar": {
              "outlinewidth": 0,
              "ticks": ""
             }
            },
            "type": "scattergl"
           }
          ],
          "scattermapbox": [
           {
            "marker": {
             "colorbar": {
              "outlinewidth": 0,
              "ticks": ""
             }
            },
            "type": "scattermapbox"
           }
          ],
          "scatterpolar": [
           {
            "marker": {
             "colorbar": {
              "outlinewidth": 0,
              "ticks": ""
             }
            },
            "type": "scatterpolar"
           }
          ],
          "scatterpolargl": [
           {
            "marker": {
             "colorbar": {
              "outlinewidth": 0,
              "ticks": ""
             }
            },
            "type": "scatterpolargl"
           }
          ],
          "scatterternary": [
           {
            "marker": {
             "colorbar": {
              "outlinewidth": 0,
              "ticks": ""
             }
            },
            "type": "scatterternary"
           }
          ],
          "surface": [
           {
            "colorbar": {
             "outlinewidth": 0,
             "ticks": ""
            },
            "colorscale": [
             [
              0,
              "#0d0887"
             ],
             [
              0.1111111111111111,
              "#46039f"
             ],
             [
              0.2222222222222222,
              "#7201a8"
             ],
             [
              0.3333333333333333,
              "#9c179e"
             ],
             [
              0.4444444444444444,
              "#bd3786"
             ],
             [
              0.5555555555555556,
              "#d8576b"
             ],
             [
              0.6666666666666666,
              "#ed7953"
             ],
             [
              0.7777777777777778,
              "#fb9f3a"
             ],
             [
              0.8888888888888888,
              "#fdca26"
             ],
             [
              1,
              "#f0f921"
             ]
            ],
            "type": "surface"
           }
          ],
          "table": [
           {
            "cells": {
             "fill": {
              "color": "#EBF0F8"
             },
             "line": {
              "color": "white"
             }
            },
            "header": {
             "fill": {
              "color": "#C8D4E3"
             },
             "line": {
              "color": "white"
             }
            },
            "type": "table"
           }
          ]
         },
         "layout": {
          "annotationdefaults": {
           "arrowcolor": "#2a3f5f",
           "arrowhead": 0,
           "arrowwidth": 1
          },
          "autotypenumbers": "strict",
          "coloraxis": {
           "colorbar": {
            "outlinewidth": 0,
            "ticks": ""
           }
          },
          "colorscale": {
           "diverging": [
            [
             0,
             "#8e0152"
            ],
            [
             0.1,
             "#c51b7d"
            ],
            [
             0.2,
             "#de77ae"
            ],
            [
             0.3,
             "#f1b6da"
            ],
            [
             0.4,
             "#fde0ef"
            ],
            [
             0.5,
             "#f7f7f7"
            ],
            [
             0.6,
             "#e6f5d0"
            ],
            [
             0.7,
             "#b8e186"
            ],
            [
             0.8,
             "#7fbc41"
            ],
            [
             0.9,
             "#4d9221"
            ],
            [
             1,
             "#276419"
            ]
           ],
           "sequential": [
            [
             0,
             "#0d0887"
            ],
            [
             0.1111111111111111,
             "#46039f"
            ],
            [
             0.2222222222222222,
             "#7201a8"
            ],
            [
             0.3333333333333333,
             "#9c179e"
            ],
            [
             0.4444444444444444,
             "#bd3786"
            ],
            [
             0.5555555555555556,
             "#d8576b"
            ],
            [
             0.6666666666666666,
             "#ed7953"
            ],
            [
             0.7777777777777778,
             "#fb9f3a"
            ],
            [
             0.8888888888888888,
             "#fdca26"
            ],
            [
             1,
             "#f0f921"
            ]
           ],
           "sequentialminus": [
            [
             0,
             "#0d0887"
            ],
            [
             0.1111111111111111,
             "#46039f"
            ],
            [
             0.2222222222222222,
             "#7201a8"
            ],
            [
             0.3333333333333333,
             "#9c179e"
            ],
            [
             0.4444444444444444,
             "#bd3786"
            ],
            [
             0.5555555555555556,
             "#d8576b"
            ],
            [
             0.6666666666666666,
             "#ed7953"
            ],
            [
             0.7777777777777778,
             "#fb9f3a"
            ],
            [
             0.8888888888888888,
             "#fdca26"
            ],
            [
             1,
             "#f0f921"
            ]
           ]
          },
          "colorway": [
           "#636efa",
           "#EF553B",
           "#00cc96",
           "#ab63fa",
           "#FFA15A",
           "#19d3f3",
           "#FF6692",
           "#B6E880",
           "#FF97FF",
           "#FECB52"
          ],
          "font": {
           "color": "#2a3f5f"
          },
          "geo": {
           "bgcolor": "white",
           "lakecolor": "white",
           "landcolor": "#E5ECF6",
           "showlakes": true,
           "showland": true,
           "subunitcolor": "white"
          },
          "hoverlabel": {
           "align": "left"
          },
          "hovermode": "closest",
          "mapbox": {
           "style": "light"
          },
          "paper_bgcolor": "white",
          "plot_bgcolor": "#E5ECF6",
          "polar": {
           "angularaxis": {
            "gridcolor": "white",
            "linecolor": "white",
            "ticks": ""
           },
           "bgcolor": "#E5ECF6",
           "radialaxis": {
            "gridcolor": "white",
            "linecolor": "white",
            "ticks": ""
           }
          },
          "scene": {
           "xaxis": {
            "backgroundcolor": "#E5ECF6",
            "gridcolor": "white",
            "gridwidth": 2,
            "linecolor": "white",
            "showbackground": true,
            "ticks": "",
            "zerolinecolor": "white"
           },
           "yaxis": {
            "backgroundcolor": "#E5ECF6",
            "gridcolor": "white",
            "gridwidth": 2,
            "linecolor": "white",
            "showbackground": true,
            "ticks": "",
            "zerolinecolor": "white"
           },
           "zaxis": {
            "backgroundcolor": "#E5ECF6",
            "gridcolor": "white",
            "gridwidth": 2,
            "linecolor": "white",
            "showbackground": true,
            "ticks": "",
            "zerolinecolor": "white"
           }
          },
          "shapedefaults": {
           "line": {
            "color": "#2a3f5f"
           }
          },
          "ternary": {
           "aaxis": {
            "gridcolor": "white",
            "linecolor": "white",
            "ticks": ""
           },
           "baxis": {
            "gridcolor": "white",
            "linecolor": "white",
            "ticks": ""
           },
           "bgcolor": "#E5ECF6",
           "caxis": {
            "gridcolor": "white",
            "linecolor": "white",
            "ticks": ""
           }
          },
          "title": {
           "x": 0.05
          },
          "xaxis": {
           "automargin": true,
           "gridcolor": "white",
           "linecolor": "white",
           "ticks": "",
           "title": {
            "standoff": 15
           },
           "zerolinecolor": "white",
           "zerolinewidth": 2
          },
          "yaxis": {
           "automargin": true,
           "gridcolor": "white",
           "linecolor": "white",
           "ticks": "",
           "title": {
            "standoff": 15
           },
           "zerolinecolor": "white",
           "zerolinewidth": 2
          }
         }
        },
        "title": {
         "font": {
          "size": 16
         },
         "text": "Retrieval Augmented Generation - Evaluation for QwenMed 2"
        },
        "width": 800,
        "xaxis": {
         "autorange": true,
         "range": [
          -0.5,
          2.5
         ],
         "type": "category"
        },
        "yaxis": {
         "range": [
          0,
          1
         ],
         "tickformat": ".0%",
         "type": "linear"
        }
       }
      },
      "image/png": "[encoded data removed]",
      "text/html": [
       "<div>                            <div id=\"104aaf7c-e2df-4ef7-b78e-cbcadbc570cb\" class=\"plotly-graph-div\" style=\"height:500px; width:800px;\"></div>            <script type=\"text/javascript\">                require([\"plotly\"], function(Plotly) {                    window.PLOTLYENV=window.PLOTLYENV || {};                                    if (document.getElementById(\"104aaf7c-e2df-4ef7-b78e-cbcadbc570cb\")) {                    Plotly.newPlot(                        \"104aaf7c-e2df-4ef7-b78e-cbcadbc570cb\",                        [{\"marker\":{\"color\":\"blue\"},\"name\":\"QwenMed Base\",\"x\":[\"answer_relevancy\",\"faithfulness\",\"answer_correctness\"],\"y\":[0.9072998487547742,0.42857142857142855,0.5734478356912689,0.9676419092344825,1.0,0.48066914911866687,0.896913994331721,0.29411764705882354,0.6031239967632398,0.8993187453328554,0.3076923076923077,0.38063812964449517,0.9438605334011564,1.0,0.5948544930006809,0.9051191824977364,0.5,0.5244838018204188,0.9694212372718681,1.0,0.7248142331738552,0.898295825231228,1.0,0.5076751606657124,0.9315438177734023,0.5,0.5283444124013832,0.9366585700188481,0.1111111111111111,0.8280454842625051,0.8649815553670329,0.9130434782608695,0.3379374220992087,0.8693441221266746,1.0,0.7335861773565778,0.9349640820827488,1.0,0.4523888025465027,0.0,0.25,0.3686662367447865,0.9768213211552865,0.0,0.5811317596665976,0.8923895220584871,0.375,0.5214357992826542,0.9513941949486352,0.5714285714285714,0.7361130444974041,0.9377375143998842,0.15384615384615385,0.3113124291648127],\"type\":\"bar\"},{\"marker\":{\"color\":\"red\"},\"name\":\"QwenMed Multi\",\"x\":[\"answer_relevancy\",\"faithfulness\",\"answer_correctness\"],\"y\":[0.9253381423766895,0.3333333333333333,0.9916785455654504,0.0,0.7142857142857143,0.4201717337046171,0.8228816825700301,0.125,0.7006602197137654,0.9449788628880901,0.15789473684210525,0.4775900320915275,0.0,0.2727272727272727,0.4295154639176173,0.0,0.5,0.42662651413587593,0.8331597603292306,0.0,0.5457281328022896,0.9084644261057174,0.6111111111111112,0.3557329742997006,0.931571069937074,0.4,0.7247109951745889,0.8489904167598317,0.8,0.976319245498271,0.8754274540318755,0.0,0.42426437630227537,0.0,0.0,0.1955259608301556,0.9349640820827488,0.7142857142857143,0.48748511200865774,0.8623203244544414,0.3333333333333333,0.20266863686902992,0.9454743120661786,0.13333333333333333,0.39235574095035314,0.8656526060367943,0.7,0.3197198182481549,0.9442156568642893,0.6666666666666666,0.6219023172302045,0.9377375143998842,0.2222222222222222,0.3234108181107849],\"type\":\"bar\"},{\"marker\":{\"color\":\"green\"},\"name\":\"QwenMed Ensemble\",\"x\":[\"answer_relevancy\",\"faithfulness\",\"answer_correctness\"],\"y\":[0.9258671551877097,0.42857142857142855,0.8973075967203007,0.0,0.6363636363636364,0.38069682688398576,0.9019996176178126,0.4166666666666667,0.5933617317890579,0.8416401641150042,0.05555555555555555,0.34615725079413945,0.0,1.0,0.3625537726943189,0.0,0.5,0.20388684429053727,0.0,0.6521739130434783,0.34354334806835285,0.7965081325443943,0.7272727272727273,0.47263997099179195,0.8553131543506831,0.625,0.5180182460064982,0.9153097109083341,0.25,0.9878695615964627,0.9065212759402391,0.3333333333333333,0.442991276568941,0.8693441221266746,0.375,0.5154248817324675,0.0,0.2857142857142857,0.46924508033684503,0.9012770826414106,0.5833333333333334,0.5456292875108637,0.9170258470256515,0.16666666666666666,0.7373894296447716,0.8772971393588378,0.3,0.43959131294092624,0.8999723336221134,0.3333333333333333,0.7500765844147066,0.9060889186456285,0.8333333333333334,0.6983725212419375],\"type\":\"bar\"}],                        {\"template\":{\"data\":{\"histogram2dcontour\":[{\"type\":\"histogram2dcontour\",\"colorbar\":{\"outlinewidth\":0,\"ticks\":\"\"},\"colorscale\":[[0.0,\"#0d0887\"],[0.1111111111111111,\"#46039f\"],[0.2222222222222222,\"#7201a8\"],[0.3333333333333333,\"#9c179e\"],[0.4444444444444444,\"#bd3786\"],[0.5555555555555556,\"#d8576b\"],[0.6666666666666666,\"#ed7953\"],[0.7777777777777778,\"#fb9f3a\"],[0.8888888888888888,\"#fdca26\"],[1.0,\"#f0f921\"]]}],\"choropleth\":[{\"type\":\"choropleth\",\"colorbar\":{\"outlinewidth\":0,\"ticks\":\"\"}}],\"histogram2d\":[{\"type\":\"histogram2d\",\"colorbar\":{\"outlinewidth\":0,\"ticks\":\"\"},\"colorscale\":[[0.0,\"#0d0887\"],[0.1111111111111111,\"#46039f\"],[0.2222222222222222,\"#7201a8\"],[0.3333333333333333,\"#9c179e\"],[0.4444444444444444,\"#bd3786\"],[0.5555555555555556,\"#d8576b\"],[0.6666666666666666,\"#ed7953\"],[0.7777777777777778,\"#fb9f3a\"],[0.8888888888888888,\"#fdca26\"],[1.0,\"#f0f921\"]]}],\"heatmap\":[{\"type\":\"heatmap\",\"colorbar\":{\"outlinewidth\":0,\"ticks\":\"\"},\"colorscale\":[[0.0,\"#0d0887\"],[0.1111111111111111,\"#46039f\"],[0.2222222222222222,\"#7201a8\"],[0.3333333333333333,\"#9c179e\"],[0.4444444444444444,\"#bd3786\"],[0.5555555555555556,\"#d8576b\"],[0.6666666666666666,\"#ed7953\"],[0.7777777777777778,\"#fb9f3a\"],[0.8888888888888888,\"#fdca26\"],[1.0,\"#f0f921\"]]}],\"heatmapgl\":[{\"type\":\"heatmapgl\",\"colorbar\":{\"outlinewidth\":0,\"ticks\":\"\"},\"colorscale\":[[0.0,\"#0d0887\"],[0.1111111111111111,\"#46039f\"],[0.2222222222222222,\"#7201a8\"],[0.3333333333333333,\"#9c179e\"],[0.4444444444444444,\"#bd3786\"],[0.5555555555555556,\"#d8576b\"],[0.6666666666666666,\"#ed7953\"],[0.7777777777777778,\"#fb9f3a\"],[0.8888888888888888,\"#fdca26\"],[1.0,\"#f0f921\"]]}],\"contourcarpet\":[{\"type\":\"contourcarpet\",\"colorbar\":{\"outlinewidth\":0,\"ticks\":\"\"}}],\"contour\":[{\"type\":\"contour\",\"colorbar\":{\"outlinewidth\":0,\"ticks\":\"\"},\"colorscale\":[[0.0,\"#0d0887\"],[0.1111111111111111,\"#46039f\"],[0.2222222222222222,\"#7201a8\"],[0.3333333333333333,\"#9c179e\"],[0.4444444444444444,\"#bd3786\"],[0.5555555555555556,\"#d8576b\"],[0.6666666666666666,\"#ed7953\"],[0.7777777777777778,\"#fb9f3a\"],[0.8888888888888888,\"#fdca26\"],[1.0,\"#f0f921\"]]}],\"surface\":[{\"type\":\"surface\",\"colorbar\":{\"outlinewidth\":0,\"ticks\":\"\"},\"colorscale\":[[0.0,\"#0d0887\"],[0.1111111111111111,\"#46039f\"],[0.2222222222222222,\"#7201a8\"],[0.3333333333333333,\"#9c179e\"],[0.4444444444444444,\"#bd3786\"],[0.5555555555555556,\"#d8576b\"],[0.6666666666666666,\"#ed7953\"],[0.7777777777777778,\"#fb9f3a\"],[0.8888888888888888,\"#fdca26\"],[1.0,\"#f0f921\"]]}],\"mesh3d\":[{\"type\":\"mesh3d\",\"colorbar\":{\"outlinewidth\":0,\"ticks\":\"\"}}],\"scatter\":[{\"fillpattern\":{\"fillmode\":\"overlay\",\"size\":10,\"solidity\":0.2},\"type\":\"scatter\"}],\"parcoords\":[{\"type\":\"parcoords\",\"line\":{\"colorbar\":{\"outlinewidth\":0,\"ticks\":\"\"}}}],\"scatterpolargl\":[{\"type\":\"scatterpolargl\",\"marker\":{\"colorbar\":{\"outlinewidth\":0,\"ticks\":\"\"}}}],\"bar\":[{\"error_x\":{\"color\":\"#2a3f5f\"},\"error_y\":{\"color\":\"#2a3f5f\"},\"marker\":{\"line\":{\"color\":\"#E5ECF6\",\"width\":0.5},\"pattern\":{\"fillmode\":\"overlay\",\"size\":10,\"solidity\":0.2}},\"type\":\"bar\"}],\"scattergeo\":[{\"type\":\"scattergeo\",\"marker\":{\"colorbar\":{\"outlinewidth\":0,\"ticks\":\"\"}}}],\"scatterpolar\":[{\"type\":\"scatterpolar\",\"marker\":{\"colorbar\":{\"outlinewidth\":0,\"ticks\":\"\"}}}],\"histogram\":[{\"marker\":{\"pattern\":{\"fillmode\":\"overlay\",\"size\":10,\"solidity\":0.2}},\"type\":\"histogram\"}],\"scattergl\":[{\"type\":\"scattergl\",\"marker\":{\"colorbar\":{\"outlinewidth\":0,\"ticks\":\"\"}}}],\"scatter3d\":[{\"type\":\"scatter3d\",\"line\":{\"colorbar\":{\"outlinewidth\":0,\"ticks\":\"\"}},\"marker\":{\"colorbar\":{\"outlinewidth\":0,\"ticks\":\"\"}}}],\"scattermapbox\":[{\"type\":\"scattermapbox\",\"marker\":{\"colorbar\":{\"outlinewidth\":0,\"ticks\":\"\"}}}],\"scatterternary\":[{\"type\":\"scatterternary\",\"marker\":{\"colorbar\":{\"outlinewidth\":0,\"ticks\":\"\"}}}],\"scattercarpet\":[{\"type\":\"scattercarpet\",\"marker\":{\"colorbar\":{\"outlinewidth\":0,\"ticks\":\"\"}}}],\"carpet\":[{\"aaxis\":{\"endlinecolor\":\"#2a3f5f\",\"gridcolor\":\"white\",\"linecolor\":\"white\",\"minorgridcolor\":\"white\",\"startlinecolor\":\"#2a3f5f\"},\"baxis\":{\"endlinecolor\":\"#2a3f5f\",\"gridcolor\":\"white\",\"linecolor\":\"white\",\"minorgridcolor\":\"white\",\"startlinecolor\":\"#2a3f5f\"},\"type\":\"carpet\"}],\"table\":[{\"cells\":{\"fill\":{\"color\":\"#EBF0F8\"},\"line\":{\"color\":\"white\"}},\"header\":{\"fill\":{\"color\":\"#C8D4E3\"},\"line\":{\"color\":\"white\"}},\"type\":\"table\"}],\"barpolar\":[{\"marker\":{\"line\":{\"color\":\"#E5ECF6\",\"width\":0.5},\"pattern\":{\"fillmode\":\"overlay\",\"size\":10,\"solidity\":0.2}},\"type\":\"barpolar\"}],\"pie\":[{\"automargin\":true,\"type\":\"pie\"}]},\"layout\":{\"autotypenumbers\":\"strict\",\"colorway\":[\"#636efa\",\"#EF553B\",\"#00cc96\",\"#ab63fa\",\"#FFA15A\",\"#19d3f3\",\"#FF6692\",\"#B6E880\",\"#FF97FF\",\"#FECB52\"],\"font\":{\"color\":\"#2a3f5f\"},\"hovermode\":\"closest\",\"hoverlabel\":{\"align\":\"left\"},\"paper_bgcolor\":\"white\",\"plot_bgcolor\":\"#E5ECF6\",\"polar\":{\"bgcolor\":\"#E5ECF6\",\"angularaxis\":{\"gridcolor\":\"white\",\"linecolor\":\"white\",\"ticks\":\"\"},\"radialaxis\":{\"gridcolor\":\"white\",\"linecolor\":\"white\",\"ticks\":\"\"}},\"ternary\":{\"bgcolor\":\"#E5ECF6\",\"aaxis\":{\"gridcolor\":\"white\",\"linecolor\":\"white\",\"ticks\":\"\"},\"baxis\":{\"gridcolor\":\"white\",\"linecolor\":\"white\",\"ticks\":\"\"},\"caxis\":{\"gridcolor\":\"white\",\"linecolor\":\"white\",\"ticks\":\"\"}},\"coloraxis\":{\"colorbar\":{\"outlinewidth\":0,\"ticks\":\"\"}},\"colorscale\":{\"sequential\":[[0.0,\"#0d0887\"],[0.1111111111111111,\"#46039f\"],[0.2222222222222222,\"#7201a8\"],[0.3333333333333333,\"#9c179e\"],[0.4444444444444444,\"#bd3786\"],[0.5555555555555556,\"#d8576b\"],[0.6666666666666666,\"#ed7953\"],[0.7777777777777778,\"#fb9f3a\"],[0.8888888888888888,\"#fdca26\"],[1.0,\"#f0f921\"]],\"sequentialminus\":[[0.0,\"#0d0887\"],[0.1111111111111111,\"#46039f\"],[0.2222222222222222,\"#7201a8\"],[0.3333333333333333,\"#9c179e\"],[0.4444444444444444,\"#bd3786\"],[0.5555555555555556,\"#d8576b\"],[0.6666666666666666,\"#ed7953\"],[0.7777777777777778,\"#fb9f3a\"],[0.8888888888888888,\"#fdca26\"],[1.0,\"#f0f921\"]],\"diverging\":[[0,\"#8e0152\"],[0.1,\"#c51b7d\"],[0.2,\"#de77ae\"],[0.3,\"#f1b6da\"],[0.4,\"#fde0ef\"],[0.5,\"#f7f7f7\"],[0.6,\"#e6f5d0\"],[0.7,\"#b8e186\"],[0.8,\"#7fbc41\"],[0.9,\"#4d9221\"],[1,\"#276419\"]]},\"xaxis\":{\"gridcolor\":\"white\",\"linecolor\":\"white\",\"ticks\":\"\",\"title\":{\"standoff\":15},\"zerolinecolor\":\"white\",\"automargin\":true,\"zerolinewidth\":2},\"yaxis\":{\"gridcolor\":\"white\",\"linecolor\":\"white\",\"ticks\":\"\",\"title\":{\"standoff\":15},\"zerolinecolor\":\"white\",\"automargin\":true,\"zerolinewidth\":2},\"scene\":{\"xaxis\":{\"backgroundcolor\":\"#E5ECF6\",\"gridcolor\":\"white\",\"linecolor\":\"white\",\"showbackground\":true,\"ticks\":\"\",\"zerolinecolor\":\"white\",\"gridwidth\":2},\"yaxis\":{\"backgroundcolor\":\"#E5ECF6\",\"gridcolor\":\"white\",\"linecolor\":\"white\",\"showbackground\":true,\"ticks\":\"\",\"zerolinecolor\":\"white\",\"gridwidth\":2},\"zaxis\":{\"backgroundcolor\":\"#E5ECF6\",\"gridcolor\":\"white\",\"linecolor\":\"white\",\"showbackground\":true,\"ticks\":\"\",\"zerolinecolor\":\"white\",\"gridwidth\":2}},\"shapedefaults\":{\"line\":{\"color\":\"#2a3f5f\"}},\"annotationdefaults\":{\"arrowcolor\":\"#2a3f5f\",\"arrowhead\":0,\"arrowwidth\":1},\"geo\":{\"bgcolor\":\"white\",\"landcolor\":\"#E5ECF6\",\"subunitcolor\":\"white\",\"showland\":true,\"showlakes\":true,\"lakecolor\":\"white\"},\"title\":{\"x\":0.05},\"mapbox\":{\"style\":\"light\"}}},\"title\":{\"font\":{\"size\":16},\"text\":\"Retrieval Augmented Generation - Evaluation for QwenMed 2\"},\"yaxis\":{\"range\":[0,1],\"tickformat\":\".0%\"},\"barmode\":\"group\",\"height\":500,\"width\":800},                        {\"responsive\": true}                    ).then(function(){\n",
       "                            \n",
       "var gd = document.getElementById('104aaf7c-e2df-4ef7-b78e-cbcadbc570cb');\n",
       "var x = new MutationObserver(function (mutations, observer) {{\n",
       "        var display = window.getComputedStyle(gd).display;\n",
       "        if (!display || display === 'none') {{\n",
       "            console.log([gd, 'removed!']);\n",
       "            Plotly.purge(gd);\n",
       "            observer.disconnect();\n",
       "        }}\n",
       "}});\n",
       "\n",
       "// Listen for the removal of the full notebook cells\n",
       "var notebookContainer = gd.closest('#notebook-container');\n",
       "if (notebookContainer) {{\n",
       "    x.observe(notebookContainer, {childList: true});\n",
       "}}\n",
       "\n",
       "// Listen for the clearing of the current output cell\n",
       "var outputEl = gd.closest('.output');\n",
       "if (outputEl) {{\n",
       "    x.observe(outputEl, {childList: true});\n",
       "}}\n",
       "\n",
       "                        })                };                });            </script>        </div>"
      ]
     },
     "metadata": {},
     "output_type": "display_data"
    }
   ],
   "source": [
    "import plotly.graph_objects as go\n",
    "\n",
    "metrics = ['answer_relevancy', 'faithfulness', 'answer_correctness']\n",
    "models = ['QwenMed Base', 'QwenMed Multi', 'QwenMed Ensemble']\n",
    "colors = ['blue', 'red', 'green']\n",
    "\n",
    "fig = go.Figure()\n",
    "\n",
    "for data, name, color in zip([QwenMedBase, QwenMedMulti, QwenMedEnsemble], models, colors):\n",
    "    fig.add_trace(go.Bar(\n",
    "        name=name,\n",
    "        x=metrics,\n",
    "        y=data[metrics].values.flatten(),\n",
    "        marker_color=color\n",
    "    ))\n",
    "\n",
    "fig.update_layout(\n",
    "    title=dict(\n",
    "        text=\"Retrieval Augmented Generation - Evaluation for QwenMed 2\",\n",
    "        font=dict(size=16)\n",
    "    ),\n",
    "    barmode='group',\n",
    "    yaxis=dict(range=[0, 1], tickformat='.0%'),\n",
    "    height=500,\n",
    "    width=800\n",
    ")\n",
    "\n",
    "fig.show()"
   ]
  },
  {
   "cell_type": "markdown",
   "metadata": {
    "id": "GPG09Ld7_nRy",
    "jp-MarkdownHeadingCollapsed": true,
    "tags": []
   },
   "source": [
    "## GRAFICI"
   ]
  },
  {
   "cell_type": "markdown",
   "metadata": {
    "id": "bPCszcFY_nRy",
    "jp-MarkdownHeadingCollapsed": true,
    "tags": []
   },
   "source": [
    "### GRAFICO NORMALE FATTO BENE"
   ]
  },
  {
   "cell_type": "code",
   "execution_count": null,
   "metadata": {
    "id": "UDWH9XN1_nRy",
    "tags": []
   },
   "outputs": [],
   "source": [
    "import numpy as np\n",
    "import matplotlib.pyplot as plt\n",
    "import seaborn as sns\n",
    "import pandas as pd\n",
    "\n",
    "# Funzione di analisi\n",
    "def analysis(llama_df, qwen_df):\n",
    "    sns.set_style(\"whitegrid\")\n",
    "    fig, axs = plt.subplots(1, 3, figsize=(12, 5))\n",
    "    columns = llama_df.columns\n",
    "    for i, col in enumerate(columns):\n",
    "        sns.kdeplot(data=llama_df[col].dropna(), legend=False, ax=axs[i], fill=True, label='llama3.1')\n",
    "        sns.kdeplot(data=qwen_df[col].dropna(), legend=False, ax=axs[i], fill=True, label='qwen2')\n",
    "        axs[i].set_title(f'{col} scores distribution')\n",
    "        axs[i].legend()\n",
    "    plt.tight_layout()\n",
    "    plt.show()\n",
    "\n",
    "result_llama_df = result.to_pandas()\n",
    "result_qwen_df = result2.to_pandas()\n",
    "\n",
    "# Chiamata alla funzione di analisi\n",
    "analysis(\n",
    "    result_llama_df[['faithfulness', 'answer_relevancy', 'answer_correctness']],\n",
    "    result_qwen_df[['faithfulness', 'answer_relevancy', 'answer_correctness']]\n",
    ")\n"
   ]
  },
  {
   "cell_type": "markdown",
   "metadata": {
    "id": "O_23rEHC_nRz",
    "jp-MarkdownHeadingCollapsed": true,
    "tags": []
   },
   "source": [
    "### ESEMPIO CON DIZIONARIO NUOVO DI VALORI"
   ]
  },
  {
   "cell_type": "code",
   "execution_count": null,
   "metadata": {
    "id": "KUBJ4wIV_nRz",
    "outputId": "48290260-1d2c-47b3-ec07-5132c8bb78b4",
    "tags": []
   },
   "outputs": [],
   "source": [
    "import numpy as np\n",
    "import matplotlib.pyplot as plt\n",
    "import seaborn as sns\n",
    "import pandas as pd\n",
    "\n",
    "# Funzione di analisi\n",
    "def analysis(llama_df, qwen_df):\n",
    "    sns.set_style(\"whitegrid\")\n",
    "    fig, axs = plt.subplots(1, 3, figsize=(12, 5))\n",
    "    columns = llama_df.columns\n",
    "    for i, col in enumerate(columns):\n",
    "        sns.kdeplot(data=llama_df[col].dropna(), legend=False, ax=axs[i], fill=True, label='llama3.1')\n",
    "        sns.kdeplot(data=qwen_df[col].dropna(), legend=False, ax=axs[i], fill=True, label='qwen2')\n",
    "        axs[i].set_title(f'{col} scores distribution')\n",
    "        axs[i].legend()\n",
    "    plt.tight_layout()\n",
    "    plt.show()\n",
    "\n",
    "result_llama_df = evaluation_results[\"llama3.1\"]['base'].to_pandas()\n",
    "result_qwen_df = evaluation_results[\"qwen2\"]['base'].to_pandas()\n",
    "\n",
    "# Chiamata alla funzione di analisi\n",
    "analysis(\n",
    "    result_llama_df[['faithfulness', 'answer_relevancy', 'answer_correctness']],\n",
    "    result_qwen_df[['faithfulness', 'answer_relevancy', 'answer_correctness']]\n",
    ")\n"
   ]
  },
  {
   "cell_type": "markdown",
   "metadata": {
    "id": "_u6iScVP_nRz",
    "jp-MarkdownHeadingCollapsed": true,
    "tags": []
   },
   "source": [
    "### GRAFICO CON MEDIA E DEV STANDARD"
   ]
  },
  {
   "cell_type": "code",
   "execution_count": null,
   "metadata": {
    "id": "qNd9sl7h_nRz",
    "tags": []
   },
   "outputs": [],
   "source": [
    "import numpy as np\n",
    "import matplotlib.pyplot as plt\n",
    "import seaborn as sns\n",
    "import pandas as pd\n",
    "\n",
    "# Funzione di analisi\n",
    "def analysis(llama_df, qwen_df):\n",
    "    sns.set_style(\"whitegrid\")\n",
    "    fig, axs = plt.subplots(1, 3, figsize=(15, 5))  # Aumentata la larghezza della figura per migliorare la leggibilità\n",
    "    columns = llama_df.columns\n",
    "\n",
    "    # Calcolo delle statistiche per ogni colonna\n",
    "    stats = {}\n",
    "    for col in columns:\n",
    "        llama_mean = llama_df[col].mean()\n",
    "        llama_std = llama_df[col].std()\n",
    "        qwen_mean = qwen_df[col].mean()\n",
    "        qwen_std = qwen_df[col].std()\n",
    "        stats[col] = {\n",
    "            \"llama3.1\": (llama_mean, llama_std),\n",
    "            \"qwen2\": (qwen_mean, qwen_std)\n",
    "        }\n",
    "\n",
    "    for i, col in enumerate(columns):\n",
    "        sns.kdeplot(data=llama_df[col].dropna(), legend=False, ax=axs[i], fill=True, label='llama3.1')\n",
    "        sns.kdeplot(data=qwen_df[col].dropna(), legend=False, ax=axs[i], fill=True, label='qwen2')\n",
    "        axs[i].set_title(f'{col} scores distribution')\n",
    "        axs[i].set_xlabel(col)\n",
    "        axs[i].set_ylabel('Density')\n",
    "        axs[i].legend()\n",
    "\n",
    "        # Annotazioni per le statistiche\n",
    "        for j, (label, (mean, std)) in enumerate(stats[col].items()):\n",
    "            axs[i].annotate(f'{label}:\\nMean: {mean:.2f}\\nStd: {std:.2f}',\n",
    "                            xy=(0.1, 0.9 - j * 0.2),\n",
    "                            xycoords='axes fraction',\n",
    "                            fontsize=9,\n",
    "                            bbox=dict(boxstyle=\"round\", edgecolor=\"none\", facecolor=\"lightgrey\"))\n",
    "\n",
    "    plt.tight_layout()\n",
    "    plt.show()\n",
    "\n",
    "# Esempio di chiamata alla funzione con i DataFrame di input\n",
    "# result_llama_df = result.to_pandas()\n",
    "# result_qwen_df = result2.to_pandas()\n",
    "\n",
    "# Chiamata alla funzione di analisi\n",
    "analysis(\n",
    "    result_llama_df[['faithfulness', 'answer_relevancy', 'answer_correctness']],\n",
    "    result_qwen_df[['faithfulness', 'answer_relevancy', 'answer_correctness']]\n",
    ")\n"
   ]
  },
  {
   "cell_type": "markdown",
   "metadata": {
    "id": "L_6CXhTD_nRz",
    "jp-MarkdownHeadingCollapsed": true,
    "tags": []
   },
   "source": [
    "### GRAFICO CON SOLO MEDIA E VISIONE VALORE"
   ]
  },
  {
   "cell_type": "code",
   "execution_count": null,
   "metadata": {
    "id": "GwfAdYIb_nRz",
    "tags": []
   },
   "outputs": [],
   "source": [
    "import numpy as np\n",
    "import matplotlib.pyplot as plt\n",
    "import seaborn as sns\n",
    "import pandas as pd\n",
    "\n",
    "# Funzione di analisi\n",
    "def analysis(llama_df, qwen_df):\n",
    "    sns.set_style(\"whitegrid\")\n",
    "    fig, axs = plt.subplots(1, 3, figsize=(15, 5))\n",
    "    columns = llama_df.columns\n",
    "    for i, col in enumerate(columns):\n",
    "        # Plot KDE\n",
    "        sns.kdeplot(data=llama_df[col].dropna(), legend=False, ax=axs[i], fill=True, label='llama3.1')\n",
    "        sns.kdeplot(data=qwen_df[col].dropna(), legend=False, ax=axs[i], fill=True, label='qwen2')\n",
    "\n",
    "        # Add title and legend\n",
    "        axs[i].set_title(f'{col} scores distribution')\n",
    "        axs[i].legend()\n",
    "\n",
    "        # Calculate and annotate means\n",
    "        llama_mean = llama_df[col].dropna().mean()\n",
    "        qwen_mean = qwen_df[col].dropna().mean()\n",
    "\n",
    "        # Annotate means\n",
    "        for j, (label, mean, color) in enumerate([\n",
    "            ('llama3.1', llama_mean, 'black'),\n",
    "            ('qwen2', qwen_mean, 'black'),\n",
    "        ]):\n",
    "            axs[i].annotate(f'{label}: {mean:.2f}',\n",
    "                            xy=(0.1, 0.9 - j*0.2),\n",
    "                            xycoords='axes fraction',\n",
    "                            fontsize=9,\n",
    "                            color=color,\n",
    "                            bbox=dict(boxstyle=\"round\", edgecolor=\"none\", facecolor=\"lightgrey\"))\n",
    "\n",
    "    plt.tight_layout()\n",
    "    plt.show()\n",
    "\n",
    "result_llama_df = result.to_pandas()\n",
    "result_qwen_df = result2.to_pandas()\n",
    "\n",
    "# Chiamata alla funzione di analisi\n",
    "analysis(\n",
    "    result_llama_df[['faithfulness', 'answer_relevancy', 'answer_correctness']],\n",
    "    result_qwen_df[['faithfulness', 'answer_relevancy', 'answer_correctness']]\n",
    ")\n"
   ]
  },
  {
   "cell_type": "code",
   "execution_count": null,
   "metadata": {
    "id": "RfSl4m_7_nR0"
   },
   "outputs": [],
   "source": [
    "#OPENAI sk-proj-uXNi8fb3igYegVvB9dwnT3BlbkFJQsHCZM9jE44BAjZANsMY"
   ]
  },
  {
   "cell_type": "code",
   "execution_count": null,
   "metadata": {
    "id": "CK-EVnlT_nR0"
   },
   "outputs": [],
   "source": [
    "#valuto con chat gpt\n",
    "\n",
    "from langchain_core.language_models import BaseLanguageModel\n",
    "from langchain_core.embeddings import Embeddings\n",
    "from ragas import evaluate\n",
    "\n",
    "#langchain_llm =  # any langchain LLM instance\n",
    "#langchain_embeddings = # any langchain Embeddings instance\n",
    "\n",
    "result = evaluate(\n",
    "        dataset = dataset,\n",
    "        metrics=[\n",
    "              faithfulness,\n",
    "              answer_relevancy,\n",
    "              answer_correctness,\n",
    "              context_recall,\n",
    "              context_precision\n",
    "              #context_relevancy,\n",
    "          ],\n",
    "        raise_exceptions=False\n",
    "    )\n"
   ]
  },
  {
   "cell_type": "code",
   "execution_count": null,
   "metadata": {
    "id": "75nx5Wwl0VSd",
    "tags": []
   },
   "outputs": [],
   "source": [
    "#ESEGUIRE SOLO PER SALVARMI E CONTROLLARE I CSV DI CIO' CHE STAMPA\n",
    "result.to_pandas()\n",
    "eval_test= result.to_pandas()\n",
    "eval_test\n",
    "result2.to_pandas()\n",
    "eval_test2= result2.to_pandas()\n",
    "eval_test2"
   ]
  },
  {
   "cell_type": "code",
   "execution_count": null,
   "metadata": {
    "id": "Barnqplw0ZaM",
    "tags": []
   },
   "outputs": [],
   "source": [
    "#creo il csv del test set IN QUESTIONE\n",
    "eval_test.to_csv('Eval_testsetLLAMA3,1.csv')\n",
    "eval_test"
   ]
  },
  {
   "cell_type": "code",
   "execution_count": null,
   "metadata": {
    "id": "ayc9UPKX_nR0",
    "tags": []
   },
   "outputs": [],
   "source": [
    "import pandas as pd\n",
    "import numpy as np\n",
    "import matplotlib.pyplot as plt\n",
    "import seaborn as sns\n",
    "\n",
    "# I tuoi risultati\n",
    "resultllama = {\n",
    "    'faithfulness': 0.8542,\n",
    "    'answer_relevancy': 0.5593,\n",
    "    'answer_correctness': 0.5649,\n",
    "    'context_recall': 0.7227,\n",
    "    'context_precision': 0.9167\n",
    "}\n",
    "\n",
    "resultqwen = {\n",
    "    'faithfulness': 0.8921,\n",
    "    'answer_relevancy': 0.6875,\n",
    "    'answer_correctness': 0.6784,\n",
    "    'context_recall': 0.7999,\n",
    "    'context_precision': 0.9123\n",
    "}\n",
    "\n",
    "# Convertire i dizionari in DataFrame\n",
    "result_llama_df = pd.DataFrame([resultllama])\n",
    "result_qwen_df = pd.DataFrame([resultqwen])\n",
    "\n",
    "# Unire i DataFrame per il confronto\n",
    "comparison_df = pd.DataFrame({\n",
    "    'metric': list(resultllama.keys()),\n",
    "    'llama': list(resultllama.values()),\n",
    "    'qwen': list(resultqwen.values())\n",
    "})\n",
    "\n",
    "def analysis(comparison_df):\n",
    "    sns.set_style(\"whitegrid\")\n",
    "    comparison_df.set_index('metric').plot(kind='bar', figsize=(12, 6))\n",
    "    plt.title('Comparison of Metrics between Llama and Qwen')\n",
    "    plt.ylabel('Scores')\n",
    "    plt.xlabel('Metrics')\n",
    "    plt.xticks(rotation=45)\n",
    "    plt.legend(title='Model')\n",
    "    plt.tight_layout()\n",
    "    plt.show()\n",
    "\n",
    "# Eseguire l'analisi sui dati\n",
    "analysis(comparison_df)\n"
   ]
  }
 ],
 "metadata": {
  "accelerator": "GPU",
  "colab": {
   "gpuType": "T4",
   "provenance": []
  },
  "kernelspec": {
   "display_name": "Python 3 (ipykernel)",
   "language": "python",
   "name": "python3"
  },
  "language_info": {
   "codemirror_mode": {
    "name": "ipython",
    "version": 3
   },
   "file_extension": ".py",
   "mimetype": "text/x-python",
   "name": "python",
   "nbconvert_exporter": "python",
   "pygments_lexer": "ipython3",
   "version": "3.10.10"
  },
  "widgets": {
   "application/vnd.jupyter.widget-state+json": {
    "00dcae1beca8478e8c596ca973954bf3": {
     "model_module": "@jupyter-widgets/base",
     "model_module_version": "1.2.0",
     "model_name": "LayoutModel",
     "state": {
      "_model_module": "@jupyter-widgets/base",
      "_model_module_version": "1.2.0",
      "_model_name": "LayoutModel",
      "_view_count": null,
      "_view_module": "@jupyter-widgets/base",
      "_view_module_version": "1.2.0",
      "_view_name": "LayoutView",
      "align_content": null,
      "align_items": null,
      "align_self": null,
      "border": null,
      "bottom": null,
      "display": null,
      "flex": null,
      "flex_flow": null,
      "grid_area": null,
      "grid_auto_columns": null,
      "grid_auto_flow": null,
      "grid_auto_rows": null,
      "grid_column": null,
      "grid_gap": null,
      "grid_row": null,
      "grid_template_areas": null,
      "grid_template_columns": null,
      "grid_template_rows": null,
      "height": null,
      "justify_content": null,
      "justify_items": null,
      "left": null,
      "margin": null,
      "max_height": null,
      "max_width": null,
      "min_height": null,
      "min_width": null,
      "object_fit": null,
      "object_position": null,
      "order": null,
      "overflow": null,
      "overflow_x": null,
      "overflow_y": null,
      "padding": null,
      "right": null,
      "top": null,
      "visibility": "hidden",
      "width": null
     }
    },
    "08b8dc02bd6342518d6c3ed06aad4196": {
     "model_module": "@jupyter-widgets/base",
     "model_module_version": "1.2.0",
     "model_name": "LayoutModel",
     "state": {
      "_model_module": "@jupyter-widgets/base",
      "_model_module_version": "1.2.0",
      "_model_name": "LayoutModel",
      "_view_count": null,
      "_view_module": "@jupyter-widgets/base",
      "_view_module_version": "1.2.0",
      "_view_name": "LayoutView",
      "align_content": null,
      "align_items": null,
      "align_self": null,
      "border": null,
      "bottom": null,
      "display": null,
      "flex": null,
      "flex_flow": null,
      "grid_area": null,
      "grid_auto_columns": null,
      "grid_auto_flow": null,
      "grid_auto_rows": null,
      "grid_column": null,
      "grid_gap": null,
      "grid_row": null,
      "grid_template_areas": null,
      "grid_template_columns": null,
      "grid_template_rows": null,
      "height": null,
      "justify_content": null,
      "justify_items": null,
      "left": null,
      "margin": null,
      "max_height": null,
      "max_width": null,
      "min_height": null,
      "min_width": null,
      "object_fit": null,
      "object_position": null,
      "order": null,
      "overflow": null,
      "overflow_x": null,
      "overflow_y": null,
      "padding": null,
      "right": null,
      "top": null,
      "visibility": null,
      "width": null
     }
    },
    "0f6e7d459ca647109c754c044a13b8ff": {
     "model_module": "@jupyter-widgets/controls",
     "model_module_version": "1.5.0",
     "model_name": "DescriptionStyleModel",
     "state": {
      "_model_module": "@jupyter-widgets/controls",
      "_model_module_version": "1.5.0",
      "_model_name": "DescriptionStyleModel",
      "_view_count": null,
      "_view_module": "@jupyter-widgets/base",
      "_view_module_version": "1.2.0",
      "_view_name": "StyleView",
      "description_width": ""
     }
    },
    "11b7ca5400e84648a6e364d2f8cc193c": {
     "model_module": "@jupyter-widgets/controls",
     "model_module_version": "1.5.0",
     "model_name": "HBoxModel",
     "state": {
      "_dom_classes": [],
      "_model_module": "@jupyter-widgets/controls",
      "_model_module_version": "1.5.0",
      "_model_name": "HBoxModel",
      "_view_count": null,
      "_view_module": "@jupyter-widgets/controls",
      "_view_module_version": "1.5.0",
      "_view_name": "HBoxView",
      "box_style": "",
      "children": [
       "IPY_MODEL_85fb31282c494959bb8184607dca6021",
       "IPY_MODEL_e05b9e80147749fcbda2a8b974116880",
       "IPY_MODEL_fb09d567dba94414b09751f20bc78fd3"
      ],
      "layout": "IPY_MODEL_00dcae1beca8478e8c596ca973954bf3"
     }
    },
    "1d4f00f9d07e4be6a9e0fa84432640c5": {
     "model_module": "@jupyter-widgets/base",
     "model_module_version": "1.2.0",
     "model_name": "LayoutModel",
     "state": {
      "_model_module": "@jupyter-widgets/base",
      "_model_module_version": "1.2.0",
      "_model_name": "LayoutModel",
      "_view_count": null,
      "_view_module": "@jupyter-widgets/base",
      "_view_module_version": "1.2.0",
      "_view_name": "LayoutView",
      "align_content": null,
      "align_items": null,
      "align_self": null,
      "border": null,
      "bottom": null,
      "display": null,
      "flex": null,
      "flex_flow": null,
      "grid_area": null,
      "grid_auto_columns": null,
      "grid_auto_flow": null,
      "grid_auto_rows": null,
      "grid_column": null,
      "grid_gap": null,
      "grid_row": null,
      "grid_template_areas": null,
      "grid_template_columns": null,
      "grid_template_rows": null,
      "height": null,
      "justify_content": null,
      "justify_items": null,
      "left": null,
      "margin": null,
      "max_height": null,
      "max_width": null,
      "min_height": null,
      "min_width": null,
      "object_fit": null,
      "object_position": null,
      "order": null,
      "overflow": null,
      "overflow_x": null,
      "overflow_y": null,
      "padding": null,
      "right": null,
      "top": null,
      "visibility": null,
      "width": null
     }
    },
    "2b586dc188434998a6d47e984d1a7d8d": {
     "model_module": "@jupyter-widgets/base",
     "model_module_version": "1.2.0",
     "model_name": "LayoutModel",
     "state": {
      "_model_module": "@jupyter-widgets/base",
      "_model_module_version": "1.2.0",
      "_model_name": "LayoutModel",
      "_view_count": null,
      "_view_module": "@jupyter-widgets/base",
      "_view_module_version": "1.2.0",
      "_view_name": "LayoutView",
      "align_content": null,
      "align_items": null,
      "align_self": null,
      "border": null,
      "bottom": null,
      "display": null,
      "flex": null,
      "flex_flow": null,
      "grid_area": null,
      "grid_auto_columns": null,
      "grid_auto_flow": null,
      "grid_auto_rows": null,
      "grid_column": null,
      "grid_gap": null,
      "grid_row": null,
      "grid_template_areas": null,
      "grid_template_columns": null,
      "grid_template_rows": null,
      "height": null,
      "justify_content": null,
      "justify_items": null,
      "left": null,
      "margin": null,
      "max_height": null,
      "max_width": null,
      "min_height": null,
      "min_width": null,
      "object_fit": null,
      "object_position": null,
      "order": null,
      "overflow": null,
      "overflow_x": null,
      "overflow_y": null,
      "padding": null,
      "right": null,
      "top": null,
      "visibility": null,
      "width": null
     }
    },
    "3ba044f88fd64a39bf6867db26aa8c98": {
     "model_module": "@jupyter-widgets/controls",
     "model_module_version": "1.5.0",
     "model_name": "ProgressStyleModel",
     "state": {
      "_model_module": "@jupyter-widgets/controls",
      "_model_module_version": "1.5.0",
      "_model_name": "ProgressStyleModel",
      "_view_count": null,
      "_view_module": "@jupyter-widgets/base",
      "_view_module_version": "1.2.0",
      "_view_name": "StyleView",
      "bar_color": null,
      "description_width": ""
     }
    },
    "4f2478ce413b464b9733fbc8368ae692": {
     "model_module": "@jupyter-widgets/base",
     "model_module_version": "1.2.0",
     "model_name": "LayoutModel",
     "state": {
      "_model_module": "@jupyter-widgets/base",
      "_model_module_version": "1.2.0",
      "_model_name": "LayoutModel",
      "_view_count": null,
      "_view_module": "@jupyter-widgets/base",
      "_view_module_version": "1.2.0",
      "_view_name": "LayoutView",
      "align_content": null,
      "align_items": null,
      "align_self": null,
      "border": null,
      "bottom": null,
      "display": null,
      "flex": null,
      "flex_flow": null,
      "grid_area": null,
      "grid_auto_columns": null,
      "grid_auto_flow": null,
      "grid_auto_rows": null,
      "grid_column": null,
      "grid_gap": null,
      "grid_row": null,
      "grid_template_areas": null,
      "grid_template_columns": null,
      "grid_template_rows": null,
      "height": null,
      "justify_content": null,
      "justify_items": null,
      "left": null,
      "margin": null,
      "max_height": null,
      "max_width": null,
      "min_height": null,
      "min_width": null,
      "object_fit": null,
      "object_position": null,
      "order": null,
      "overflow": null,
      "overflow_x": null,
      "overflow_y": null,
      "padding": null,
      "right": null,
      "top": null,
      "visibility": null,
      "width": null
     }
    },
    "50bab7802bc147e98528e7d469f8f649": {
     "model_module": "@jupyter-widgets/base",
     "model_module_version": "1.2.0",
     "model_name": "LayoutModel",
     "state": {
      "_model_module": "@jupyter-widgets/base",
      "_model_module_version": "1.2.0",
      "_model_name": "LayoutModel",
      "_view_count": null,
      "_view_module": "@jupyter-widgets/base",
      "_view_module_version": "1.2.0",
      "_view_name": "LayoutView",
      "align_content": null,
      "align_items": null,
      "align_self": null,
      "border": null,
      "bottom": null,
      "display": null,
      "flex": null,
      "flex_flow": null,
      "grid_area": null,
      "grid_auto_columns": null,
      "grid_auto_flow": null,
      "grid_auto_rows": null,
      "grid_column": null,
      "grid_gap": null,
      "grid_row": null,
      "grid_template_areas": null,
      "grid_template_columns": null,
      "grid_template_rows": null,
      "height": null,
      "justify_content": null,
      "justify_items": null,
      "left": null,
      "margin": null,
      "max_height": null,
      "max_width": null,
      "min_height": null,
      "min_width": null,
      "object_fit": null,
      "object_position": null,
      "order": null,
      "overflow": null,
      "overflow_x": null,
      "overflow_y": null,
      "padding": null,
      "right": null,
      "top": null,
      "visibility": null,
      "width": null
     }
    },
    "50d66d72b8b04452bd8733ec87cdcc01": {
     "model_module": "@jupyter-widgets/controls",
     "model_module_version": "1.5.0",
     "model_name": "HBoxModel",
     "state": {
      "_dom_classes": [],
      "_model_module": "@jupyter-widgets/controls",
      "_model_module_version": "1.5.0",
      "_model_name": "HBoxModel",
      "_view_count": null,
      "_view_module": "@jupyter-widgets/controls",
      "_view_module_version": "1.5.0",
      "_view_name": "HBoxView",
      "box_style": "",
      "children": [
       "IPY_MODEL_9cea605ab2524f2983d0b526bf595c6c",
       "IPY_MODEL_be529eb916a04978949d42a5f70e0e28",
       "IPY_MODEL_9c295d4550d04e28a6c502a53c268476"
      ],
      "layout": "IPY_MODEL_f519b956aa1b45a3b552977a7da173eb"
     }
    },
    "5c94413d058249259d98dde145623926": {
     "model_module": "@jupyter-widgets/controls",
     "model_module_version": "1.5.0",
     "model_name": "DescriptionStyleModel",
     "state": {
      "_model_module": "@jupyter-widgets/controls",
      "_model_module_version": "1.5.0",
      "_model_name": "DescriptionStyleModel",
      "_view_count": null,
      "_view_module": "@jupyter-widgets/base",
      "_view_module_version": "1.2.0",
      "_view_name": "StyleView",
      "description_width": ""
     }
    },
    "84762018def04806aa56a3b002062719": {
     "model_module": "@jupyter-widgets/base",
     "model_module_version": "1.2.0",
     "model_name": "LayoutModel",
     "state": {
      "_model_module": "@jupyter-widgets/base",
      "_model_module_version": "1.2.0",
      "_model_name": "LayoutModel",
      "_view_count": null,
      "_view_module": "@jupyter-widgets/base",
      "_view_module_version": "1.2.0",
      "_view_name": "LayoutView",
      "align_content": null,
      "align_items": null,
      "align_self": null,
      "border": null,
      "bottom": null,
      "display": null,
      "flex": null,
      "flex_flow": null,
      "grid_area": null,
      "grid_auto_columns": null,
      "grid_auto_flow": null,
      "grid_auto_rows": null,
      "grid_column": null,
      "grid_gap": null,
      "grid_row": null,
      "grid_template_areas": null,
      "grid_template_columns": null,
      "grid_template_rows": null,
      "height": null,
      "justify_content": null,
      "justify_items": null,
      "left": null,
      "margin": null,
      "max_height": null,
      "max_width": null,
      "min_height": null,
      "min_width": null,
      "object_fit": null,
      "object_position": null,
      "order": null,
      "overflow": null,
      "overflow_x": null,
      "overflow_y": null,
      "padding": null,
      "right": null,
      "top": null,
      "visibility": null,
      "width": null
     }
    },
    "85fb31282c494959bb8184607dca6021": {
     "model_module": "@jupyter-widgets/controls",
     "model_module_version": "1.5.0",
     "model_name": "HTMLModel",
     "state": {
      "_dom_classes": [],
      "_model_module": "@jupyter-widgets/controls",
      "_model_module_version": "1.5.0",
      "_model_name": "HTMLModel",
      "_view_count": null,
      "_view_module": "@jupyter-widgets/controls",
      "_view_module_version": "1.5.0",
      "_view_name": "HTMLView",
      "description": "",
      "description_tooltip": null,
      "layout": "IPY_MODEL_50bab7802bc147e98528e7d469f8f649",
      "placeholder": "​",
      "style": "IPY_MODEL_ebe65f02f66b4c19b7847c01af5e6d0a",
      "value": "embedding nodes: 100%"
     }
    },
    "9c295d4550d04e28a6c502a53c268476": {
     "model_module": "@jupyter-widgets/controls",
     "model_module_version": "1.5.0",
     "model_name": "HTMLModel",
     "state": {
      "_dom_classes": [],
      "_model_module": "@jupyter-widgets/controls",
      "_model_module_version": "1.5.0",
      "_model_name": "HTMLModel",
      "_view_count": null,
      "_view_module": "@jupyter-widgets/controls",
      "_view_module_version": "1.5.0",
      "_view_name": "HTMLView",
      "description": "",
      "description_tooltip": null,
      "layout": "IPY_MODEL_4f2478ce413b464b9733fbc8368ae692",
      "placeholder": "​",
      "style": "IPY_MODEL_5c94413d058249259d98dde145623926",
      "value": " 27/31 [00:59&lt;00:13,  3.31s/it]"
     }
    },
    "9cea605ab2524f2983d0b526bf595c6c": {
     "model_module": "@jupyter-widgets/controls",
     "model_module_version": "1.5.0",
     "model_name": "HTMLModel",
     "state": {
      "_dom_classes": [],
      "_model_module": "@jupyter-widgets/controls",
      "_model_module_version": "1.5.0",
      "_model_name": "HTMLModel",
      "_view_count": null,
      "_view_module": "@jupyter-widgets/controls",
      "_view_module_version": "1.5.0",
      "_view_name": "HTMLView",
      "description": "",
      "description_tooltip": null,
      "layout": "IPY_MODEL_1d4f00f9d07e4be6a9e0fa84432640c5",
      "placeholder": "​",
      "style": "IPY_MODEL_0f6e7d459ca647109c754c044a13b8ff",
      "value": "Generating:  87%"
     }
    },
    "ab31e4467f5f4e70b536b8de0675ebb8": {
     "model_module": "@jupyter-widgets/controls",
     "model_module_version": "1.5.0",
     "model_name": "DescriptionStyleModel",
     "state": {
      "_model_module": "@jupyter-widgets/controls",
      "_model_module_version": "1.5.0",
      "_model_name": "DescriptionStyleModel",
      "_view_count": null,
      "_view_module": "@jupyter-widgets/base",
      "_view_module_version": "1.2.0",
      "_view_name": "StyleView",
      "description_width": ""
     }
    },
    "be529eb916a04978949d42a5f70e0e28": {
     "model_module": "@jupyter-widgets/controls",
     "model_module_version": "1.5.0",
     "model_name": "FloatProgressModel",
     "state": {
      "_dom_classes": [],
      "_model_module": "@jupyter-widgets/controls",
      "_model_module_version": "1.5.0",
      "_model_name": "FloatProgressModel",
      "_view_count": null,
      "_view_module": "@jupyter-widgets/controls",
      "_view_module_version": "1.5.0",
      "_view_name": "ProgressView",
      "bar_style": "",
      "description": "",
      "description_tooltip": null,
      "layout": "IPY_MODEL_84762018def04806aa56a3b002062719",
      "max": 31,
      "min": 0,
      "orientation": "horizontal",
      "style": "IPY_MODEL_3ba044f88fd64a39bf6867db26aa8c98",
      "value": 27
     }
    },
    "e05b9e80147749fcbda2a8b974116880": {
     "model_module": "@jupyter-widgets/controls",
     "model_module_version": "1.5.0",
     "model_name": "FloatProgressModel",
     "state": {
      "_dom_classes": [],
      "_model_module": "@jupyter-widgets/controls",
      "_model_module_version": "1.5.0",
      "_model_name": "FloatProgressModel",
      "_view_count": null,
      "_view_module": "@jupyter-widgets/controls",
      "_view_module_version": "1.5.0",
      "_view_name": "ProgressView",
      "bar_style": "",
      "description": "",
      "description_tooltip": null,
      "layout": "IPY_MODEL_08b8dc02bd6342518d6c3ed06aad4196",
      "max": 3126,
      "min": 0,
      "orientation": "horizontal",
      "style": "IPY_MODEL_f6789df63fff4945abf92e14ffe6cb99",
      "value": 3126
     }
    },
    "ebe65f02f66b4c19b7847c01af5e6d0a": {
     "model_module": "@jupyter-widgets/controls",
     "model_module_version": "1.5.0",
     "model_name": "DescriptionStyleModel",
     "state": {
      "_model_module": "@jupyter-widgets/controls",
      "_model_module_version": "1.5.0",
      "_model_name": "DescriptionStyleModel",
      "_view_count": null,
      "_view_module": "@jupyter-widgets/base",
      "_view_module_version": "1.2.0",
      "_view_name": "StyleView",
      "description_width": ""
     }
    },
    "f519b956aa1b45a3b552977a7da173eb": {
     "model_module": "@jupyter-widgets/base",
     "model_module_version": "1.2.0",
     "model_name": "LayoutModel",
     "state": {
      "_model_module": "@jupyter-widgets/base",
      "_model_module_version": "1.2.0",
      "_model_name": "LayoutModel",
      "_view_count": null,
      "_view_module": "@jupyter-widgets/base",
      "_view_module_version": "1.2.0",
      "_view_name": "LayoutView",
      "align_content": null,
      "align_items": null,
      "align_self": null,
      "border": null,
      "bottom": null,
      "display": null,
      "flex": null,
      "flex_flow": null,
      "grid_area": null,
      "grid_auto_columns": null,
      "grid_auto_flow": null,
      "grid_auto_rows": null,
      "grid_column": null,
      "grid_gap": null,
      "grid_row": null,
      "grid_template_areas": null,
      "grid_template_columns": null,
      "grid_template_rows": null,
      "height": null,
      "justify_content": null,
      "justify_items": null,
      "left": null,
      "margin": null,
      "max_height": null,
      "max_width": null,
      "min_height": null,
      "min_width": null,
      "object_fit": null,
      "object_position": null,
      "order": null,
      "overflow": null,
      "overflow_x": null,
      "overflow_y": null,
      "padding": null,
      "right": null,
      "top": null,
      "visibility": null,
      "width": null
     }
    },
    "f6789df63fff4945abf92e14ffe6cb99": {
     "model_module": "@jupyter-widgets/controls",
     "model_module_version": "1.5.0",
     "model_name": "ProgressStyleModel",
     "state": {
      "_model_module": "@jupyter-widgets/controls",
      "_model_module_version": "1.5.0",
      "_model_name": "ProgressStyleModel",
      "_view_count": null,
      "_view_module": "@jupyter-widgets/base",
      "_view_module_version": "1.2.0",
      "_view_name": "StyleView",
      "bar_color": null,
      "description_width": ""
     }
    },
    "fb09d567dba94414b09751f20bc78fd3": {
     "model_module": "@jupyter-widgets/controls",
     "model_module_version": "1.5.0",
     "model_name": "HTMLModel",
     "state": {
      "_dom_classes": [],
      "_model_module": "@jupyter-widgets/controls",
      "_model_module_version": "1.5.0",
      "_model_name": "HTMLModel",
      "_view_count": null,
      "_view_module": "@jupyter-widgets/controls",
      "_view_module_version": "1.5.0",
      "_view_name": "HTMLView",
      "description": "",
      "description_tooltip": null,
      "layout": "IPY_MODEL_2b586dc188434998a6d47e984d1a7d8d",
      "placeholder": "​",
      "style": "IPY_MODEL_ab31e4467f5f4e70b536b8de0675ebb8",
      "value": " 3125/3126 [03:21&lt;00:00, 14.94it/s]"
     }
    }
   }
  }
 },
 "nbformat": 4,
 "nbformat_minor": 4
}
